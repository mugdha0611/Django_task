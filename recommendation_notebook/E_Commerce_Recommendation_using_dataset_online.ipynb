{
  "metadata": {
    "kernelspec": {
      "language": "python",
      "display_name": "Python 3",
      "name": "python3"
    },
    "language_info": {
      "pygments_lexer": "ipython3",
      "nbconvert_exporter": "python",
      "version": "3.6.4",
      "file_extension": ".py",
      "codemirror_mode": {
        "name": "ipython",
        "version": 3
      },
      "name": "python",
      "mimetype": "text/x-python"
    },
    "colab": {
      "provenance": []
    }
  },
  "nbformat_minor": 0,
  "nbformat": 4,
  "cells": [
    {
      "cell_type": "markdown",
      "source": [
        "##Recommendation engine using a dataset found online."
      ],
      "metadata": {
        "id": "PWouyVT6Ex98"
      }
    },
    {
      "source": [
        "\n",
        "import os\n",
        "import sys\n",
        "from tempfile import NamedTemporaryFile\n",
        "from urllib.request import urlopen\n",
        "from urllib.parse import unquote, urlparse\n",
        "from urllib.error import HTTPError\n",
        "from zipfile import ZipFile\n",
        "import tarfile\n",
        "import shutil\n",
        "\n",
        "CHUNK_SIZE = 40960\n",
        "DATA_SOURCE_MAPPING = 'uelstoredataset:https%3A%2F%2Fstorage.googleapis.com%2Fkaggle-data-sets%2F2014458%2F3335493%2Fbundle%2Farchive.zip%3FX-Goog-Algorithm%3DGOOG4-RSA-SHA256%26X-Goog-Credential%3Dgcp-kaggle-com%2540kaggle-161607.iam.gserviceaccount.com%252F20240603%252Fauto%252Fstorage%252Fgoog4_request%26X-Goog-Date%3D20240603T072731Z%26X-Goog-Expires%3D259200%26X-Goog-SignedHeaders%3Dhost%26X-Goog-Signature%3D1b9737c05719873846e22274ff201729177ba4ec9036bfc27d663516b954099ca340f8f2b28abe37aa67b79bcbbb39ec44cf768c0e04ee800f253a4cd5733651c6307babb0cbadbf8c7ae9370c1f3561ab6e2c392694787b0c2209744a425cafe8d6db97a3cd6516dc4afe7af7331033fe6aaadbffdba6c7417537d68df5d9dc5047d4ffcd76c1a4b1921e8cc03153cbaddd2d43b13183b8f3a75a6f9cd785b99ca82dffc48f90948d5a85d5c3830c967b30170e07b89f2ce74e15c8af08a778bee2bd51c9922066e45acb7427bd0764c9a3b5f2eed5869d29c6c7a3bfe538b72cd523fd6df01e1871349df505aa370cbfc873e2112e702d74d1d4aebcb41c96,traintestset:https%3A%2F%2Fstorage.googleapis.com%2Fkaggle-data-sets%2F2438829%2F4127106%2Fbundle%2Farchive.zip%3FX-Goog-Algorithm%3DGOOG4-RSA-SHA256%26X-Goog-Credential%3Dgcp-kaggle-com%2540kaggle-161607.iam.gserviceaccount.com%252F20240603%252Fauto%252Fstorage%252Fgoog4_request%26X-Goog-Date%3D20240603T072731Z%26X-Goog-Expires%3D259200%26X-Goog-SignedHeaders%3Dhost%26X-Goog-Signature%3D23eff58934827ede5773e6a3e5131c11f69a160ade022565ccc3f1e265ccbacece188309741e84a3cd5b76107ad0c48845bc6267f5f2638c3fe1525a720fe30639495ae8eb5b29c9670e7340ac9d1b4d753774f8e601500371781a8393bd0ea8d57cf927506de0a7cb333f7e7bce43d5e95095a7d350317a2919e5dc416a176a4750152046b01ff1ee4387dbd8027a982e84a0eefae0afef9504e5db4ab41726e8a1e67f9a7eba49672a237845bbd5ace196a6e07999c840212fbb77a2aa0eb6ffe8b968036f025c9d6a0d43abd0186c18b005e6895bf35ef67e9c4c693c1d228c20a07546c2f9a9ac0fce8b0f887475b0344f835c4f799f4baa02794e8268e7'\n",
        "\n",
        "KAGGLE_INPUT_PATH='/kaggle/input'\n",
        "KAGGLE_WORKING_PATH='/kaggle/working'\n",
        "KAGGLE_SYMLINK='kaggle'\n",
        "\n",
        "!umount /kaggle/input/ 2> /dev/null\n",
        "shutil.rmtree('/kaggle/input', ignore_errors=True)\n",
        "os.makedirs(KAGGLE_INPUT_PATH, 0o777, exist_ok=True)\n",
        "os.makedirs(KAGGLE_WORKING_PATH, 0o777, exist_ok=True)\n",
        "\n",
        "try:\n",
        "  os.symlink(KAGGLE_INPUT_PATH, os.path.join(\"..\", 'input'), target_is_directory=True)\n",
        "except FileExistsError:\n",
        "  pass\n",
        "try:\n",
        "  os.symlink(KAGGLE_WORKING_PATH, os.path.join(\"..\", 'working'), target_is_directory=True)\n",
        "except FileExistsError:\n",
        "  pass\n",
        "\n",
        "for data_source_mapping in DATA_SOURCE_MAPPING.split(','):\n",
        "    directory, download_url_encoded = data_source_mapping.split(':')\n",
        "    download_url = unquote(download_url_encoded)\n",
        "    filename = urlparse(download_url).path\n",
        "    destination_path = os.path.join(KAGGLE_INPUT_PATH, directory)\n",
        "    try:\n",
        "        with urlopen(download_url) as fileres, NamedTemporaryFile() as tfile:\n",
        "            total_length = fileres.headers['content-length']\n",
        "            print(f'Downloading {directory}, {total_length} bytes compressed')\n",
        "            dl = 0\n",
        "            data = fileres.read(CHUNK_SIZE)\n",
        "            while len(data) > 0:\n",
        "                dl += len(data)\n",
        "                tfile.write(data)\n",
        "                done = int(50 * dl / int(total_length))\n",
        "                sys.stdout.write(f\"\\r[{'=' * done}{' ' * (50-done)}] {dl} bytes downloaded\")\n",
        "                sys.stdout.flush()\n",
        "                data = fileres.read(CHUNK_SIZE)\n",
        "            if filename.endswith('.zip'):\n",
        "              with ZipFile(tfile) as zfile:\n",
        "                zfile.extractall(destination_path)\n",
        "            else:\n",
        "              with tarfile.open(tfile.name) as tarfile:\n",
        "                tarfile.extractall(destination_path)\n",
        "            print(f'\\nDownloaded and uncompressed: {directory}')\n",
        "    except HTTPError as e:\n",
        "        print(f'Failed to load (likely expired) {download_url} to path {destination_path}')\n",
        "        continue\n",
        "    except OSError as e:\n",
        "        print(f'Failed to load {download_url} to path {destination_path}')\n",
        "        continue\n",
        "\n",
        "print('Data source import complete.')\n"
      ],
      "metadata": {
        "id": "jmxTJdZf_x59",
        "outputId": "b9e28856-4232-4f13-83e8-9018e2c6a0e5",
        "colab": {
          "base_uri": "https://localhost:8080/"
        }
      },
      "cell_type": "code",
      "outputs": [
        {
          "output_type": "stream",
          "name": "stdout",
          "text": [
            "Downloading uelstoredataset, 1282217 bytes compressed\n",
            "[==================================================] 1282217 bytes downloaded\n",
            "Downloaded and uncompressed: uelstoredataset\n",
            "Downloading traintestset, 12376248 bytes compressed\n",
            "[==================================================] 12376248 bytes downloaded\n",
            "Downloaded and uncompressed: traintestset\n",
            "Data source import complete.\n"
          ]
        }
      ],
      "execution_count": null
    },
    {
      "cell_type": "markdown",
      "source": [
        "### Dataset Description\n",
        "\n",
        "This dataset is from ecommerce website http://ecom.uelstore.com/\n",
        "3 file datasets with JSon format\n",
        "-678 users (id, nickname)\n",
        "-732 products of all kinds (id, name)\n",
        "-130754 product - reviews (rating, date)\n",
        "\n"
      ],
      "metadata": {
        "id": "6nwDIF--_x6I"
      }
    },
    {
      "cell_type": "code",
      "source": [
        "import numpy as np\n",
        "import pandas as pd\n",
        "\n",
        "import os\n",
        "for dirname, _, filenames in os.walk('/kaggle/input'):\n",
        "    for filename in filenames:\n",
        "        print(os.path.join(dirname, filename))\n"
      ],
      "metadata": {
        "_uuid": "8f2839f25d086af736a60e9eeb907d3b93b6e0e5",
        "_cell_guid": "b1076dfc-b9ad-4769-8c92-a6c4dae69d19",
        "execution": {
          "iopub.status.busy": "2022-08-27T02:19:03.675819Z",
          "iopub.execute_input": "2022-08-27T02:19:03.676565Z",
          "iopub.status.idle": "2022-08-27T02:19:03.721598Z",
          "shell.execute_reply.started": "2022-08-27T02:19:03.67643Z",
          "shell.execute_reply": "2022-08-27T02:19:03.720585Z"
        },
        "trusted": true,
        "id": "SgkhmIZ1_x6N",
        "outputId": "1a98c0d6-958f-4508-942b-e154896a8e9c",
        "colab": {
          "base_uri": "https://localhost:8080/"
        }
      },
      "execution_count": null,
      "outputs": [
        {
          "output_type": "stream",
          "name": "stdout",
          "text": [
            "/kaggle/input/uelstoredataset/customers.json\n",
            "/kaggle/input/uelstoredataset/products.json\n",
            "/kaggle/input/uelstoredataset/ratings.json\n",
            "/kaggle/input/traintestset/Rating_0.7_91608_test.json\n",
            "/kaggle/input/traintestset/Rating_0.2_26087_test.json\n",
            "/kaggle/input/traintestset/Rating_0.4_52428_test.json\n",
            "/kaggle/input/traintestset/Rating_0.6_52178_train.json\n",
            "/kaggle/input/traintestset/Rating_0.9_12940_train.json\n",
            "/kaggle/input/traintestset/Rating_0.2_104667_train.json\n",
            "/kaggle/input/traintestset/Rating_0.8_104567_test.json\n",
            "/kaggle/input/traintestset/Rating_0.4_78326_train.json\n",
            "/kaggle/input/traintestset/Rating_0.1_117671_train.json\n",
            "/kaggle/input/traintestset/Rating_0.3_39153_test.json\n",
            "/kaggle/input/traintestset/Rating_0.5_65486_test.json\n",
            "/kaggle/input/traintestset/Rating_0.7_39146_train.json\n",
            "/kaggle/input/traintestset/Rating_0.1_13083_test.json\n",
            "/kaggle/input/traintestset/Rating_0.9_117814_test.json\n",
            "/kaggle/input/traintestset/Rating_0.6_78576_test.json\n",
            "/kaggle/input/traintestset/Rating_0.3_91601_train.json\n",
            "/kaggle/input/traintestset/Rating_0.8_26187_train.json\n",
            "/kaggle/input/traintestset/Rating_0.5_65268_train.json\n"
          ]
        }
      ]
    },
    {
      "cell_type": "markdown",
      "source": [
        "## Customers"
      ],
      "metadata": {
        "id": "GScFTh04_x6P"
      }
    },
    {
      "cell_type": "code",
      "source": [
        "customers=pd.read_json(\"../input/uelstoredataset/customers.json\")"
      ],
      "metadata": {
        "execution": {
          "iopub.status.busy": "2022-08-26T14:09:52.280133Z",
          "iopub.execute_input": "2022-08-26T14:09:52.280707Z",
          "iopub.status.idle": "2022-08-26T14:09:52.309869Z",
          "shell.execute_reply.started": "2022-08-26T14:09:52.280657Z",
          "shell.execute_reply": "2022-08-26T14:09:52.308737Z"
        },
        "trusted": true,
        "id": "312aCm4i_x6Q"
      },
      "execution_count": null,
      "outputs": []
    },
    {
      "cell_type": "code",
      "source": [
        "customers.size"
      ],
      "metadata": {
        "execution": {
          "iopub.status.busy": "2022-08-26T14:09:54.237361Z",
          "iopub.execute_input": "2022-08-26T14:09:54.239815Z",
          "iopub.status.idle": "2022-08-26T14:09:54.249954Z",
          "shell.execute_reply.started": "2022-08-26T14:09:54.239767Z",
          "shell.execute_reply": "2022-08-26T14:09:54.248639Z"
        },
        "trusted": true,
        "id": "q0f0iiCi_x6R",
        "outputId": "845cab11-307b-4a2d-e1e1-671adab78d29",
        "colab": {
          "base_uri": "https://localhost:8080/"
        }
      },
      "execution_count": null,
      "outputs": [
        {
          "output_type": "execute_result",
          "data": {
            "text/plain": [
              "1356"
            ]
          },
          "metadata": {},
          "execution_count": 4
        }
      ]
    },
    {
      "cell_type": "code",
      "source": [
        "customers"
      ],
      "metadata": {
        "execution": {
          "iopub.status.busy": "2022-08-26T14:09:56.837229Z",
          "iopub.execute_input": "2022-08-26T14:09:56.837792Z",
          "iopub.status.idle": "2022-08-26T14:09:56.859395Z",
          "shell.execute_reply.started": "2022-08-26T14:09:56.837739Z",
          "shell.execute_reply": "2022-08-26T14:09:56.858513Z"
        },
        "trusted": true,
        "id": "rIHk101R_x6S",
        "outputId": "378cc410-23bc-4b23-b932-5bef92882d8f",
        "colab": {
          "base_uri": "https://localhost:8080/",
          "height": 423
        }
      },
      "execution_count": null,
      "outputs": [
        {
          "output_type": "execute_result",
          "data": {
            "text/plain": [
              "         Id     NickName\n",
              "0    103603  1000kgthanh\n",
              "1    103760  999999999ok\n",
              "2    103829       ac7ive\n",
              "3         1        admin\n",
              "4    103839  ahkk.nguyen\n",
              "..      ...          ...\n",
              "673  103904     yenxaome\n",
              "674  103610     yoneteru\n",
              "675  103718    young.che\n",
              "676   23251    zeatop939\n",
              "677  103957  zHeroNguyen\n",
              "\n",
              "[678 rows x 2 columns]"
            ],
            "text/html": [
              "\n",
              "  <div id=\"df-f32434e4-22ac-4ecc-a729-b7ccf05f9db4\" class=\"colab-df-container\">\n",
              "    <div>\n",
              "<style scoped>\n",
              "    .dataframe tbody tr th:only-of-type {\n",
              "        vertical-align: middle;\n",
              "    }\n",
              "\n",
              "    .dataframe tbody tr th {\n",
              "        vertical-align: top;\n",
              "    }\n",
              "\n",
              "    .dataframe thead th {\n",
              "        text-align: right;\n",
              "    }\n",
              "</style>\n",
              "<table border=\"1\" class=\"dataframe\">\n",
              "  <thead>\n",
              "    <tr style=\"text-align: right;\">\n",
              "      <th></th>\n",
              "      <th>Id</th>\n",
              "      <th>NickName</th>\n",
              "    </tr>\n",
              "  </thead>\n",
              "  <tbody>\n",
              "    <tr>\n",
              "      <th>0</th>\n",
              "      <td>103603</td>\n",
              "      <td>1000kgthanh</td>\n",
              "    </tr>\n",
              "    <tr>\n",
              "      <th>1</th>\n",
              "      <td>103760</td>\n",
              "      <td>999999999ok</td>\n",
              "    </tr>\n",
              "    <tr>\n",
              "      <th>2</th>\n",
              "      <td>103829</td>\n",
              "      <td>ac7ive</td>\n",
              "    </tr>\n",
              "    <tr>\n",
              "      <th>3</th>\n",
              "      <td>1</td>\n",
              "      <td>admin</td>\n",
              "    </tr>\n",
              "    <tr>\n",
              "      <th>4</th>\n",
              "      <td>103839</td>\n",
              "      <td>ahkk.nguyen</td>\n",
              "    </tr>\n",
              "    <tr>\n",
              "      <th>...</th>\n",
              "      <td>...</td>\n",
              "      <td>...</td>\n",
              "    </tr>\n",
              "    <tr>\n",
              "      <th>673</th>\n",
              "      <td>103904</td>\n",
              "      <td>yenxaome</td>\n",
              "    </tr>\n",
              "    <tr>\n",
              "      <th>674</th>\n",
              "      <td>103610</td>\n",
              "      <td>yoneteru</td>\n",
              "    </tr>\n",
              "    <tr>\n",
              "      <th>675</th>\n",
              "      <td>103718</td>\n",
              "      <td>young.che</td>\n",
              "    </tr>\n",
              "    <tr>\n",
              "      <th>676</th>\n",
              "      <td>23251</td>\n",
              "      <td>zeatop939</td>\n",
              "    </tr>\n",
              "    <tr>\n",
              "      <th>677</th>\n",
              "      <td>103957</td>\n",
              "      <td>zHeroNguyen</td>\n",
              "    </tr>\n",
              "  </tbody>\n",
              "</table>\n",
              "<p>678 rows × 2 columns</p>\n",
              "</div>\n",
              "    <div class=\"colab-df-buttons\">\n",
              "\n",
              "  <div class=\"colab-df-container\">\n",
              "    <button class=\"colab-df-convert\" onclick=\"convertToInteractive('df-f32434e4-22ac-4ecc-a729-b7ccf05f9db4')\"\n",
              "            title=\"Convert this dataframe to an interactive table.\"\n",
              "            style=\"display:none;\">\n",
              "\n",
              "  <svg xmlns=\"http://www.w3.org/2000/svg\" height=\"24px\" viewBox=\"0 -960 960 960\">\n",
              "    <path d=\"M120-120v-720h720v720H120Zm60-500h600v-160H180v160Zm220 220h160v-160H400v160Zm0 220h160v-160H400v160ZM180-400h160v-160H180v160Zm440 0h160v-160H620v160ZM180-180h160v-160H180v160Zm440 0h160v-160H620v160Z\"/>\n",
              "  </svg>\n",
              "    </button>\n",
              "\n",
              "  <style>\n",
              "    .colab-df-container {\n",
              "      display:flex;\n",
              "      gap: 12px;\n",
              "    }\n",
              "\n",
              "    .colab-df-convert {\n",
              "      background-color: #E8F0FE;\n",
              "      border: none;\n",
              "      border-radius: 50%;\n",
              "      cursor: pointer;\n",
              "      display: none;\n",
              "      fill: #1967D2;\n",
              "      height: 32px;\n",
              "      padding: 0 0 0 0;\n",
              "      width: 32px;\n",
              "    }\n",
              "\n",
              "    .colab-df-convert:hover {\n",
              "      background-color: #E2EBFA;\n",
              "      box-shadow: 0px 1px 2px rgba(60, 64, 67, 0.3), 0px 1px 3px 1px rgba(60, 64, 67, 0.15);\n",
              "      fill: #174EA6;\n",
              "    }\n",
              "\n",
              "    .colab-df-buttons div {\n",
              "      margin-bottom: 4px;\n",
              "    }\n",
              "\n",
              "    [theme=dark] .colab-df-convert {\n",
              "      background-color: #3B4455;\n",
              "      fill: #D2E3FC;\n",
              "    }\n",
              "\n",
              "    [theme=dark] .colab-df-convert:hover {\n",
              "      background-color: #434B5C;\n",
              "      box-shadow: 0px 1px 3px 1px rgba(0, 0, 0, 0.15);\n",
              "      filter: drop-shadow(0px 1px 2px rgba(0, 0, 0, 0.3));\n",
              "      fill: #FFFFFF;\n",
              "    }\n",
              "  </style>\n",
              "\n",
              "    <script>\n",
              "      const buttonEl =\n",
              "        document.querySelector('#df-f32434e4-22ac-4ecc-a729-b7ccf05f9db4 button.colab-df-convert');\n",
              "      buttonEl.style.display =\n",
              "        google.colab.kernel.accessAllowed ? 'block' : 'none';\n",
              "\n",
              "      async function convertToInteractive(key) {\n",
              "        const element = document.querySelector('#df-f32434e4-22ac-4ecc-a729-b7ccf05f9db4');\n",
              "        const dataTable =\n",
              "          await google.colab.kernel.invokeFunction('convertToInteractive',\n",
              "                                                    [key], {});\n",
              "        if (!dataTable) return;\n",
              "\n",
              "        const docLinkHtml = 'Like what you see? Visit the ' +\n",
              "          '<a target=\"_blank\" href=https://colab.research.google.com/notebooks/data_table.ipynb>data table notebook</a>'\n",
              "          + ' to learn more about interactive tables.';\n",
              "        element.innerHTML = '';\n",
              "        dataTable['output_type'] = 'display_data';\n",
              "        await google.colab.output.renderOutput(dataTable, element);\n",
              "        const docLink = document.createElement('div');\n",
              "        docLink.innerHTML = docLinkHtml;\n",
              "        element.appendChild(docLink);\n",
              "      }\n",
              "    </script>\n",
              "  </div>\n",
              "\n",
              "\n",
              "<div id=\"df-e7e946b3-c9b7-4310-b205-15a6d9d408cd\">\n",
              "  <button class=\"colab-df-quickchart\" onclick=\"quickchart('df-e7e946b3-c9b7-4310-b205-15a6d9d408cd')\"\n",
              "            title=\"Suggest charts\"\n",
              "            style=\"display:none;\">\n",
              "\n",
              "<svg xmlns=\"http://www.w3.org/2000/svg\" height=\"24px\"viewBox=\"0 0 24 24\"\n",
              "     width=\"24px\">\n",
              "    <g>\n",
              "        <path d=\"M19 3H5c-1.1 0-2 .9-2 2v14c0 1.1.9 2 2 2h14c1.1 0 2-.9 2-2V5c0-1.1-.9-2-2-2zM9 17H7v-7h2v7zm4 0h-2V7h2v10zm4 0h-2v-4h2v4z\"/>\n",
              "    </g>\n",
              "</svg>\n",
              "  </button>\n",
              "\n",
              "<style>\n",
              "  .colab-df-quickchart {\n",
              "      --bg-color: #E8F0FE;\n",
              "      --fill-color: #1967D2;\n",
              "      --hover-bg-color: #E2EBFA;\n",
              "      --hover-fill-color: #174EA6;\n",
              "      --disabled-fill-color: #AAA;\n",
              "      --disabled-bg-color: #DDD;\n",
              "  }\n",
              "\n",
              "  [theme=dark] .colab-df-quickchart {\n",
              "      --bg-color: #3B4455;\n",
              "      --fill-color: #D2E3FC;\n",
              "      --hover-bg-color: #434B5C;\n",
              "      --hover-fill-color: #FFFFFF;\n",
              "      --disabled-bg-color: #3B4455;\n",
              "      --disabled-fill-color: #666;\n",
              "  }\n",
              "\n",
              "  .colab-df-quickchart {\n",
              "    background-color: var(--bg-color);\n",
              "    border: none;\n",
              "    border-radius: 50%;\n",
              "    cursor: pointer;\n",
              "    display: none;\n",
              "    fill: var(--fill-color);\n",
              "    height: 32px;\n",
              "    padding: 0;\n",
              "    width: 32px;\n",
              "  }\n",
              "\n",
              "  .colab-df-quickchart:hover {\n",
              "    background-color: var(--hover-bg-color);\n",
              "    box-shadow: 0 1px 2px rgba(60, 64, 67, 0.3), 0 1px 3px 1px rgba(60, 64, 67, 0.15);\n",
              "    fill: var(--button-hover-fill-color);\n",
              "  }\n",
              "\n",
              "  .colab-df-quickchart-complete:disabled,\n",
              "  .colab-df-quickchart-complete:disabled:hover {\n",
              "    background-color: var(--disabled-bg-color);\n",
              "    fill: var(--disabled-fill-color);\n",
              "    box-shadow: none;\n",
              "  }\n",
              "\n",
              "  .colab-df-spinner {\n",
              "    border: 2px solid var(--fill-color);\n",
              "    border-color: transparent;\n",
              "    border-bottom-color: var(--fill-color);\n",
              "    animation:\n",
              "      spin 1s steps(1) infinite;\n",
              "  }\n",
              "\n",
              "  @keyframes spin {\n",
              "    0% {\n",
              "      border-color: transparent;\n",
              "      border-bottom-color: var(--fill-color);\n",
              "      border-left-color: var(--fill-color);\n",
              "    }\n",
              "    20% {\n",
              "      border-color: transparent;\n",
              "      border-left-color: var(--fill-color);\n",
              "      border-top-color: var(--fill-color);\n",
              "    }\n",
              "    30% {\n",
              "      border-color: transparent;\n",
              "      border-left-color: var(--fill-color);\n",
              "      border-top-color: var(--fill-color);\n",
              "      border-right-color: var(--fill-color);\n",
              "    }\n",
              "    40% {\n",
              "      border-color: transparent;\n",
              "      border-right-color: var(--fill-color);\n",
              "      border-top-color: var(--fill-color);\n",
              "    }\n",
              "    60% {\n",
              "      border-color: transparent;\n",
              "      border-right-color: var(--fill-color);\n",
              "    }\n",
              "    80% {\n",
              "      border-color: transparent;\n",
              "      border-right-color: var(--fill-color);\n",
              "      border-bottom-color: var(--fill-color);\n",
              "    }\n",
              "    90% {\n",
              "      border-color: transparent;\n",
              "      border-bottom-color: var(--fill-color);\n",
              "    }\n",
              "  }\n",
              "</style>\n",
              "\n",
              "  <script>\n",
              "    async function quickchart(key) {\n",
              "      const quickchartButtonEl =\n",
              "        document.querySelector('#' + key + ' button');\n",
              "      quickchartButtonEl.disabled = true;  // To prevent multiple clicks.\n",
              "      quickchartButtonEl.classList.add('colab-df-spinner');\n",
              "      try {\n",
              "        const charts = await google.colab.kernel.invokeFunction(\n",
              "            'suggestCharts', [key], {});\n",
              "      } catch (error) {\n",
              "        console.error('Error during call to suggestCharts:', error);\n",
              "      }\n",
              "      quickchartButtonEl.classList.remove('colab-df-spinner');\n",
              "      quickchartButtonEl.classList.add('colab-df-quickchart-complete');\n",
              "    }\n",
              "    (() => {\n",
              "      let quickchartButtonEl =\n",
              "        document.querySelector('#df-e7e946b3-c9b7-4310-b205-15a6d9d408cd button');\n",
              "      quickchartButtonEl.style.display =\n",
              "        google.colab.kernel.accessAllowed ? 'block' : 'none';\n",
              "    })();\n",
              "  </script>\n",
              "</div>\n",
              "\n",
              "  <div id=\"id_c4d2c173-bfd8-435d-90f6-f775b5cf0eb0\">\n",
              "    <style>\n",
              "      .colab-df-generate {\n",
              "        background-color: #E8F0FE;\n",
              "        border: none;\n",
              "        border-radius: 50%;\n",
              "        cursor: pointer;\n",
              "        display: none;\n",
              "        fill: #1967D2;\n",
              "        height: 32px;\n",
              "        padding: 0 0 0 0;\n",
              "        width: 32px;\n",
              "      }\n",
              "\n",
              "      .colab-df-generate:hover {\n",
              "        background-color: #E2EBFA;\n",
              "        box-shadow: 0px 1px 2px rgba(60, 64, 67, 0.3), 0px 1px 3px 1px rgba(60, 64, 67, 0.15);\n",
              "        fill: #174EA6;\n",
              "      }\n",
              "\n",
              "      [theme=dark] .colab-df-generate {\n",
              "        background-color: #3B4455;\n",
              "        fill: #D2E3FC;\n",
              "      }\n",
              "\n",
              "      [theme=dark] .colab-df-generate:hover {\n",
              "        background-color: #434B5C;\n",
              "        box-shadow: 0px 1px 3px 1px rgba(0, 0, 0, 0.15);\n",
              "        filter: drop-shadow(0px 1px 2px rgba(0, 0, 0, 0.3));\n",
              "        fill: #FFFFFF;\n",
              "      }\n",
              "    </style>\n",
              "    <button class=\"colab-df-generate\" onclick=\"generateWithVariable('customers')\"\n",
              "            title=\"Generate code using this dataframe.\"\n",
              "            style=\"display:none;\">\n",
              "\n",
              "  <svg xmlns=\"http://www.w3.org/2000/svg\" height=\"24px\"viewBox=\"0 0 24 24\"\n",
              "       width=\"24px\">\n",
              "    <path d=\"M7,19H8.4L18.45,9,17,7.55,7,17.6ZM5,21V16.75L18.45,3.32a2,2,0,0,1,2.83,0l1.4,1.43a1.91,1.91,0,0,1,.58,1.4,1.91,1.91,0,0,1-.58,1.4L9.25,21ZM18.45,9,17,7.55Zm-12,3A5.31,5.31,0,0,0,4.9,8.1,5.31,5.31,0,0,0,1,6.5,5.31,5.31,0,0,0,4.9,4.9,5.31,5.31,0,0,0,6.5,1,5.31,5.31,0,0,0,8.1,4.9,5.31,5.31,0,0,0,12,6.5,5.46,5.46,0,0,0,6.5,12Z\"/>\n",
              "  </svg>\n",
              "    </button>\n",
              "    <script>\n",
              "      (() => {\n",
              "      const buttonEl =\n",
              "        document.querySelector('#id_c4d2c173-bfd8-435d-90f6-f775b5cf0eb0 button.colab-df-generate');\n",
              "      buttonEl.style.display =\n",
              "        google.colab.kernel.accessAllowed ? 'block' : 'none';\n",
              "\n",
              "      buttonEl.onclick = () => {\n",
              "        google.colab.notebook.generateWithVariable('customers');\n",
              "      }\n",
              "      })();\n",
              "    </script>\n",
              "  </div>\n",
              "\n",
              "    </div>\n",
              "  </div>\n"
            ],
            "application/vnd.google.colaboratory.intrinsic+json": {
              "type": "dataframe",
              "variable_name": "customers",
              "summary": "{\n  \"name\": \"customers\",\n  \"rows\": 678,\n  \"fields\": [\n    {\n      \"column\": \"Id\",\n      \"properties\": {\n        \"dtype\": \"number\",\n        \"std\": 18944,\n        \"min\": 1,\n        \"max\": 103997,\n        \"num_unique_values\": 678,\n        \"samples\": [\n          14906,\n          103513,\n          103326\n        ],\n        \"semantic_type\": \"\",\n        \"description\": \"\"\n      }\n    },\n    {\n      \"column\": \"NickName\",\n      \"properties\": {\n        \"dtype\": \"string\",\n        \"num_unique_values\": 678,\n        \"samples\": [\n          \"vntt1234\",\n          \"ncccuong\",\n          \"chuotk0i\"\n        ],\n        \"semantic_type\": \"\",\n        \"description\": \"\"\n      }\n    }\n  ]\n}"
            }
          },
          "metadata": {},
          "execution_count": 5
        }
      ]
    },
    {
      "cell_type": "markdown",
      "source": [
        "## Products"
      ],
      "metadata": {
        "id": "ZCKadtXG_x6U"
      }
    },
    {
      "cell_type": "code",
      "source": [
        "products=pd.read_json(\"../input/uelstoredataset/products.json\")"
      ],
      "metadata": {
        "execution": {
          "iopub.status.busy": "2022-08-26T14:09:59.029794Z",
          "iopub.execute_input": "2022-08-26T14:09:59.030215Z",
          "iopub.status.idle": "2022-08-26T14:09:59.0474Z",
          "shell.execute_reply.started": "2022-08-26T14:09:59.030181Z",
          "shell.execute_reply": "2022-08-26T14:09:59.046575Z"
        },
        "trusted": true,
        "id": "uhkz4cIv_x6V"
      },
      "execution_count": null,
      "outputs": []
    },
    {
      "cell_type": "code",
      "source": [
        "products"
      ],
      "metadata": {
        "execution": {
          "iopub.status.busy": "2022-08-26T14:10:00.981042Z",
          "iopub.execute_input": "2022-08-26T14:10:00.981447Z",
          "iopub.status.idle": "2022-08-26T14:10:00.997353Z",
          "shell.execute_reply.started": "2022-08-26T14:10:00.981395Z",
          "shell.execute_reply": "2022-08-26T14:10:00.996287Z"
        },
        "trusted": true,
        "id": "HkviGavs_x6X",
        "outputId": "beaae198-1086-4cff-9855-60374b5e3b95",
        "colab": {
          "base_uri": "https://localhost:8080/",
          "height": 423
        }
      },
      "execution_count": null,
      "outputs": [
        {
          "output_type": "execute_result",
          "data": {
            "text/plain": [
              "      Id                                            Name  UnitPrice\n",
              "0      1                         Build your own computer     1200.0\n",
              "1      2  Digital Storm VANQUISH 3 Custom Performance PC     1259.0\n",
              "2      3             Lenovo IdeaCentre 600 All-in-One PC      500.0\n",
              "3      4                       Apple MacBook Pro 13-inch     1800.0\n",
              "4      5                       Asus N551JK-XO076H Laptop     1500.0\n",
              "..   ...                                             ...        ...\n",
              "686  687                                        Bird Box        1.0\n",
              "687  688                                     Snowpiercer        2.0\n",
              "688  689                                Edge of Tomorrow        1.0\n",
              "689  690                                           Ponyo        3.0\n",
              "690  691                                     Escape Room        4.0\n",
              "\n",
              "[691 rows x 3 columns]"
            ],
            "text/html": [
              "\n",
              "  <div id=\"df-287d5909-ad51-42db-86b1-158d52104984\" class=\"colab-df-container\">\n",
              "    <div>\n",
              "<style scoped>\n",
              "    .dataframe tbody tr th:only-of-type {\n",
              "        vertical-align: middle;\n",
              "    }\n",
              "\n",
              "    .dataframe tbody tr th {\n",
              "        vertical-align: top;\n",
              "    }\n",
              "\n",
              "    .dataframe thead th {\n",
              "        text-align: right;\n",
              "    }\n",
              "</style>\n",
              "<table border=\"1\" class=\"dataframe\">\n",
              "  <thead>\n",
              "    <tr style=\"text-align: right;\">\n",
              "      <th></th>\n",
              "      <th>Id</th>\n",
              "      <th>Name</th>\n",
              "      <th>UnitPrice</th>\n",
              "    </tr>\n",
              "  </thead>\n",
              "  <tbody>\n",
              "    <tr>\n",
              "      <th>0</th>\n",
              "      <td>1</td>\n",
              "      <td>Build your own computer</td>\n",
              "      <td>1200.0</td>\n",
              "    </tr>\n",
              "    <tr>\n",
              "      <th>1</th>\n",
              "      <td>2</td>\n",
              "      <td>Digital Storm VANQUISH 3 Custom Performance PC</td>\n",
              "      <td>1259.0</td>\n",
              "    </tr>\n",
              "    <tr>\n",
              "      <th>2</th>\n",
              "      <td>3</td>\n",
              "      <td>Lenovo IdeaCentre 600 All-in-One PC</td>\n",
              "      <td>500.0</td>\n",
              "    </tr>\n",
              "    <tr>\n",
              "      <th>3</th>\n",
              "      <td>4</td>\n",
              "      <td>Apple MacBook Pro 13-inch</td>\n",
              "      <td>1800.0</td>\n",
              "    </tr>\n",
              "    <tr>\n",
              "      <th>4</th>\n",
              "      <td>5</td>\n",
              "      <td>Asus N551JK-XO076H Laptop</td>\n",
              "      <td>1500.0</td>\n",
              "    </tr>\n",
              "    <tr>\n",
              "      <th>...</th>\n",
              "      <td>...</td>\n",
              "      <td>...</td>\n",
              "      <td>...</td>\n",
              "    </tr>\n",
              "    <tr>\n",
              "      <th>686</th>\n",
              "      <td>687</td>\n",
              "      <td>Bird Box</td>\n",
              "      <td>1.0</td>\n",
              "    </tr>\n",
              "    <tr>\n",
              "      <th>687</th>\n",
              "      <td>688</td>\n",
              "      <td>Snowpiercer</td>\n",
              "      <td>2.0</td>\n",
              "    </tr>\n",
              "    <tr>\n",
              "      <th>688</th>\n",
              "      <td>689</td>\n",
              "      <td>Edge of Tomorrow</td>\n",
              "      <td>1.0</td>\n",
              "    </tr>\n",
              "    <tr>\n",
              "      <th>689</th>\n",
              "      <td>690</td>\n",
              "      <td>Ponyo</td>\n",
              "      <td>3.0</td>\n",
              "    </tr>\n",
              "    <tr>\n",
              "      <th>690</th>\n",
              "      <td>691</td>\n",
              "      <td>Escape Room</td>\n",
              "      <td>4.0</td>\n",
              "    </tr>\n",
              "  </tbody>\n",
              "</table>\n",
              "<p>691 rows × 3 columns</p>\n",
              "</div>\n",
              "    <div class=\"colab-df-buttons\">\n",
              "\n",
              "  <div class=\"colab-df-container\">\n",
              "    <button class=\"colab-df-convert\" onclick=\"convertToInteractive('df-287d5909-ad51-42db-86b1-158d52104984')\"\n",
              "            title=\"Convert this dataframe to an interactive table.\"\n",
              "            style=\"display:none;\">\n",
              "\n",
              "  <svg xmlns=\"http://www.w3.org/2000/svg\" height=\"24px\" viewBox=\"0 -960 960 960\">\n",
              "    <path d=\"M120-120v-720h720v720H120Zm60-500h600v-160H180v160Zm220 220h160v-160H400v160Zm0 220h160v-160H400v160ZM180-400h160v-160H180v160Zm440 0h160v-160H620v160ZM180-180h160v-160H180v160Zm440 0h160v-160H620v160Z\"/>\n",
              "  </svg>\n",
              "    </button>\n",
              "\n",
              "  <style>\n",
              "    .colab-df-container {\n",
              "      display:flex;\n",
              "      gap: 12px;\n",
              "    }\n",
              "\n",
              "    .colab-df-convert {\n",
              "      background-color: #E8F0FE;\n",
              "      border: none;\n",
              "      border-radius: 50%;\n",
              "      cursor: pointer;\n",
              "      display: none;\n",
              "      fill: #1967D2;\n",
              "      height: 32px;\n",
              "      padding: 0 0 0 0;\n",
              "      width: 32px;\n",
              "    }\n",
              "\n",
              "    .colab-df-convert:hover {\n",
              "      background-color: #E2EBFA;\n",
              "      box-shadow: 0px 1px 2px rgba(60, 64, 67, 0.3), 0px 1px 3px 1px rgba(60, 64, 67, 0.15);\n",
              "      fill: #174EA6;\n",
              "    }\n",
              "\n",
              "    .colab-df-buttons div {\n",
              "      margin-bottom: 4px;\n",
              "    }\n",
              "\n",
              "    [theme=dark] .colab-df-convert {\n",
              "      background-color: #3B4455;\n",
              "      fill: #D2E3FC;\n",
              "    }\n",
              "\n",
              "    [theme=dark] .colab-df-convert:hover {\n",
              "      background-color: #434B5C;\n",
              "      box-shadow: 0px 1px 3px 1px rgba(0, 0, 0, 0.15);\n",
              "      filter: drop-shadow(0px 1px 2px rgba(0, 0, 0, 0.3));\n",
              "      fill: #FFFFFF;\n",
              "    }\n",
              "  </style>\n",
              "\n",
              "    <script>\n",
              "      const buttonEl =\n",
              "        document.querySelector('#df-287d5909-ad51-42db-86b1-158d52104984 button.colab-df-convert');\n",
              "      buttonEl.style.display =\n",
              "        google.colab.kernel.accessAllowed ? 'block' : 'none';\n",
              "\n",
              "      async function convertToInteractive(key) {\n",
              "        const element = document.querySelector('#df-287d5909-ad51-42db-86b1-158d52104984');\n",
              "        const dataTable =\n",
              "          await google.colab.kernel.invokeFunction('convertToInteractive',\n",
              "                                                    [key], {});\n",
              "        if (!dataTable) return;\n",
              "\n",
              "        const docLinkHtml = 'Like what you see? Visit the ' +\n",
              "          '<a target=\"_blank\" href=https://colab.research.google.com/notebooks/data_table.ipynb>data table notebook</a>'\n",
              "          + ' to learn more about interactive tables.';\n",
              "        element.innerHTML = '';\n",
              "        dataTable['output_type'] = 'display_data';\n",
              "        await google.colab.output.renderOutput(dataTable, element);\n",
              "        const docLink = document.createElement('div');\n",
              "        docLink.innerHTML = docLinkHtml;\n",
              "        element.appendChild(docLink);\n",
              "      }\n",
              "    </script>\n",
              "  </div>\n",
              "\n",
              "\n",
              "<div id=\"df-b75a6b18-0668-4490-8782-113abb71a2f5\">\n",
              "  <button class=\"colab-df-quickchart\" onclick=\"quickchart('df-b75a6b18-0668-4490-8782-113abb71a2f5')\"\n",
              "            title=\"Suggest charts\"\n",
              "            style=\"display:none;\">\n",
              "\n",
              "<svg xmlns=\"http://www.w3.org/2000/svg\" height=\"24px\"viewBox=\"0 0 24 24\"\n",
              "     width=\"24px\">\n",
              "    <g>\n",
              "        <path d=\"M19 3H5c-1.1 0-2 .9-2 2v14c0 1.1.9 2 2 2h14c1.1 0 2-.9 2-2V5c0-1.1-.9-2-2-2zM9 17H7v-7h2v7zm4 0h-2V7h2v10zm4 0h-2v-4h2v4z\"/>\n",
              "    </g>\n",
              "</svg>\n",
              "  </button>\n",
              "\n",
              "<style>\n",
              "  .colab-df-quickchart {\n",
              "      --bg-color: #E8F0FE;\n",
              "      --fill-color: #1967D2;\n",
              "      --hover-bg-color: #E2EBFA;\n",
              "      --hover-fill-color: #174EA6;\n",
              "      --disabled-fill-color: #AAA;\n",
              "      --disabled-bg-color: #DDD;\n",
              "  }\n",
              "\n",
              "  [theme=dark] .colab-df-quickchart {\n",
              "      --bg-color: #3B4455;\n",
              "      --fill-color: #D2E3FC;\n",
              "      --hover-bg-color: #434B5C;\n",
              "      --hover-fill-color: #FFFFFF;\n",
              "      --disabled-bg-color: #3B4455;\n",
              "      --disabled-fill-color: #666;\n",
              "  }\n",
              "\n",
              "  .colab-df-quickchart {\n",
              "    background-color: var(--bg-color);\n",
              "    border: none;\n",
              "    border-radius: 50%;\n",
              "    cursor: pointer;\n",
              "    display: none;\n",
              "    fill: var(--fill-color);\n",
              "    height: 32px;\n",
              "    padding: 0;\n",
              "    width: 32px;\n",
              "  }\n",
              "\n",
              "  .colab-df-quickchart:hover {\n",
              "    background-color: var(--hover-bg-color);\n",
              "    box-shadow: 0 1px 2px rgba(60, 64, 67, 0.3), 0 1px 3px 1px rgba(60, 64, 67, 0.15);\n",
              "    fill: var(--button-hover-fill-color);\n",
              "  }\n",
              "\n",
              "  .colab-df-quickchart-complete:disabled,\n",
              "  .colab-df-quickchart-complete:disabled:hover {\n",
              "    background-color: var(--disabled-bg-color);\n",
              "    fill: var(--disabled-fill-color);\n",
              "    box-shadow: none;\n",
              "  }\n",
              "\n",
              "  .colab-df-spinner {\n",
              "    border: 2px solid var(--fill-color);\n",
              "    border-color: transparent;\n",
              "    border-bottom-color: var(--fill-color);\n",
              "    animation:\n",
              "      spin 1s steps(1) infinite;\n",
              "  }\n",
              "\n",
              "  @keyframes spin {\n",
              "    0% {\n",
              "      border-color: transparent;\n",
              "      border-bottom-color: var(--fill-color);\n",
              "      border-left-color: var(--fill-color);\n",
              "    }\n",
              "    20% {\n",
              "      border-color: transparent;\n",
              "      border-left-color: var(--fill-color);\n",
              "      border-top-color: var(--fill-color);\n",
              "    }\n",
              "    30% {\n",
              "      border-color: transparent;\n",
              "      border-left-color: var(--fill-color);\n",
              "      border-top-color: var(--fill-color);\n",
              "      border-right-color: var(--fill-color);\n",
              "    }\n",
              "    40% {\n",
              "      border-color: transparent;\n",
              "      border-right-color: var(--fill-color);\n",
              "      border-top-color: var(--fill-color);\n",
              "    }\n",
              "    60% {\n",
              "      border-color: transparent;\n",
              "      border-right-color: var(--fill-color);\n",
              "    }\n",
              "    80% {\n",
              "      border-color: transparent;\n",
              "      border-right-color: var(--fill-color);\n",
              "      border-bottom-color: var(--fill-color);\n",
              "    }\n",
              "    90% {\n",
              "      border-color: transparent;\n",
              "      border-bottom-color: var(--fill-color);\n",
              "    }\n",
              "  }\n",
              "</style>\n",
              "\n",
              "  <script>\n",
              "    async function quickchart(key) {\n",
              "      const quickchartButtonEl =\n",
              "        document.querySelector('#' + key + ' button');\n",
              "      quickchartButtonEl.disabled = true;  // To prevent multiple clicks.\n",
              "      quickchartButtonEl.classList.add('colab-df-spinner');\n",
              "      try {\n",
              "        const charts = await google.colab.kernel.invokeFunction(\n",
              "            'suggestCharts', [key], {});\n",
              "      } catch (error) {\n",
              "        console.error('Error during call to suggestCharts:', error);\n",
              "      }\n",
              "      quickchartButtonEl.classList.remove('colab-df-spinner');\n",
              "      quickchartButtonEl.classList.add('colab-df-quickchart-complete');\n",
              "    }\n",
              "    (() => {\n",
              "      let quickchartButtonEl =\n",
              "        document.querySelector('#df-b75a6b18-0668-4490-8782-113abb71a2f5 button');\n",
              "      quickchartButtonEl.style.display =\n",
              "        google.colab.kernel.accessAllowed ? 'block' : 'none';\n",
              "    })();\n",
              "  </script>\n",
              "</div>\n",
              "\n",
              "  <div id=\"id_f9c22eb9-09dc-437b-bab7-774c4bb5d15a\">\n",
              "    <style>\n",
              "      .colab-df-generate {\n",
              "        background-color: #E8F0FE;\n",
              "        border: none;\n",
              "        border-radius: 50%;\n",
              "        cursor: pointer;\n",
              "        display: none;\n",
              "        fill: #1967D2;\n",
              "        height: 32px;\n",
              "        padding: 0 0 0 0;\n",
              "        width: 32px;\n",
              "      }\n",
              "\n",
              "      .colab-df-generate:hover {\n",
              "        background-color: #E2EBFA;\n",
              "        box-shadow: 0px 1px 2px rgba(60, 64, 67, 0.3), 0px 1px 3px 1px rgba(60, 64, 67, 0.15);\n",
              "        fill: #174EA6;\n",
              "      }\n",
              "\n",
              "      [theme=dark] .colab-df-generate {\n",
              "        background-color: #3B4455;\n",
              "        fill: #D2E3FC;\n",
              "      }\n",
              "\n",
              "      [theme=dark] .colab-df-generate:hover {\n",
              "        background-color: #434B5C;\n",
              "        box-shadow: 0px 1px 3px 1px rgba(0, 0, 0, 0.15);\n",
              "        filter: drop-shadow(0px 1px 2px rgba(0, 0, 0, 0.3));\n",
              "        fill: #FFFFFF;\n",
              "      }\n",
              "    </style>\n",
              "    <button class=\"colab-df-generate\" onclick=\"generateWithVariable('products')\"\n",
              "            title=\"Generate code using this dataframe.\"\n",
              "            style=\"display:none;\">\n",
              "\n",
              "  <svg xmlns=\"http://www.w3.org/2000/svg\" height=\"24px\"viewBox=\"0 0 24 24\"\n",
              "       width=\"24px\">\n",
              "    <path d=\"M7,19H8.4L18.45,9,17,7.55,7,17.6ZM5,21V16.75L18.45,3.32a2,2,0,0,1,2.83,0l1.4,1.43a1.91,1.91,0,0,1,.58,1.4,1.91,1.91,0,0,1-.58,1.4L9.25,21ZM18.45,9,17,7.55Zm-12,3A5.31,5.31,0,0,0,4.9,8.1,5.31,5.31,0,0,0,1,6.5,5.31,5.31,0,0,0,4.9,4.9,5.31,5.31,0,0,0,6.5,1,5.31,5.31,0,0,0,8.1,4.9,5.31,5.31,0,0,0,12,6.5,5.46,5.46,0,0,0,6.5,12Z\"/>\n",
              "  </svg>\n",
              "    </button>\n",
              "    <script>\n",
              "      (() => {\n",
              "      const buttonEl =\n",
              "        document.querySelector('#id_f9c22eb9-09dc-437b-bab7-774c4bb5d15a button.colab-df-generate');\n",
              "      buttonEl.style.display =\n",
              "        google.colab.kernel.accessAllowed ? 'block' : 'none';\n",
              "\n",
              "      buttonEl.onclick = () => {\n",
              "        google.colab.notebook.generateWithVariable('products');\n",
              "      }\n",
              "      })();\n",
              "    </script>\n",
              "  </div>\n",
              "\n",
              "    </div>\n",
              "  </div>\n"
            ],
            "application/vnd.google.colaboratory.intrinsic+json": {
              "type": "dataframe",
              "variable_name": "products",
              "summary": "{\n  \"name\": \"products\",\n  \"rows\": 691,\n  \"fields\": [\n    {\n      \"column\": \"Id\",\n      \"properties\": {\n        \"dtype\": \"number\",\n        \"std\": 199,\n        \"min\": 1,\n        \"max\": 691,\n        \"num_unique_values\": 691,\n        \"samples\": [\n          381,\n          676,\n          258\n        ],\n        \"semantic_type\": \"\",\n        \"description\": \"\"\n      }\n    },\n    {\n      \"column\": \"Name\",\n      \"properties\": {\n        \"dtype\": \"string\",\n        \"num_unique_values\": 625,\n        \"samples\": [\n          \"Opal Necklace Diamond Accent 10K Rose Gold 18\\\"\",\n          \"Unstoppable Love Necklace 1/2 ct tw 10K White Gold 19\\\"\",\n          \"Diamond Promise Ring 1/6 ct tw Round-cut 10K Yellow Gold\"\n        ],\n        \"semantic_type\": \"\",\n        \"description\": \"\"\n      }\n    },\n    {\n      \"column\": \"UnitPrice\",\n      \"properties\": {\n        \"dtype\": \"number\",\n        \"std\": 2731.9692373212984,\n        \"min\": 0.0,\n        \"max\": 47297.0,\n        \"num_unique_values\": 254,\n        \"samples\": [\n          200.0,\n          1350.0,\n          1070.0\n        ],\n        \"semantic_type\": \"\",\n        \"description\": \"\"\n      }\n    }\n  ]\n}"
            }
          },
          "metadata": {},
          "execution_count": 7
        }
      ]
    },
    {
      "cell_type": "code",
      "source": [
        "products.size"
      ],
      "metadata": {
        "execution": {
          "iopub.status.busy": "2022-06-06T04:55:29.878574Z",
          "iopub.execute_input": "2022-06-06T04:55:29.878968Z",
          "iopub.status.idle": "2022-06-06T04:55:29.885306Z",
          "shell.execute_reply.started": "2022-06-06T04:55:29.878937Z",
          "shell.execute_reply": "2022-06-06T04:55:29.884359Z"
        },
        "trusted": true,
        "id": "kmkoiayL_x6Y",
        "outputId": "602b5f91-3fd0-4645-ffb8-0735222466d7",
        "colab": {
          "base_uri": "https://localhost:8080/"
        }
      },
      "execution_count": null,
      "outputs": [
        {
          "output_type": "execute_result",
          "data": {
            "text/plain": [
              "2073"
            ]
          },
          "metadata": {},
          "execution_count": 8
        }
      ]
    },
    {
      "cell_type": "markdown",
      "source": [
        "##Ratings"
      ],
      "metadata": {
        "id": "r46M1CP3_x6Z"
      }
    },
    {
      "cell_type": "code",
      "source": [
        "ratings=pd.read_json(\"../input/uelstoredataset/ratings.json\")"
      ],
      "metadata": {
        "execution": {
          "iopub.status.busy": "2022-08-27T07:37:40.281045Z",
          "iopub.execute_input": "2022-08-27T07:37:40.281512Z",
          "iopub.status.idle": "2022-08-27T07:37:40.869847Z",
          "shell.execute_reply.started": "2022-08-27T07:37:40.281478Z",
          "shell.execute_reply": "2022-08-27T07:37:40.868816Z"
        },
        "trusted": true,
        "id": "_wHKlHkc_x6a"
      },
      "execution_count": null,
      "outputs": []
    },
    {
      "cell_type": "code",
      "source": [
        "ratings"
      ],
      "metadata": {
        "execution": {
          "iopub.status.busy": "2022-08-26T14:49:31.951855Z",
          "iopub.execute_input": "2022-08-26T14:49:31.952582Z",
          "iopub.status.idle": "2022-08-26T14:49:31.973668Z",
          "shell.execute_reply.started": "2022-08-26T14:49:31.952498Z",
          "shell.execute_reply": "2022-08-26T14:49:31.972541Z"
        },
        "trusted": true,
        "id": "GktTarJV_x6b",
        "outputId": "e052ef33-4d79-4038-ea9e-7dd37071e4b2",
        "colab": {
          "base_uri": "https://localhost:8080/",
          "height": 423
        }
      },
      "execution_count": null,
      "outputs": [
        {
          "output_type": "execute_result",
          "data": {
            "text/plain": [
              "        CustomerID  ProductID  Rate           CreateDate\n",
              "0           103416        619     1  2018/01/01 01:36:30\n",
              "1           103654        411     1  2018/01/01 01:36:35\n",
              "2           103954        298     3  2018/01/01 01:36:38\n",
              "3           103672        361     5  2018/01/01 01:37:15\n",
              "4           103960        536     5  2018/01/01 02:36:25\n",
              "...            ...        ...   ...                  ...\n",
              "130749      103907        501     1  2022/03/16 22:25:10\n",
              "130750      103907        200     1  2022/03/16 22:49:28\n",
              "130751      103907        184     1  2022/03/16 22:53:35\n",
              "130752      103907        211     1  2022/03/16 23:14:47\n",
              "130753      103907        166     1  2022/03/16 23:15:52\n",
              "\n",
              "[130754 rows x 4 columns]"
            ],
            "text/html": [
              "\n",
              "  <div id=\"df-e7512430-da17-4e7b-af2b-793334062ecd\" class=\"colab-df-container\">\n",
              "    <div>\n",
              "<style scoped>\n",
              "    .dataframe tbody tr th:only-of-type {\n",
              "        vertical-align: middle;\n",
              "    }\n",
              "\n",
              "    .dataframe tbody tr th {\n",
              "        vertical-align: top;\n",
              "    }\n",
              "\n",
              "    .dataframe thead th {\n",
              "        text-align: right;\n",
              "    }\n",
              "</style>\n",
              "<table border=\"1\" class=\"dataframe\">\n",
              "  <thead>\n",
              "    <tr style=\"text-align: right;\">\n",
              "      <th></th>\n",
              "      <th>CustomerID</th>\n",
              "      <th>ProductID</th>\n",
              "      <th>Rate</th>\n",
              "      <th>CreateDate</th>\n",
              "    </tr>\n",
              "  </thead>\n",
              "  <tbody>\n",
              "    <tr>\n",
              "      <th>0</th>\n",
              "      <td>103416</td>\n",
              "      <td>619</td>\n",
              "      <td>1</td>\n",
              "      <td>2018/01/01 01:36:30</td>\n",
              "    </tr>\n",
              "    <tr>\n",
              "      <th>1</th>\n",
              "      <td>103654</td>\n",
              "      <td>411</td>\n",
              "      <td>1</td>\n",
              "      <td>2018/01/01 01:36:35</td>\n",
              "    </tr>\n",
              "    <tr>\n",
              "      <th>2</th>\n",
              "      <td>103954</td>\n",
              "      <td>298</td>\n",
              "      <td>3</td>\n",
              "      <td>2018/01/01 01:36:38</td>\n",
              "    </tr>\n",
              "    <tr>\n",
              "      <th>3</th>\n",
              "      <td>103672</td>\n",
              "      <td>361</td>\n",
              "      <td>5</td>\n",
              "      <td>2018/01/01 01:37:15</td>\n",
              "    </tr>\n",
              "    <tr>\n",
              "      <th>4</th>\n",
              "      <td>103960</td>\n",
              "      <td>536</td>\n",
              "      <td>5</td>\n",
              "      <td>2018/01/01 02:36:25</td>\n",
              "    </tr>\n",
              "    <tr>\n",
              "      <th>...</th>\n",
              "      <td>...</td>\n",
              "      <td>...</td>\n",
              "      <td>...</td>\n",
              "      <td>...</td>\n",
              "    </tr>\n",
              "    <tr>\n",
              "      <th>130749</th>\n",
              "      <td>103907</td>\n",
              "      <td>501</td>\n",
              "      <td>1</td>\n",
              "      <td>2022/03/16 22:25:10</td>\n",
              "    </tr>\n",
              "    <tr>\n",
              "      <th>130750</th>\n",
              "      <td>103907</td>\n",
              "      <td>200</td>\n",
              "      <td>1</td>\n",
              "      <td>2022/03/16 22:49:28</td>\n",
              "    </tr>\n",
              "    <tr>\n",
              "      <th>130751</th>\n",
              "      <td>103907</td>\n",
              "      <td>184</td>\n",
              "      <td>1</td>\n",
              "      <td>2022/03/16 22:53:35</td>\n",
              "    </tr>\n",
              "    <tr>\n",
              "      <th>130752</th>\n",
              "      <td>103907</td>\n",
              "      <td>211</td>\n",
              "      <td>1</td>\n",
              "      <td>2022/03/16 23:14:47</td>\n",
              "    </tr>\n",
              "    <tr>\n",
              "      <th>130753</th>\n",
              "      <td>103907</td>\n",
              "      <td>166</td>\n",
              "      <td>1</td>\n",
              "      <td>2022/03/16 23:15:52</td>\n",
              "    </tr>\n",
              "  </tbody>\n",
              "</table>\n",
              "<p>130754 rows × 4 columns</p>\n",
              "</div>\n",
              "    <div class=\"colab-df-buttons\">\n",
              "\n",
              "  <div class=\"colab-df-container\">\n",
              "    <button class=\"colab-df-convert\" onclick=\"convertToInteractive('df-e7512430-da17-4e7b-af2b-793334062ecd')\"\n",
              "            title=\"Convert this dataframe to an interactive table.\"\n",
              "            style=\"display:none;\">\n",
              "\n",
              "  <svg xmlns=\"http://www.w3.org/2000/svg\" height=\"24px\" viewBox=\"0 -960 960 960\">\n",
              "    <path d=\"M120-120v-720h720v720H120Zm60-500h600v-160H180v160Zm220 220h160v-160H400v160Zm0 220h160v-160H400v160ZM180-400h160v-160H180v160Zm440 0h160v-160H620v160ZM180-180h160v-160H180v160Zm440 0h160v-160H620v160Z\"/>\n",
              "  </svg>\n",
              "    </button>\n",
              "\n",
              "  <style>\n",
              "    .colab-df-container {\n",
              "      display:flex;\n",
              "      gap: 12px;\n",
              "    }\n",
              "\n",
              "    .colab-df-convert {\n",
              "      background-color: #E8F0FE;\n",
              "      border: none;\n",
              "      border-radius: 50%;\n",
              "      cursor: pointer;\n",
              "      display: none;\n",
              "      fill: #1967D2;\n",
              "      height: 32px;\n",
              "      padding: 0 0 0 0;\n",
              "      width: 32px;\n",
              "    }\n",
              "\n",
              "    .colab-df-convert:hover {\n",
              "      background-color: #E2EBFA;\n",
              "      box-shadow: 0px 1px 2px rgba(60, 64, 67, 0.3), 0px 1px 3px 1px rgba(60, 64, 67, 0.15);\n",
              "      fill: #174EA6;\n",
              "    }\n",
              "\n",
              "    .colab-df-buttons div {\n",
              "      margin-bottom: 4px;\n",
              "    }\n",
              "\n",
              "    [theme=dark] .colab-df-convert {\n",
              "      background-color: #3B4455;\n",
              "      fill: #D2E3FC;\n",
              "    }\n",
              "\n",
              "    [theme=dark] .colab-df-convert:hover {\n",
              "      background-color: #434B5C;\n",
              "      box-shadow: 0px 1px 3px 1px rgba(0, 0, 0, 0.15);\n",
              "      filter: drop-shadow(0px 1px 2px rgba(0, 0, 0, 0.3));\n",
              "      fill: #FFFFFF;\n",
              "    }\n",
              "  </style>\n",
              "\n",
              "    <script>\n",
              "      const buttonEl =\n",
              "        document.querySelector('#df-e7512430-da17-4e7b-af2b-793334062ecd button.colab-df-convert');\n",
              "      buttonEl.style.display =\n",
              "        google.colab.kernel.accessAllowed ? 'block' : 'none';\n",
              "\n",
              "      async function convertToInteractive(key) {\n",
              "        const element = document.querySelector('#df-e7512430-da17-4e7b-af2b-793334062ecd');\n",
              "        const dataTable =\n",
              "          await google.colab.kernel.invokeFunction('convertToInteractive',\n",
              "                                                    [key], {});\n",
              "        if (!dataTable) return;\n",
              "\n",
              "        const docLinkHtml = 'Like what you see? Visit the ' +\n",
              "          '<a target=\"_blank\" href=https://colab.research.google.com/notebooks/data_table.ipynb>data table notebook</a>'\n",
              "          + ' to learn more about interactive tables.';\n",
              "        element.innerHTML = '';\n",
              "        dataTable['output_type'] = 'display_data';\n",
              "        await google.colab.output.renderOutput(dataTable, element);\n",
              "        const docLink = document.createElement('div');\n",
              "        docLink.innerHTML = docLinkHtml;\n",
              "        element.appendChild(docLink);\n",
              "      }\n",
              "    </script>\n",
              "  </div>\n",
              "\n",
              "\n",
              "<div id=\"df-b88c082f-2ce1-4e59-a2d6-df58799267ce\">\n",
              "  <button class=\"colab-df-quickchart\" onclick=\"quickchart('df-b88c082f-2ce1-4e59-a2d6-df58799267ce')\"\n",
              "            title=\"Suggest charts\"\n",
              "            style=\"display:none;\">\n",
              "\n",
              "<svg xmlns=\"http://www.w3.org/2000/svg\" height=\"24px\"viewBox=\"0 0 24 24\"\n",
              "     width=\"24px\">\n",
              "    <g>\n",
              "        <path d=\"M19 3H5c-1.1 0-2 .9-2 2v14c0 1.1.9 2 2 2h14c1.1 0 2-.9 2-2V5c0-1.1-.9-2-2-2zM9 17H7v-7h2v7zm4 0h-2V7h2v10zm4 0h-2v-4h2v4z\"/>\n",
              "    </g>\n",
              "</svg>\n",
              "  </button>\n",
              "\n",
              "<style>\n",
              "  .colab-df-quickchart {\n",
              "      --bg-color: #E8F0FE;\n",
              "      --fill-color: #1967D2;\n",
              "      --hover-bg-color: #E2EBFA;\n",
              "      --hover-fill-color: #174EA6;\n",
              "      --disabled-fill-color: #AAA;\n",
              "      --disabled-bg-color: #DDD;\n",
              "  }\n",
              "\n",
              "  [theme=dark] .colab-df-quickchart {\n",
              "      --bg-color: #3B4455;\n",
              "      --fill-color: #D2E3FC;\n",
              "      --hover-bg-color: #434B5C;\n",
              "      --hover-fill-color: #FFFFFF;\n",
              "      --disabled-bg-color: #3B4455;\n",
              "      --disabled-fill-color: #666;\n",
              "  }\n",
              "\n",
              "  .colab-df-quickchart {\n",
              "    background-color: var(--bg-color);\n",
              "    border: none;\n",
              "    border-radius: 50%;\n",
              "    cursor: pointer;\n",
              "    display: none;\n",
              "    fill: var(--fill-color);\n",
              "    height: 32px;\n",
              "    padding: 0;\n",
              "    width: 32px;\n",
              "  }\n",
              "\n",
              "  .colab-df-quickchart:hover {\n",
              "    background-color: var(--hover-bg-color);\n",
              "    box-shadow: 0 1px 2px rgba(60, 64, 67, 0.3), 0 1px 3px 1px rgba(60, 64, 67, 0.15);\n",
              "    fill: var(--button-hover-fill-color);\n",
              "  }\n",
              "\n",
              "  .colab-df-quickchart-complete:disabled,\n",
              "  .colab-df-quickchart-complete:disabled:hover {\n",
              "    background-color: var(--disabled-bg-color);\n",
              "    fill: var(--disabled-fill-color);\n",
              "    box-shadow: none;\n",
              "  }\n",
              "\n",
              "  .colab-df-spinner {\n",
              "    border: 2px solid var(--fill-color);\n",
              "    border-color: transparent;\n",
              "    border-bottom-color: var(--fill-color);\n",
              "    animation:\n",
              "      spin 1s steps(1) infinite;\n",
              "  }\n",
              "\n",
              "  @keyframes spin {\n",
              "    0% {\n",
              "      border-color: transparent;\n",
              "      border-bottom-color: var(--fill-color);\n",
              "      border-left-color: var(--fill-color);\n",
              "    }\n",
              "    20% {\n",
              "      border-color: transparent;\n",
              "      border-left-color: var(--fill-color);\n",
              "      border-top-color: var(--fill-color);\n",
              "    }\n",
              "    30% {\n",
              "      border-color: transparent;\n",
              "      border-left-color: var(--fill-color);\n",
              "      border-top-color: var(--fill-color);\n",
              "      border-right-color: var(--fill-color);\n",
              "    }\n",
              "    40% {\n",
              "      border-color: transparent;\n",
              "      border-right-color: var(--fill-color);\n",
              "      border-top-color: var(--fill-color);\n",
              "    }\n",
              "    60% {\n",
              "      border-color: transparent;\n",
              "      border-right-color: var(--fill-color);\n",
              "    }\n",
              "    80% {\n",
              "      border-color: transparent;\n",
              "      border-right-color: var(--fill-color);\n",
              "      border-bottom-color: var(--fill-color);\n",
              "    }\n",
              "    90% {\n",
              "      border-color: transparent;\n",
              "      border-bottom-color: var(--fill-color);\n",
              "    }\n",
              "  }\n",
              "</style>\n",
              "\n",
              "  <script>\n",
              "    async function quickchart(key) {\n",
              "      const quickchartButtonEl =\n",
              "        document.querySelector('#' + key + ' button');\n",
              "      quickchartButtonEl.disabled = true;  // To prevent multiple clicks.\n",
              "      quickchartButtonEl.classList.add('colab-df-spinner');\n",
              "      try {\n",
              "        const charts = await google.colab.kernel.invokeFunction(\n",
              "            'suggestCharts', [key], {});\n",
              "      } catch (error) {\n",
              "        console.error('Error during call to suggestCharts:', error);\n",
              "      }\n",
              "      quickchartButtonEl.classList.remove('colab-df-spinner');\n",
              "      quickchartButtonEl.classList.add('colab-df-quickchart-complete');\n",
              "    }\n",
              "    (() => {\n",
              "      let quickchartButtonEl =\n",
              "        document.querySelector('#df-b88c082f-2ce1-4e59-a2d6-df58799267ce button');\n",
              "      quickchartButtonEl.style.display =\n",
              "        google.colab.kernel.accessAllowed ? 'block' : 'none';\n",
              "    })();\n",
              "  </script>\n",
              "</div>\n",
              "\n",
              "  <div id=\"id_f19f0248-8d6f-450b-bb95-6ac87796bf74\">\n",
              "    <style>\n",
              "      .colab-df-generate {\n",
              "        background-color: #E8F0FE;\n",
              "        border: none;\n",
              "        border-radius: 50%;\n",
              "        cursor: pointer;\n",
              "        display: none;\n",
              "        fill: #1967D2;\n",
              "        height: 32px;\n",
              "        padding: 0 0 0 0;\n",
              "        width: 32px;\n",
              "      }\n",
              "\n",
              "      .colab-df-generate:hover {\n",
              "        background-color: #E2EBFA;\n",
              "        box-shadow: 0px 1px 2px rgba(60, 64, 67, 0.3), 0px 1px 3px 1px rgba(60, 64, 67, 0.15);\n",
              "        fill: #174EA6;\n",
              "      }\n",
              "\n",
              "      [theme=dark] .colab-df-generate {\n",
              "        background-color: #3B4455;\n",
              "        fill: #D2E3FC;\n",
              "      }\n",
              "\n",
              "      [theme=dark] .colab-df-generate:hover {\n",
              "        background-color: #434B5C;\n",
              "        box-shadow: 0px 1px 3px 1px rgba(0, 0, 0, 0.15);\n",
              "        filter: drop-shadow(0px 1px 2px rgba(0, 0, 0, 0.3));\n",
              "        fill: #FFFFFF;\n",
              "      }\n",
              "    </style>\n",
              "    <button class=\"colab-df-generate\" onclick=\"generateWithVariable('ratings')\"\n",
              "            title=\"Generate code using this dataframe.\"\n",
              "            style=\"display:none;\">\n",
              "\n",
              "  <svg xmlns=\"http://www.w3.org/2000/svg\" height=\"24px\"viewBox=\"0 0 24 24\"\n",
              "       width=\"24px\">\n",
              "    <path d=\"M7,19H8.4L18.45,9,17,7.55,7,17.6ZM5,21V16.75L18.45,3.32a2,2,0,0,1,2.83,0l1.4,1.43a1.91,1.91,0,0,1,.58,1.4,1.91,1.91,0,0,1-.58,1.4L9.25,21ZM18.45,9,17,7.55Zm-12,3A5.31,5.31,0,0,0,4.9,8.1,5.31,5.31,0,0,0,1,6.5,5.31,5.31,0,0,0,4.9,4.9,5.31,5.31,0,0,0,6.5,1,5.31,5.31,0,0,0,8.1,4.9,5.31,5.31,0,0,0,12,6.5,5.46,5.46,0,0,0,6.5,12Z\"/>\n",
              "  </svg>\n",
              "    </button>\n",
              "    <script>\n",
              "      (() => {\n",
              "      const buttonEl =\n",
              "        document.querySelector('#id_f19f0248-8d6f-450b-bb95-6ac87796bf74 button.colab-df-generate');\n",
              "      buttonEl.style.display =\n",
              "        google.colab.kernel.accessAllowed ? 'block' : 'none';\n",
              "\n",
              "      buttonEl.onclick = () => {\n",
              "        google.colab.notebook.generateWithVariable('ratings');\n",
              "      }\n",
              "      })();\n",
              "    </script>\n",
              "  </div>\n",
              "\n",
              "    </div>\n",
              "  </div>\n"
            ],
            "application/vnd.google.colaboratory.intrinsic+json": {
              "type": "dataframe",
              "variable_name": "ratings"
            }
          },
          "metadata": {},
          "execution_count": 10
        }
      ]
    },
    {
      "cell_type": "code",
      "source": [
        "ratings.drop('CreateDate', inplace=True, axis=1)"
      ],
      "metadata": {
        "execution": {
          "iopub.status.busy": "2022-08-26T14:10:07.303192Z",
          "iopub.execute_input": "2022-08-26T14:10:07.303625Z",
          "iopub.status.idle": "2022-08-26T14:10:07.328218Z",
          "shell.execute_reply.started": "2022-08-26T14:10:07.303579Z",
          "shell.execute_reply": "2022-08-26T14:10:07.327136Z"
        },
        "trusted": true,
        "id": "fuL275ng_x6c"
      },
      "execution_count": null,
      "outputs": []
    },
    {
      "cell_type": "code",
      "source": [
        "ratings"
      ],
      "metadata": {
        "execution": {
          "iopub.status.busy": "2022-08-26T14:10:09.829754Z",
          "iopub.execute_input": "2022-08-26T14:10:09.830178Z",
          "iopub.status.idle": "2022-08-26T14:10:09.842254Z",
          "shell.execute_reply.started": "2022-08-26T14:10:09.830141Z",
          "shell.execute_reply": "2022-08-26T14:10:09.841253Z"
        },
        "trusted": true,
        "id": "hgon4qcO_x6d",
        "outputId": "16fc99fe-c5bd-4d83-b545-d4546af042d7",
        "colab": {
          "base_uri": "https://localhost:8080/",
          "height": 423
        }
      },
      "execution_count": null,
      "outputs": [
        {
          "output_type": "execute_result",
          "data": {
            "text/plain": [
              "        CustomerID  ProductID  Rate\n",
              "0           103416        619     1\n",
              "1           103654        411     1\n",
              "2           103954        298     3\n",
              "3           103672        361     5\n",
              "4           103960        536     5\n",
              "...            ...        ...   ...\n",
              "130749      103907        501     1\n",
              "130750      103907        200     1\n",
              "130751      103907        184     1\n",
              "130752      103907        211     1\n",
              "130753      103907        166     1\n",
              "\n",
              "[130754 rows x 3 columns]"
            ],
            "text/html": [
              "\n",
              "  <div id=\"df-8e8a314a-e7db-495d-a687-855d48784a77\" class=\"colab-df-container\">\n",
              "    <div>\n",
              "<style scoped>\n",
              "    .dataframe tbody tr th:only-of-type {\n",
              "        vertical-align: middle;\n",
              "    }\n",
              "\n",
              "    .dataframe tbody tr th {\n",
              "        vertical-align: top;\n",
              "    }\n",
              "\n",
              "    .dataframe thead th {\n",
              "        text-align: right;\n",
              "    }\n",
              "</style>\n",
              "<table border=\"1\" class=\"dataframe\">\n",
              "  <thead>\n",
              "    <tr style=\"text-align: right;\">\n",
              "      <th></th>\n",
              "      <th>CustomerID</th>\n",
              "      <th>ProductID</th>\n",
              "      <th>Rate</th>\n",
              "    </tr>\n",
              "  </thead>\n",
              "  <tbody>\n",
              "    <tr>\n",
              "      <th>0</th>\n",
              "      <td>103416</td>\n",
              "      <td>619</td>\n",
              "      <td>1</td>\n",
              "    </tr>\n",
              "    <tr>\n",
              "      <th>1</th>\n",
              "      <td>103654</td>\n",
              "      <td>411</td>\n",
              "      <td>1</td>\n",
              "    </tr>\n",
              "    <tr>\n",
              "      <th>2</th>\n",
              "      <td>103954</td>\n",
              "      <td>298</td>\n",
              "      <td>3</td>\n",
              "    </tr>\n",
              "    <tr>\n",
              "      <th>3</th>\n",
              "      <td>103672</td>\n",
              "      <td>361</td>\n",
              "      <td>5</td>\n",
              "    </tr>\n",
              "    <tr>\n",
              "      <th>4</th>\n",
              "      <td>103960</td>\n",
              "      <td>536</td>\n",
              "      <td>5</td>\n",
              "    </tr>\n",
              "    <tr>\n",
              "      <th>...</th>\n",
              "      <td>...</td>\n",
              "      <td>...</td>\n",
              "      <td>...</td>\n",
              "    </tr>\n",
              "    <tr>\n",
              "      <th>130749</th>\n",
              "      <td>103907</td>\n",
              "      <td>501</td>\n",
              "      <td>1</td>\n",
              "    </tr>\n",
              "    <tr>\n",
              "      <th>130750</th>\n",
              "      <td>103907</td>\n",
              "      <td>200</td>\n",
              "      <td>1</td>\n",
              "    </tr>\n",
              "    <tr>\n",
              "      <th>130751</th>\n",
              "      <td>103907</td>\n",
              "      <td>184</td>\n",
              "      <td>1</td>\n",
              "    </tr>\n",
              "    <tr>\n",
              "      <th>130752</th>\n",
              "      <td>103907</td>\n",
              "      <td>211</td>\n",
              "      <td>1</td>\n",
              "    </tr>\n",
              "    <tr>\n",
              "      <th>130753</th>\n",
              "      <td>103907</td>\n",
              "      <td>166</td>\n",
              "      <td>1</td>\n",
              "    </tr>\n",
              "  </tbody>\n",
              "</table>\n",
              "<p>130754 rows × 3 columns</p>\n",
              "</div>\n",
              "    <div class=\"colab-df-buttons\">\n",
              "\n",
              "  <div class=\"colab-df-container\">\n",
              "    <button class=\"colab-df-convert\" onclick=\"convertToInteractive('df-8e8a314a-e7db-495d-a687-855d48784a77')\"\n",
              "            title=\"Convert this dataframe to an interactive table.\"\n",
              "            style=\"display:none;\">\n",
              "\n",
              "  <svg xmlns=\"http://www.w3.org/2000/svg\" height=\"24px\" viewBox=\"0 -960 960 960\">\n",
              "    <path d=\"M120-120v-720h720v720H120Zm60-500h600v-160H180v160Zm220 220h160v-160H400v160Zm0 220h160v-160H400v160ZM180-400h160v-160H180v160Zm440 0h160v-160H620v160ZM180-180h160v-160H180v160Zm440 0h160v-160H620v160Z\"/>\n",
              "  </svg>\n",
              "    </button>\n",
              "\n",
              "  <style>\n",
              "    .colab-df-container {\n",
              "      display:flex;\n",
              "      gap: 12px;\n",
              "    }\n",
              "\n",
              "    .colab-df-convert {\n",
              "      background-color: #E8F0FE;\n",
              "      border: none;\n",
              "      border-radius: 50%;\n",
              "      cursor: pointer;\n",
              "      display: none;\n",
              "      fill: #1967D2;\n",
              "      height: 32px;\n",
              "      padding: 0 0 0 0;\n",
              "      width: 32px;\n",
              "    }\n",
              "\n",
              "    .colab-df-convert:hover {\n",
              "      background-color: #E2EBFA;\n",
              "      box-shadow: 0px 1px 2px rgba(60, 64, 67, 0.3), 0px 1px 3px 1px rgba(60, 64, 67, 0.15);\n",
              "      fill: #174EA6;\n",
              "    }\n",
              "\n",
              "    .colab-df-buttons div {\n",
              "      margin-bottom: 4px;\n",
              "    }\n",
              "\n",
              "    [theme=dark] .colab-df-convert {\n",
              "      background-color: #3B4455;\n",
              "      fill: #D2E3FC;\n",
              "    }\n",
              "\n",
              "    [theme=dark] .colab-df-convert:hover {\n",
              "      background-color: #434B5C;\n",
              "      box-shadow: 0px 1px 3px 1px rgba(0, 0, 0, 0.15);\n",
              "      filter: drop-shadow(0px 1px 2px rgba(0, 0, 0, 0.3));\n",
              "      fill: #FFFFFF;\n",
              "    }\n",
              "  </style>\n",
              "\n",
              "    <script>\n",
              "      const buttonEl =\n",
              "        document.querySelector('#df-8e8a314a-e7db-495d-a687-855d48784a77 button.colab-df-convert');\n",
              "      buttonEl.style.display =\n",
              "        google.colab.kernel.accessAllowed ? 'block' : 'none';\n",
              "\n",
              "      async function convertToInteractive(key) {\n",
              "        const element = document.querySelector('#df-8e8a314a-e7db-495d-a687-855d48784a77');\n",
              "        const dataTable =\n",
              "          await google.colab.kernel.invokeFunction('convertToInteractive',\n",
              "                                                    [key], {});\n",
              "        if (!dataTable) return;\n",
              "\n",
              "        const docLinkHtml = 'Like what you see? Visit the ' +\n",
              "          '<a target=\"_blank\" href=https://colab.research.google.com/notebooks/data_table.ipynb>data table notebook</a>'\n",
              "          + ' to learn more about interactive tables.';\n",
              "        element.innerHTML = '';\n",
              "        dataTable['output_type'] = 'display_data';\n",
              "        await google.colab.output.renderOutput(dataTable, element);\n",
              "        const docLink = document.createElement('div');\n",
              "        docLink.innerHTML = docLinkHtml;\n",
              "        element.appendChild(docLink);\n",
              "      }\n",
              "    </script>\n",
              "  </div>\n",
              "\n",
              "\n",
              "<div id=\"df-4d088220-b0c7-4282-9ba6-d7e9d4abcc64\">\n",
              "  <button class=\"colab-df-quickchart\" onclick=\"quickchart('df-4d088220-b0c7-4282-9ba6-d7e9d4abcc64')\"\n",
              "            title=\"Suggest charts\"\n",
              "            style=\"display:none;\">\n",
              "\n",
              "<svg xmlns=\"http://www.w3.org/2000/svg\" height=\"24px\"viewBox=\"0 0 24 24\"\n",
              "     width=\"24px\">\n",
              "    <g>\n",
              "        <path d=\"M19 3H5c-1.1 0-2 .9-2 2v14c0 1.1.9 2 2 2h14c1.1 0 2-.9 2-2V5c0-1.1-.9-2-2-2zM9 17H7v-7h2v7zm4 0h-2V7h2v10zm4 0h-2v-4h2v4z\"/>\n",
              "    </g>\n",
              "</svg>\n",
              "  </button>\n",
              "\n",
              "<style>\n",
              "  .colab-df-quickchart {\n",
              "      --bg-color: #E8F0FE;\n",
              "      --fill-color: #1967D2;\n",
              "      --hover-bg-color: #E2EBFA;\n",
              "      --hover-fill-color: #174EA6;\n",
              "      --disabled-fill-color: #AAA;\n",
              "      --disabled-bg-color: #DDD;\n",
              "  }\n",
              "\n",
              "  [theme=dark] .colab-df-quickchart {\n",
              "      --bg-color: #3B4455;\n",
              "      --fill-color: #D2E3FC;\n",
              "      --hover-bg-color: #434B5C;\n",
              "      --hover-fill-color: #FFFFFF;\n",
              "      --disabled-bg-color: #3B4455;\n",
              "      --disabled-fill-color: #666;\n",
              "  }\n",
              "\n",
              "  .colab-df-quickchart {\n",
              "    background-color: var(--bg-color);\n",
              "    border: none;\n",
              "    border-radius: 50%;\n",
              "    cursor: pointer;\n",
              "    display: none;\n",
              "    fill: var(--fill-color);\n",
              "    height: 32px;\n",
              "    padding: 0;\n",
              "    width: 32px;\n",
              "  }\n",
              "\n",
              "  .colab-df-quickchart:hover {\n",
              "    background-color: var(--hover-bg-color);\n",
              "    box-shadow: 0 1px 2px rgba(60, 64, 67, 0.3), 0 1px 3px 1px rgba(60, 64, 67, 0.15);\n",
              "    fill: var(--button-hover-fill-color);\n",
              "  }\n",
              "\n",
              "  .colab-df-quickchart-complete:disabled,\n",
              "  .colab-df-quickchart-complete:disabled:hover {\n",
              "    background-color: var(--disabled-bg-color);\n",
              "    fill: var(--disabled-fill-color);\n",
              "    box-shadow: none;\n",
              "  }\n",
              "\n",
              "  .colab-df-spinner {\n",
              "    border: 2px solid var(--fill-color);\n",
              "    border-color: transparent;\n",
              "    border-bottom-color: var(--fill-color);\n",
              "    animation:\n",
              "      spin 1s steps(1) infinite;\n",
              "  }\n",
              "\n",
              "  @keyframes spin {\n",
              "    0% {\n",
              "      border-color: transparent;\n",
              "      border-bottom-color: var(--fill-color);\n",
              "      border-left-color: var(--fill-color);\n",
              "    }\n",
              "    20% {\n",
              "      border-color: transparent;\n",
              "      border-left-color: var(--fill-color);\n",
              "      border-top-color: var(--fill-color);\n",
              "    }\n",
              "    30% {\n",
              "      border-color: transparent;\n",
              "      border-left-color: var(--fill-color);\n",
              "      border-top-color: var(--fill-color);\n",
              "      border-right-color: var(--fill-color);\n",
              "    }\n",
              "    40% {\n",
              "      border-color: transparent;\n",
              "      border-right-color: var(--fill-color);\n",
              "      border-top-color: var(--fill-color);\n",
              "    }\n",
              "    60% {\n",
              "      border-color: transparent;\n",
              "      border-right-color: var(--fill-color);\n",
              "    }\n",
              "    80% {\n",
              "      border-color: transparent;\n",
              "      border-right-color: var(--fill-color);\n",
              "      border-bottom-color: var(--fill-color);\n",
              "    }\n",
              "    90% {\n",
              "      border-color: transparent;\n",
              "      border-bottom-color: var(--fill-color);\n",
              "    }\n",
              "  }\n",
              "</style>\n",
              "\n",
              "  <script>\n",
              "    async function quickchart(key) {\n",
              "      const quickchartButtonEl =\n",
              "        document.querySelector('#' + key + ' button');\n",
              "      quickchartButtonEl.disabled = true;  // To prevent multiple clicks.\n",
              "      quickchartButtonEl.classList.add('colab-df-spinner');\n",
              "      try {\n",
              "        const charts = await google.colab.kernel.invokeFunction(\n",
              "            'suggestCharts', [key], {});\n",
              "      } catch (error) {\n",
              "        console.error('Error during call to suggestCharts:', error);\n",
              "      }\n",
              "      quickchartButtonEl.classList.remove('colab-df-spinner');\n",
              "      quickchartButtonEl.classList.add('colab-df-quickchart-complete');\n",
              "    }\n",
              "    (() => {\n",
              "      let quickchartButtonEl =\n",
              "        document.querySelector('#df-4d088220-b0c7-4282-9ba6-d7e9d4abcc64 button');\n",
              "      quickchartButtonEl.style.display =\n",
              "        google.colab.kernel.accessAllowed ? 'block' : 'none';\n",
              "    })();\n",
              "  </script>\n",
              "</div>\n",
              "\n",
              "  <div id=\"id_b81281da-6221-4abd-85ca-f6ffff9cecea\">\n",
              "    <style>\n",
              "      .colab-df-generate {\n",
              "        background-color: #E8F0FE;\n",
              "        border: none;\n",
              "        border-radius: 50%;\n",
              "        cursor: pointer;\n",
              "        display: none;\n",
              "        fill: #1967D2;\n",
              "        height: 32px;\n",
              "        padding: 0 0 0 0;\n",
              "        width: 32px;\n",
              "      }\n",
              "\n",
              "      .colab-df-generate:hover {\n",
              "        background-color: #E2EBFA;\n",
              "        box-shadow: 0px 1px 2px rgba(60, 64, 67, 0.3), 0px 1px 3px 1px rgba(60, 64, 67, 0.15);\n",
              "        fill: #174EA6;\n",
              "      }\n",
              "\n",
              "      [theme=dark] .colab-df-generate {\n",
              "        background-color: #3B4455;\n",
              "        fill: #D2E3FC;\n",
              "      }\n",
              "\n",
              "      [theme=dark] .colab-df-generate:hover {\n",
              "        background-color: #434B5C;\n",
              "        box-shadow: 0px 1px 3px 1px rgba(0, 0, 0, 0.15);\n",
              "        filter: drop-shadow(0px 1px 2px rgba(0, 0, 0, 0.3));\n",
              "        fill: #FFFFFF;\n",
              "      }\n",
              "    </style>\n",
              "    <button class=\"colab-df-generate\" onclick=\"generateWithVariable('ratings')\"\n",
              "            title=\"Generate code using this dataframe.\"\n",
              "            style=\"display:none;\">\n",
              "\n",
              "  <svg xmlns=\"http://www.w3.org/2000/svg\" height=\"24px\"viewBox=\"0 0 24 24\"\n",
              "       width=\"24px\">\n",
              "    <path d=\"M7,19H8.4L18.45,9,17,7.55,7,17.6ZM5,21V16.75L18.45,3.32a2,2,0,0,1,2.83,0l1.4,1.43a1.91,1.91,0,0,1,.58,1.4,1.91,1.91,0,0,1-.58,1.4L9.25,21ZM18.45,9,17,7.55Zm-12,3A5.31,5.31,0,0,0,4.9,8.1,5.31,5.31,0,0,0,1,6.5,5.31,5.31,0,0,0,4.9,4.9,5.31,5.31,0,0,0,6.5,1,5.31,5.31,0,0,0,8.1,4.9,5.31,5.31,0,0,0,12,6.5,5.46,5.46,0,0,0,6.5,12Z\"/>\n",
              "  </svg>\n",
              "    </button>\n",
              "    <script>\n",
              "      (() => {\n",
              "      const buttonEl =\n",
              "        document.querySelector('#id_b81281da-6221-4abd-85ca-f6ffff9cecea button.colab-df-generate');\n",
              "      buttonEl.style.display =\n",
              "        google.colab.kernel.accessAllowed ? 'block' : 'none';\n",
              "\n",
              "      buttonEl.onclick = () => {\n",
              "        google.colab.notebook.generateWithVariable('ratings');\n",
              "      }\n",
              "      })();\n",
              "    </script>\n",
              "  </div>\n",
              "\n",
              "    </div>\n",
              "  </div>\n"
            ],
            "application/vnd.google.colaboratory.intrinsic+json": {
              "type": "dataframe",
              "variable_name": "ratings"
            }
          },
          "metadata": {},
          "execution_count": 12
        }
      ]
    },
    {
      "cell_type": "code",
      "source": [
        "#Matrix factorisation code found online for doing collaborative filtering.\n",
        "\n",
        "class MatrixFactorization(object):\n",
        "    def __init__(self, Y,customers,products, K, lam = 0.1, Xinit = None, Winit = None, learning_rate = 0.5, max_iter = 1000, print_every = 100):\n",
        "        self.Y = Y # represents the utility matrix\n",
        "        self.K = K\n",
        "        self.lam = lam # regularization parameter\n",
        "        self.learning_rate = learning_rate # for gradient descent\n",
        "        self.max_iter = max_iter # maximum number of iterations\n",
        "        self.print_every = print_every # print loss after each a few iters\n",
        "        self.customers=customers\n",
        "        self.products=products\n",
        "        self.n_users = int(np.max(Y[:, 0])) + 1\n",
        "        self.n_items = int(np.max(Y[:, 1])) + 1\n",
        "        #self.n_users = customers.size\n",
        "        #self.n_items = products.size\n",
        "        self.n_ratings = Y.shape[0] # number of known ratings\n",
        "        self.X = np.random.randn(self.n_items, K) if Xinit is None\\\n",
        "        else Xinit\n",
        "        self.W = np.random.randn(K, self.n_users) if Winit is None\\\n",
        "        else Winit\n",
        "        self.b = np.random.randn(self.n_items) # item biases\n",
        "        self.d = np.random.randn(self.n_users) # user biases\n",
        "    def loss(self):\n",
        "        L = 0\n",
        "        for i in range(self.n_ratings):\n",
        "            # user_id, item_id, rating\n",
        "            n, m, rating = int(self.Y[i,0]), int(self.Y[i,1]), self.Y[i,2]\n",
        "            L += 0.5*(self.X[m].dot(self.W[:, n])\\\n",
        "            + self.b[m] + self.d[n] - rating)**2\n",
        "        L /= self.n_ratings\n",
        "        # regularization, don’t ever forget this\n",
        "        return L + 0.5*self.lam*(np.sum(self.X**2) + np.sum(self.W**2))\n",
        "    def updateXb(self):\n",
        "        products = np.array(self.products[\"Id\"])\n",
        "        for m in range(0,products.size):\n",
        "            pId = products[m]\n",
        "            # get all users who rated item m and corresponding ratings\n",
        "            ids = np.where(self.Y[:, 1] == pId)[0] # row indices of items m\n",
        "            if ids.size>0:\n",
        "                user_ids, ratings=self.Y[ids, 0].astype(np.int32),self.Y[ids, 2]\n",
        "                Wm, dm = self.W[:, user_ids], self.d[user_ids]\n",
        "                for i in range(30): # 30 iteration for each sub problem\n",
        "                    xm = self.X[m]\n",
        "                    error = xm.dot(Wm) + self.b[m] + dm - ratings\n",
        "                    grad_xm = error.dot(Wm.T)/self.n_ratings + self.lam*xm\n",
        "                    grad_bm = np.sum(error)/self.n_ratings\n",
        "                    # gradient descent\n",
        "                    self.X[m] -= self.learning_rate*grad_xm.reshape(-1).astype('float64')\n",
        "                    self.b[m] -= self.learning_rate*grad_bm\n",
        "    def updateWd(self): # and d\n",
        "        customers = np.array(self.customers[\"Id\"])\n",
        "        for n in range(0,customers.size):\n",
        "            custId=customers[n]\n",
        "            # get all items rated by user n, and the corresponding ratings\n",
        "            ids = np.where(self.Y[:,0] == custId)[0] #indexes of items rated by n\n",
        "            if ids.size>0:\n",
        "                item_ids,ratings=self.Y[ids, 1].astype(np.int32), self.Y[ids, 2]\n",
        "                Xn, bn = self.X[item_ids], self.b[item_ids]\n",
        "                for i in range(30): # 30 iteration for each sub problem\n",
        "                    wn = self.W[:, n]\n",
        "                    error = Xn.dot(wn) + bn + self.d[n] - ratings\n",
        "                    grad_wn = Xn.T.dot(error)/self.n_ratings + self.lam*wn\n",
        "                    grad_dn = np.sum(error)/self.n_ratings\n",
        "                    grad_dn=grad_dn\n",
        "                    # gradient descent\n",
        "                    self.W[:, n] -= self.learning_rate*grad_wn.reshape(-1).astype('float64')\n",
        "                    self.d[n] -= self.learning_rate*grad_dn\n",
        "    def fit(self):\n",
        "        for it in range(self.max_iter):\n",
        "            self.updateWd()\n",
        "            self.updateXb()\n",
        "            if (it + 1) % self.print_every == 0:\n",
        "                rmse_train = self.evaluate_RMSE(self.Y)\n",
        "                print(\"iter = %d, loss = %.4f, RMSE train = %.4f\"%(it + 1,\n",
        "                self.loss(), rmse_train))\n",
        "    def predict(self, u, i):\n",
        "        \"\"\"\n",
        "        predict the rating of user u for item i\n",
        "        \"\"\"\n",
        "        try:\n",
        "            u, i = int(u), int(i)\n",
        "            pred = self.X[i, :].dot(self.W[:, u]) + self.b[i] + self.d[u]\n",
        "            return max(0, min(5, pred))  # 5-scale in Ecommerce\n",
        "        except:\n",
        "            return  0\n",
        "    def evaluate_RMSE(self, rate_test):\n",
        "        n_tests = rate_test.shape[0] # number of test\n",
        "        SE = 0 # squared error\n",
        "        for n in range(n_tests):\n",
        "            pred = self.predict(rate_test[n, 0], rate_test[n, 1])\n",
        "            SE += (pred - rate_test[n, 2])**2\n",
        "        RMSE = np.sqrt(SE/n_tests)\n",
        "        return RMSE"
      ],
      "metadata": {
        "execution": {
          "iopub.status.busy": "2022-08-26T14:10:12.990691Z",
          "iopub.execute_input": "2022-08-26T14:10:12.991073Z",
          "iopub.status.idle": "2022-08-26T14:10:13.020511Z",
          "shell.execute_reply.started": "2022-08-26T14:10:12.991043Z",
          "shell.execute_reply": "2022-08-26T14:10:13.019472Z"
        },
        "trusted": true,
        "id": "iDuw0ewC_x6d"
      },
      "execution_count": null,
      "outputs": []
    },
    {
      "cell_type": "code",
      "source": [
        "rate_train =ratings[0:129000]\n",
        "rate_train = np.array(rate_train)\n",
        "rate_test = ratings[129001:]\n",
        "rate_test= np.array(rate_test)\n",
        "print('Number of traing rates:', rate_train.shape[0])\n",
        "print('Number of test rates:', rate_test.shape[0])"
      ],
      "metadata": {
        "execution": {
          "iopub.status.busy": "2022-08-26T14:10:16.388877Z",
          "iopub.execute_input": "2022-08-26T14:10:16.389338Z",
          "iopub.status.idle": "2022-08-26T14:10:16.396417Z",
          "shell.execute_reply.started": "2022-08-26T14:10:16.3893Z",
          "shell.execute_reply": "2022-08-26T14:10:16.395265Z"
        },
        "trusted": true,
        "id": "9r9cBhTz_x6f",
        "outputId": "75fb7754-a0a0-4b24-9042-9560eb095fa9",
        "colab": {
          "base_uri": "https://localhost:8080/"
        }
      },
      "execution_count": null,
      "outputs": [
        {
          "output_type": "stream",
          "name": "stdout",
          "text": [
            "Number of traing rates: 129000\n",
            "Number of test rates: 1753\n"
          ]
        }
      ]
    },
    {
      "cell_type": "code",
      "source": [
        "# indices start from 0\n",
        "rate_train[:, :2] -= 1\n",
        "rate_test[:, :2] -= 1\n",
        "mf = MatrixFactorization(rate_train,customers,products,K = 50, lam = .01, print_every = 5, learning_rate = 50,max_iter = 30)\n",
        "mf.fit()\n",
        "# evaluate on test data\n",
        "RMSE = mf.evaluate_RMSE(rate_test)\n",
        "print(\"\\nMatrix Factorization CF, RMSE = %.4f\" %RMSE)"
      ],
      "metadata": {
        "execution": {
          "iopub.status.busy": "2022-08-26T14:10:18.341531Z",
          "iopub.execute_input": "2022-08-26T14:10:18.341928Z",
          "iopub.status.idle": "2022-08-26T14:12:04.947682Z",
          "shell.execute_reply.started": "2022-08-26T14:10:18.341892Z",
          "shell.execute_reply": "2022-08-26T14:12:04.946639Z"
        },
        "trusted": true,
        "id": "37FE5rEO_x6g",
        "outputId": "d131cbff-2933-45f7-c608-57cd2e8e7a37",
        "colab": {
          "base_uri": "https://localhost:8080/"
        }
      },
      "execution_count": null,
      "outputs": [
        {
          "output_type": "stream",
          "name": "stdout",
          "text": [
            "iter = 5, loss = 25894.0147, RMSE train = 1.8817\n",
            "iter = 10, loss = 25894.0147, RMSE train = 1.8817\n",
            "iter = 15, loss = 25894.0147, RMSE train = 1.8817\n",
            "iter = 20, loss = 25894.0147, RMSE train = 1.8817\n",
            "iter = 25, loss = 25894.0147, RMSE train = 1.8817\n",
            "iter = 30, loss = 25894.0147, RMSE train = 1.8817\n",
            "\n",
            "Matrix Factorization CF, RMSE = 2.0414\n"
          ]
        }
      ]
    },
    {
      "cell_type": "code",
      "source": [
        "rate_test"
      ],
      "metadata": {
        "execution": {
          "iopub.status.busy": "2022-06-06T05:01:28.34357Z",
          "iopub.execute_input": "2022-06-06T05:01:28.343957Z",
          "iopub.status.idle": "2022-06-06T05:01:28.350426Z",
          "shell.execute_reply.started": "2022-06-06T05:01:28.343928Z",
          "shell.execute_reply": "2022-06-06T05:01:28.349612Z"
        },
        "trusted": true,
        "id": "xvQg5JAQ_x6g",
        "outputId": "41dee00a-34fc-454e-e788-5cce1fe39433",
        "colab": {
          "base_uri": "https://localhost:8080/"
        }
      },
      "execution_count": null,
      "outputs": [
        {
          "output_type": "execute_result",
          "data": {
            "text/plain": [
              "array([[103400,    462,      4],\n",
              "       [103400,    288,      4],\n",
              "       [103400,    475,      4],\n",
              "       ...,\n",
              "       [103906,    183,      1],\n",
              "       [103906,    210,      1],\n",
              "       [103906,    165,      1]])"
            ]
          },
          "metadata": {},
          "execution_count": 16
        }
      ]
    },
    {
      "cell_type": "markdown",
      "source": [
        "# Test Recommendation"
      ],
      "metadata": {
        "id": "g-EOzxc5_x6g"
      }
    },
    {
      "cell_type": "markdown",
      "source": [
        "Test 10 Customer"
      ],
      "metadata": {
        "id": "2c4dgpMV_x6h"
      }
    },
    {
      "cell_type": "code",
      "source": [
        "expected_score=3.8\n",
        "print(\"Expected Score =\",expected_score)\n",
        "for c in customers.values[0:5]:\n",
        "    customerId=c[0]\n",
        "    customerName=c[1]\n",
        "    print(\"Customer [\",customerId,customerName,\"], recommendation products:\")\n",
        "    for p in products.values:\n",
        "        productId=p[0]\n",
        "        productName=p[1]\n",
        "        result=mf.predict(customerId,productId)\n",
        "        if result>=expected_score:\n",
        "            print(\"\\t Recommend Product [\",productName, \"] Score=\",result)"
      ],
      "metadata": {
        "execution": {
          "iopub.status.busy": "2022-08-26T14:12:19.240656Z",
          "iopub.execute_input": "2022-08-26T14:12:19.241073Z",
          "iopub.status.idle": "2022-08-26T14:12:19.355143Z",
          "shell.execute_reply.started": "2022-08-26T14:12:19.241039Z",
          "shell.execute_reply": "2022-08-26T14:12:19.354078Z"
        },
        "trusted": true,
        "id": "yZsG4TO7_x6h",
        "outputId": "8148ac67-573a-407f-e013-e064c94c76cd",
        "colab": {
          "base_uri": "https://localhost:8080/"
        }
      },
      "execution_count": null,
      "outputs": [
        {
          "output_type": "stream",
          "name": "stdout",
          "text": [
            "Expected Score = 3.8\n",
            "Customer [ 103603 1000kgthanh ], recommendation products:\n",
            "\t Recommend Product [ Oversized Women T-Shirt ] Score= 3.960218639765726\n",
            "\t Recommend Product [ Levi's 511 Jeans ] Score= 3.8221753140505736\n",
            "\t Recommend Product [ Lightstick BLACKPINK ] Score= 3.824918920938888\n",
            "\t Recommend Product [ TÊN SẢN PHẦM ] Score= 3.88366961335611\n",
            "\t Recommend Product [ Ống hút giấy ] Score= 4.057826505841622\n",
            "\t Recommend Product [ Tony Buổi Sáng - Trên Đường Băng ] Score= 3.869408221031734\n",
            "\t Recommend Product [ Ống hút kim loại ] Score= 3.865159447497978\n",
            "\t Recommend Product [ Vải sáp ong ] Score= 3.8278055185329007\n",
            "\t Recommend Product [ Ống Hút Kim Loại Bằng Thép Không Gỉ ] Score= 3.8287510193889696\n",
            "\t Recommend Product [ Ly Giấy Dùng Một Lần EDO TH7526 ] Score= 3.94825996622734\n",
            "\t Recommend Product [ Ống hút giấy - copy ] Score= 4.0264780829863716\n",
            "\t Recommend Product [ GIÀY CONVERSE SUNFLOWER THẤP CỔ SF ] Score= 3.9282071650859383\n",
            "\t Recommend Product [ New Banlance 580 ] Score= 3.8377046453914105\n",
            "\t Recommend Product [ Jordan Retro ] Score= 3.910926398244337\n",
            "\t Recommend Product [ Nike Air Max ] Score= 3.871822967999939\n",
            "\t Recommend Product [ HẠT GIỐNG SEN NHẬT ] Score= 3.9901221168162246\n",
            "\t Recommend Product [ Quai vải ] Score= 3.8059601139193853\n",
            "\t Recommend Product [ Dip Dye Sweater ] Score= 3.830558006700031\n",
            "\t Recommend Product [ Bamboo Basket ] Score= 3.978340446049364\n",
            "\t Recommend Product [ Paper Coffee Cup ] Score= 3.8104047673238086\n",
            "\t Recommend Product [ Diamond Promise Ring 1/4 ct tw Round/Baguette 10K White Gold ] Score= 3.8763540018313223\n",
            "\t Recommend Product [ Diamond Promise Ring 1/5 ct tw Round-cut Sterling Silver ] Score= 3.809169408638358\n",
            "\t Recommend Product [ Diamond Promise Ring 1/8 ct tw Round-cut Sterling Silver Ring ] Score= 3.9782381806322706\n",
            "\t Recommend Product [ Diamond Promise Ring 1/5 ct tw Round-cut Sterling Silver ] Score= 3.8969288666376514\n",
            "\t Recommend Product [ Black & White Diamond Promise Ring 1/6 ct tw Sterling Silver ] Score= 3.889882172117368\n",
            "\t Recommend Product [ Hallmark Diamonds Promise Ring 1/4 ct tw Sterling Silver ] Score= 3.8702832901642372\n",
            "\t Recommend Product [ Diamond Promise Ring 1/10 ct tw Round-cut Sterling Silver ] Score= 3.874413465538091\n",
            "\t Recommend Product [ Everything You Are Diamond Ring 1-3/4 ct tw 10K White Gold ] Score= 3.9486753548909967\n",
            "\t Recommend Product [ Diamond Ring 1/15 ct tw Round-cut 10K Rose Gold ] Score= 3.805625234559395\n",
            "\t Recommend Product [ Diamond North South Ring 1/2 ct tw Round-cut 10K White Gold ] Score= 3.8255778437024315\n",
            "\t Recommend Product [ Diamond Heart/Infinity Ring 1/6 ctw 10K Two-Tone Gold ] Score= 4.112079015287696\n",
            "\t Recommend Product [ Everything You Are Diamond Ring 1/2 ct tw 14K White Gold ] Score= 3.9240849319985784\n",
            "\t Recommend Product [ Blue & White Diamond Ring 1/4 ct tw Round-cut Sterling Silver ] Score= 3.9699895251202793\n",
            "\t Recommend Product [ Disney Treasures \"Bambi\" Diamond Ring 1/10 ct tw Sterling Silver & 10K Rose Gold ] Score= 3.870446173078651\n",
            "\t Recommend Product [ Everything You Are Diamond Ring 1 ct tw 10K Yellow Gold ] Score= 3.923144302500091\n",
            "\t Recommend Product [ Diamond Fashion Ring 1/3 Carat tw 10K White Gold ] Score= 3.990350150102955\n",
            "\t Recommend Product [ Diamond Leaf/Vine Ring 1/6 ct tw Round-cut 10K Yellow Gold ] Score= 3.8396919654876336\n",
            "\t Recommend Product [ Everything You Are Diamond Ring 1-3/4 ct tw 14K White Gold ] Score= 3.883196968455274\n",
            "\t Recommend Product [ Le Vian Diamond Ring 7/8 ct tw Round-cut 14K Honey Gold ] Score= 4.006480054754458\n",
            "\t Recommend Product [ Le Vian Chocolate Quartz Ring 1/4 ct tw Diamonds 14K Gold ] Score= 3.8103220454976165\n",
            "\t Recommend Product [ Blue Sapphire & Diamond Dainty Flower Ring Round-cut 10K Yellow Gold ] Score= 3.8545624983379603\n",
            "\t Recommend Product [ Natural Ruby Ring 1/15 ct tw Diamonds 10K Yellow Gold ] Score= 3.805391176725231\n",
            "\t Recommend Product [ Black Silicone Women's Wedding Band ] Score= 3.826097324556403\n",
            "\t Recommend Product [ Stackable Ring Sterling Silver ] Score= 3.8094472817788554\n",
            "\t Recommend Product [ Sapphire Ring 1/10 ct tw Diamonds 10K White Gold ] Score= 3.945191714068427\n",
            "\t Recommend Product [ Black Diamond Necklace 1/15 carat tw 10K Rose Gold ] Score= 3.863027308294795\n",
            "\t Recommend Product [ Le Vian Chocolate Diamonds 1/8 ct tw Necklace 14K Honey Gold ] Score= 3.9021545669282856\n",
            "\t Recommend Product [ Heart Station Necklace 14K Yellow Gold ] Score= 3.8413028381897316\n",
            "\t Recommend Product [ Heart Necklace with Diamonds Sterling Silver/10K Rose Gold ] Score= 3.9719280230600194\n",
            "\t Recommend Product [ Amethyst Heart Necklace With Diamond Accent Sterling Silver ] Score= 3.869774905769655\n",
            "\t Recommend Product [ Children's Disney Princess Crown Necklace 14K Yellow Gold 13\" ] Score= 3.9104943257859137\n",
            "\t Recommend Product [ Silver Color Stone Family Dog Tag Necklace ] Score= 3.843292546028202\n",
            "\t Recommend Product [ Color Stone Nameplate Mrs. Necklace ] Score= 3.852760864252458\n",
            "\t Recommend Product [ Hallmark Diamonds Cross Necklace 1/8 ct tw 10K Yellow Gold 18\" ] Score= 3.8028403917362357\n",
            "\t Recommend Product [ Rope Necklace 10K Yellow Gold 24\" Length ] Score= 3.8393089996532774\n",
            "\t Recommend Product [ Miami Cuban Chain Necklace 10K Yellow Gold 22\" Length ] Score= 3.9538238256520906\n",
            "\t Recommend Product [ Lab-Created Emerald Necklace with Diamonds 10K Yellow Gold ] Score= 3.8918532539086828\n",
            "\t Recommend Product [ Curb Link Necklace 10K Two-Tone Gold 22\" Length ] Score= 3.8801418508607552\n",
            "\t Recommend Product [ Cultured Pearl Necklace 1/15 ct tw Diamonds 14K Yellow Gold 17\" ] Score= 3.813053520462471\n",
            "\t Recommend Product [ Children's Cross Necklace 14K Yellow Gold 15\" ] Score= 4.031820588441504\n",
            "\t Recommend Product [ Bar Necklace 14K Yellow Gold ] Score= 3.9440243149863323\n",
            "\t Recommend Product [ Citrine Necklace 1/15 ct tw Diamonds 10K Yellow Gold ] Score= 3.972804571383933\n",
            "\t Recommend Product [ Diamond Necklace 3/4 ct tw 10K Yellow Gold/Stainless Steel ] Score= 3.9270304749655223\n",
            "\t Recommend Product [ Godiva x Le Vian Ruby Heart Necklace 3/8 ct tw Diamonds 14K Strawberry Gold 19\" ] Score= 3.882296397807985\n",
            "\t Recommend Product [ Aquamarine & White Lab-Created Sapphire Necklace Sterling Silver 18\" ] Score= 3.8656741162651573\n",
            "\t Recommend Product [ Citrine & Diamond Necklace Sterling Silver ] Score= 3.8589822703457988\n",
            "\t Recommend Product [ Amethyst & White Topaz Necklace Sterling Silver 18\" ] Score= 3.9433459426936235\n",
            "\t Recommend Product [ Forever Connected Diamond Necklace 1/4 ct tw Round-Cut 10K White Gold 18\" ] Score= 3.967883314730221\n",
            "\t Recommend Product [ Forever Connected Diamond Necklace 1/4 ct tw Princess/Round-Cut 10K White Gold 18\" ] Score= 3.841851546032926\n",
            "\t Recommend Product [ Disney Treasures Winnie the Pooh \"Tigger\" Diamond Necklace 1/10 ct tw Sterling Silver & 10K Yellow Gold 17\" ] Score= 3.899170435563934\n",
            "\t Recommend Product [ Unstoppable Love 1/6 ct tw Necklace Sterling Silver Angel ] Score= 3.8078125817542743\n",
            "\t Recommend Product [ Forever Connected Diamond Hoop Earrings 3/8 ct tw Princess/Round 10K Yellow Gold ] Score= 3.9553669894192933\n",
            "\t Recommend Product [ Italian Oval Glitter Hoop Earrings 14K Yellow Gold ] Score= 3.9146649927389494\n",
            "\t Recommend Product [ Continuous Hoop Earrings 14K Yellow Gold 30mm ] Score= 3.94273247299056\n",
            "\t Recommend Product [ Woven Heart Hoop Earrings 14K Yellow Gold ] Score= 3.9913124424950666\n",
            "\t Recommend Product [ Children's Butterfly Hoop Earrings 14K Yellow Gold ] Score= 3.8515150487060894\n",
            "\t Recommend Product [ Layered Three-Circle Drop Earrings 10K Yellow Gold ] Score= 3.9083561967320333\n",
            "\t Recommend Product [ Drop Earrings 14K Yellow Gold ] Score= 3.8942451951461425\n",
            "\t Recommend Product [ Encircled by Love Diamond Stud Earrings 1/5 ct tw Round-cut 10K Yellow Gold ] Score= 3.964938438223104\n",
            "\t Recommend Product [ Le Vian Opal Earrings 1/5 ct tw Diamonds 14K Strawberry Gold ] Score= 3.8383994483596533\n",
            "\t Recommend Product [ Laptop Asus Vivobook X415EA-EB935W i3 1115G4/8GB/256GB SSD/Win11 ] Score= 3.942046577145349\n",
            "\t Recommend Product [ Samsung Galaxy S22 Ultra 5G 128GB ] Score= 3.898556764837478\n",
            "\t Recommend Product [ 1/10 Carat t.w. Diamond Promise Ring ] Score= 3.8623533404682058\n",
            "\t Recommend Product [ Amethyst & Diamond Twist Ring 1/10 ct tw 10K Rose Gold ] Score= 3.883250762463543\n",
            "\t Recommend Product [ 레드슈즈 ] Score= 3.837937103210739\n",
            "\t Recommend Product [ The Notebook ] Score= 3.8349292739176386\n",
            "\t Recommend Product [ About Time ] Score= 3.8244267356448796\n",
            "Customer [ 103760 999999999ok ], recommendation products:\n",
            "Customer [ 103829 ac7ive ], recommendation products:\n",
            "Customer [ 1 admin ], recommendation products:\n",
            "Customer [ 103839 ahkk.nguyen ], recommendation products:\n",
            "\t Recommend Product [ Build your own computer ] Score= 4.473601736282887\n",
            "\t Recommend Product [ Digital Storm VANQUISH 3 Custom Performance PC ] Score= 4.517399894464254\n",
            "\t Recommend Product [ Lenovo IdeaCentre 600 All-in-One PC ] Score= 4.561300068540563\n",
            "\t Recommend Product [ Apple MacBook Pro 13-inch ] Score= 4.435318938801157\n",
            "\t Recommend Product [ Asus N551JK-XO076H Laptop ] Score= 4.50287793351886\n",
            "\t Recommend Product [ Samsung Series 9 NP900X4C Premium Ultrabook ] Score= 4.2886954803874495\n",
            "\t Recommend Product [ HP Spectre XT Pro UltraBook ] Score= 4.348284150301572\n",
            "\t Recommend Product [ HP Envy 6-1180ca 15.6-Inch Sleekbook ] Score= 4.612652902289393\n",
            "\t Recommend Product [ Lenovo Thinkpad X1 Carbon Laptop ] Score= 4.131427301999306\n",
            "\t Recommend Product [ Adobe Photoshop CS4 ] Score= 4.373066823620668\n",
            "\t Recommend Product [ Windows 8 Pro ] Score= 4.419623468279749\n",
            "\t Recommend Product [ Sound Forge Pro 11 (recurring) ] Score= 4.279965235541672\n",
            "\t Recommend Product [ Nikon D5500 DSLR ] Score= 4.34371027748384\n",
            "\t Recommend Product [ Nikon D5500 DSLR - Black ] Score= 4.271843366292498\n",
            "\t Recommend Product [ Nikon D5500 DSLR - Red ] Score= 4.712878629117616\n",
            "\t Recommend Product [ Leica T Mirrorless Digital Camera ] Score= 4.532724209638005\n",
            "\t Recommend Product [ Apple iCam ] Score= 4.499810428372555\n",
            "\t Recommend Product [ HTC One M8 Android L 5.0 Lollipop ] Score= 4.550552443249507\n",
            "\t Recommend Product [ HTC One Mini Blue ] Score= 4.378762500213834\n",
            "\t Recommend Product [ Nokia Lumia 1020 ] Score= 4.138307579303748\n",
            "\t Recommend Product [ Beats Pill 2.0 Wireless Speaker ] Score= 4.476403186054385\n",
            "\t Recommend Product [ Universal 7-8 Inch Tablet Cover ] Score= 4.461126285185185\n",
            "\t Recommend Product [ Portable Sound Speakers ] Score= 4.651484954053023\n",
            "\t Recommend Product [ Nike Floral Roshe Customized Running Shoes ] Score= 4.553291787146742\n",
            "\t Recommend Product [ adidas Consortium Campus 80s Running Shoes ] Score= 4.422168381699251\n",
            "\t Recommend Product [ Nike SB Zoom Stefan Janoski \"Medium Mint\" ] Score= 4.3910415828200655\n",
            "\t Recommend Product [ Nike Tailwind Loose Short-Sleeve Running Shirt ] Score= 4.608202287033915\n",
            "\t Recommend Product [ Oversized Women T-Shirt ] Score= 4.701411535806667\n",
            "\t Recommend Product [ Custom T-Shirt ] Score= 4.306486874053376\n",
            "\t Recommend Product [ Levi's 511 Jeans ] Score= 4.330784940929671\n",
            "\t Recommend Product [ Obey Propaganda Hat ] Score= 4.5539233619959365\n",
            "\t Recommend Product [ Reversible Horseferry Check Belt ] Score= 4.379728414588969\n",
            "\t Recommend Product [ Ray Ban Aviator Sunglasses ] Score= 4.70017706040227\n",
            "\t Recommend Product [ Night Visions ] Score= 4.434681753073416\n",
            "\t Recommend Product [ If You Wait (donation) ] Score= 4.523799749957247\n",
            "\t Recommend Product [ Science & Faith ] Score= 4.59667840330887\n",
            "\t Recommend Product [ Fahrenheit 451 by Ray Bradbury ] Score= 4.658448052319383\n",
            "\t Recommend Product [ First Prize Pies ] Score= 4.41509077251903\n",
            "\t Recommend Product [ Pride and Prejudice ] Score= 4.44515327613563\n",
            "\t Recommend Product [ Elegant Gemstone Necklace (rental) ] Score= 4.328166354057018\n",
            "\t Recommend Product [ Flower Girl Bracelet ] Score= 4.485203245948685\n",
            "\t Recommend Product [ Vintage Style Engagement Ring ] Score= 4.583640832934612\n",
            "\t Recommend Product [ $25 Virtual Gift Card ] Score= 4.559764825645943\n",
            "\t Recommend Product [ $50 Physical Gift Card ] Score= 4.421082533841323\n",
            "\t Recommend Product [ $100 Physical Gift Card ] Score= 4.620218900095676\n",
            "\t Recommend Product [ Samsung A7 ] Score= 4.650010107225083\n",
            "\t Recommend Product [ Cửa Hàng Thời Trang ] Score= 4.280446996258922\n",
            "\t Recommend Product [ Lightstick BLACKPINK ] Score= 4.315589165887863\n",
            "\t Recommend Product [ Giày Sneaker Unisex Sk8 Hi Vans - Navy ] Score= 4.609780909668383\n",
            "\t Recommend Product [ A7 ] Score= 4.6976575653576\n",
            "\t Recommend Product [ TÊN SẢN PHẦM ] Score= 4.4629713762491825\n",
            "\t Recommend Product [ BLACKPINK 2ND MINI ALBUM [KILL THIS LOVE] ] Score= 4.65811890355732\n",
            "\t Recommend Product [ [10TH] Bigbang Light Stick Head ] Score= 4.432388462240564\n",
            "\t Recommend Product [ Bạn Đắt Giá Bao Nhiêu? ] Score= 4.327502495022446\n",
            "\t Recommend Product [ Tuổi 20 tôi đã sống như một bông hoa dại ] Score= 4.289593628767475\n",
            "\t Recommend Product [ Nhà Giả Kim ] Score= 4.52080392290912\n",
            "\t Recommend Product [ Ống hút giấy ] Score= 4.5264599395199925\n",
            "\t Recommend Product [ Giấy nảy mầm ] Score= 4.543892869681057\n",
            "\t Recommend Product [ Hành Trình Về Phương Đông ] Score= 4.288707640715397\n",
            "\t Recommend Product [ Hộp Ống Hút Tre - Hộp 5 ống ] Score= 4.259071511852288\n",
            "\t Recommend Product [ Sống Thực Tế Giữa Đời Thực Dụng ] Score= 4.475379473857162\n",
            "\t Recommend Product [ Ống hút gạo OCHAO 500 Gram ] Score= 4.346247645442407\n",
            "\t Recommend Product [ Bông tắm sơ mướp ] Score= 4.511972119625231\n",
            "\t Recommend Product [ Ống hút cỏ bàng khô - Hộp 500 ống ] Score= 4.667295218494233\n",
            "\t Recommend Product [ Tony Buổi Sáng - Trên Đường Băng ] Score= 4.341527619469169\n",
            "\t Recommend Product [ Ống hút kim loại ] Score= 4.539290984413255\n",
            "\t Recommend Product [ Bàn chải tre ] Score= 4.131206418388357\n",
            "\t Recommend Product [ Giới Hạn Của Bạn Chỉ Là Xuất Phát Điểm Của Tôi ] Score= 4.508723785870456\n",
            "\t Recommend Product [ Bình giữ nhiệt kim loại ] Score= 4.398049906266288\n",
            "\t Recommend Product [ Vải sáp ong ] Score= 4.660695802244187\n",
            "\t Recommend Product [ Hộp bã mía ] Score= 4.53141744595752\n",
            "\t Recommend Product [ Túi rác sinh học ] Score= 4.699486137675826\n",
            "\t Recommend Product [ Ống Hút Kim Loại Bằng Thép Không Gỉ ] Score= 4.680663712860315\n",
            "\t Recommend Product [ Ly Giấy Dùng Một Lần EDO TH7526 ] Score= 4.593845250294094\n",
            "\t Recommend Product [ Xà phòng handmade Coco-Secret Coffee 110gram ] Score= 4.555276729497715\n",
            "\t Recommend Product [ Ống hút giấy - copy ] Score= 4.500582291347488\n",
            "\t Recommend Product [ Túi Vải Gấp Gọn Thông Minh Bảo Vệ Môi Trường ] Score= 4.556208910312173\n",
            "\t Recommend Product [ Nhóm test ] Score= 4.275964946898962\n",
            "\t Recommend Product [ Giày Sneaker Unisex Converse Chuck Taylor All Star 1970s Black/w 2018 ] Score= 4.708172213196786\n",
            "\t Recommend Product [ GIÀY CONVERSE SUNFLOWER THẤP CỔ SF ] Score= 4.711173114815082\n",
            "\t Recommend Product [ Giày Sneaker Unisex Converse Chuck Taylor All Star 1970s White/w 2018 SF ] Score= 4.210464606939858\n",
            "\t Recommend Product [ Giày Sneaker Unisex Sk8 Hi Vans - Black ] Score= 4.585940460970244\n",
            "\t Recommend Product [ Xiaomi Redmi Go ] Score= 4.368103024758685\n",
            "\t Recommend Product [ Xiaomi Redmi 7 16GB ] Score= 4.655361079426651\n",
            "\t Recommend Product [ Xiaomi Mi A2 Lite ] Score= 4.58395710483296\n",
            "\t Recommend Product [ Xiaomi Redmi Note 6 Pro 32GB ] Score= 4.545251307333167\n",
            "\t Recommend Product [ Xiaomi Redmi Note 7 64GB ] Score= 4.382436862222229\n",
            "\t Recommend Product [ Xiaomi Redmi Note 6 Pro 64GB ] Score= 4.367781106909527\n",
            "\t Recommend Product [ Xiaomi Mi 8 Lite 6GB/128GB ] Score= 4.313317287836645\n",
            "\t Recommend Product [ Xiaomi Mi 8 ] Score= 4.887345931014977\n",
            "\t Recommend Product [ Giày Sneaker Unisex Sk8 Hi Vans - True White ] Score= 4.648958166616744\n",
            "\t Recommend Product [ Combo Hoa ban ] Score= 4.575523666199852\n",
            "\t Recommend Product [ Dép cói ] Score= 4.464932277697981\n",
            "\t Recommend Product [ Strap dây điện thoại Blackpink ] Score= 4.485033276891699\n",
            "\t Recommend Product [ Bình đựng nước ] Score= 4.508488800545665\n",
            "\t Recommend Product [ Móc khóa BTS phát sáng BTS mẫu B ] Score= 4.287152497686643\n",
            "\t Recommend Product [ Túi mây hình thang ] Score= 4.427628092787159\n",
            "\t Recommend Product [ Đĩa lá lớn tre cuốn ] Score= 4.7081916278805975\n",
            "\t Recommend Product [ Túi xách tay ] Score= 4.5117331617370855\n",
            "\t Recommend Product [ Túi cói ] Score= 4.295450856872411\n",
            "\t Recommend Product [ Quần Baggy Jean Nữ ] Score= 4.4321957216885455\n",
            "\t Recommend Product [ Quần Baggy Jean Nữ ] Score= 4.432724779940689\n",
            "\t Recommend Product [ Quần Jean Baggy Nữ B & Y ] Score= 4.460107490610939\n",
            "\t Recommend Product [ Thú bông Baby Kookie JungKook doll BTS bản mini ] Score= 4.711959496042334\n",
            "\t Recommend Product [ Balo BTS thông minh màu xanh ] Score= 4.475681283696504\n",
            "\t Recommend Product [ Converse đen cổ thấp ] Score= 4.519755094556232\n",
            "\t Recommend Product [ Converse đen cổ thấp ] Score= 4.29281062787812\n",
            "\t Recommend Product [ Giày Sneaker Adidas Superstar Nam Nữ Rubber Da Trơn White/Trắng ] Score= 4.3927092684499325\n",
            "\t Recommend Product [ Converse vàng bạch kim ] Score= 4.580132459950629\n",
            "\t Recommend Product [ Vans ] Score= 4.38127553692071\n",
            "\t Recommend Product [ Puma ] Score= 4.622505416959106\n",
            "\t Recommend Product [ New Banlance 580 ] Score= 4.666512553555851\n",
            "\t Recommend Product [ Jordan Retro ] Score= 4.607277875090429\n",
            "\t Recommend Product [ nike air force 1 low ] Score= 4.214125312648147\n",
            "\t Recommend Product [ Skerchers ] Score= 4.656825448441742\n",
            "\t Recommend Product [ Converse classic xám ] Score= 4.484961245095421\n",
            "\t Recommend Product [ Nike Air Max ] Score= 4.476419585010683\n",
            "\t Recommend Product [ Converse đỏ cổ cao ] Score= 4.441568155259856\n",
            "\t Recommend Product [ Quần Jeans Nữ B&Y ] Score= 4.296384530463516\n",
            "\t Recommend Product [ Quai vải ] Score= 4.559313541956057\n",
            "\t Recommend Product [ Ống hút inox ] Score= 4.392007825331248\n",
            "\t Recommend Product [ Hộp bã mía ] Score= 4.566191358028125\n",
            "\t Recommend Product [ Giấy nảy mầm ] Score= 4.355712676879748\n",
            "\t Recommend Product [ Túi giấy ] Score= 4.3393758111522835\n",
            "\t Recommend Product [ Aó Sơ Mi Form Rộng Dáng Dài B&Y ] Score= 4.488067543865987\n",
            "\t Recommend Product [ Aó Thun B&Y ] Score= 4.323366437183838\n",
            "\t Recommend Product [ Bàn chải tre ] Score= 4.459893841773663\n",
            "\t Recommend Product [ LeBleu Homestay dành cho 4 người ] Score= 4.579130922548333\n",
            "\t Recommend Product [ Le Bleu Homestay dành cho 4 người ] Score= 4.702728222257566\n",
            "\t Recommend Product [ Đầm Suông B&Y ] Score= 4.557699528814351\n",
            "\t Recommend Product [ LeBleu Homestay dành cho 2 người ] Score= 4.446849975514749\n",
            "\t Recommend Product [ Chân Váy B&Y ] Score= 4.175319306160143\n",
            "\t Recommend Product [ HẠT GIỐNG SEN NHẬT ] Score= 4.950674004900921\n",
            "\t Recommend Product [ HẠT GIỐNG SEN NHẬT ] Score= 4.595552351128814\n",
            "\t Recommend Product [ Quần Short Kaki ống rộng B&Y ] Score= 4.589596073736824\n",
            "\t Recommend Product [ HẠT GIỐNG KIWI ] Score= 4.186482010040864\n",
            "\t Recommend Product [ Tre Homestay Phòng riêng ] Score= 4.277948545021137\n",
            "\t Recommend Product [ Combo Hoa Ban ] Score= 4.410813423089925\n",
            "\t Recommend Product [ Thời Bao Cấp Homestay Phòng Dorm ] Score= 4.4024123354427305\n",
            "\t Recommend Product [ Thời Bao Cấp Homestay Phòng Đơn ] Score= 4.479186691515478\n",
            "\t Recommend Product [ Legume Homestay Phòng Bungalow 2 người ] Score= 4.4513895467760465\n",
            "\t Recommend Product [ Legume Homestay Phòng Bungalow 4 người ] Score= 4.4396571842034716\n",
            "\t Recommend Product [ Gậy Cổ Vũ Unoff Lightstick Seventeen ] Score= 4.545687889873431\n",
            "\t Recommend Product [ Peaceminusone cap Gdragon - pea001 ] Score= 4.6339067109566425\n",
            "\t Recommend Product [ Áo ikon ] Score= 4.511310399974871\n",
            "\t Recommend Product [ Gối Rj gối ôm BTS ] Score= 4.671494202200898\n",
            "\t Recommend Product [ Gối Ôm Vuông BTS GVKC060 ] Score= 4.4609406304524\n",
            "\t Recommend Product [ Balo thời trang Troy - Bigbang ] Score= 4.641830870912721\n",
            "\t Recommend Product [ Ống hút inox ] Score= 4.565029353135587\n",
            "\t Recommend Product [ Cốc xếp lúa mạch thân thiện môi trường ] Score= 4.50295764285978\n",
            "\t Recommend Product [ Ống hút tre ] Score= 4.2624367445617315\n",
            "\t Recommend Product [ Bàn chải tre ] Score= 4.4919934173287865\n",
            "\t Recommend Product [ Bộ thìa đũa dĩa làm từ lúa mạch ] Score= 4.747002917284324\n",
            "\t Recommend Product [ Dép cói ] Score= 4.6505235810304\n",
            "\t Recommend Product [ Túi mây hình thang ] Score= 4.558328788236452\n",
            "\t Recommend Product [ Túi xách tay ] Score= 4.551976608435512\n",
            "\t Recommend Product [ Quai vải ] Score= 4.534282073658355\n",
            "\t Recommend Product [ Hộp bã mía ] Score= 4.418949454583929\n",
            "\t Recommend Product [ Giấy nảy mầm ] Score= 4.339263278253068\n",
            "\t Recommend Product [ Túi giấy ] Score= 4.582143736187739\n",
            "\t Recommend Product [ Basic tee 1 ] Score= 4.3274603994497705\n",
            "\t Recommend Product [ Bơ Sáp Đà Lạt ] Score= 4.551630907039172\n",
            "\t Recommend Product [ Bưởi Năm Roi Vĩnh Long ] Score= 4.69795047992532\n",
            "\t Recommend Product [ Chôm Chôm Tiền Giang ] Score= 4.470558411315652\n",
            "\t Recommend Product [ Chuối Ngự - Nam Định ] Score= 4.395743801817673\n",
            "\t Recommend Product [ Dâu Tây Đà Lạt ] Score= 4.531769115045547\n",
            "\t Recommend Product [ Tank top 01 ] Score= 4.474315927811754\n",
            "\t Recommend Product [ Denim Jeans ] Score= 4.316580014547974\n",
            "\t Recommend Product [ Short Jeans 01 ] Score= 4.684578490484364\n",
            "\t Recommend Product [ Short Jeans 02 ] Score= 4.545795654773006\n",
            "\t Recommend Product [ Bamboo Straw ] Score= 4.726377857204531\n",
            "\t Recommend Product [ Dip Dye Sweater ] Score= 4.6422214650427245\n",
            "\t Recommend Product [ Basic Jogger In Black ] Score= 4.585219380043966\n",
            "\t Recommend Product [ Bamboo Basket ] Score= 4.534741816343835\n",
            "\t Recommend Product [ iPhone Xs Max 64GB ] Score= 4.6315315396146115\n",
            "\t Recommend Product [ Set inox straw ] Score= 4.783533259286038\n",
            "\t Recommend Product [ Canvas Bag ] Score= 4.488125638465035\n",
            "\t Recommend Product [ Bamboo Toothbrush ] Score= 4.644016408228239\n",
            "\t Recommend Product [ Samsung Galaxy Note 8 ] Score= 4.506610177836032\n",
            "\t Recommend Product [ Beverage Steeve Bag ] Score= 4.415984392442293\n",
            "\t Recommend Product [ OPPO F11 ] Score= 4.418559358491209\n",
            "\t Recommend Product [ Samsung Galaxy A70 ] Score= 4.697254113295412\n",
            "\t Recommend Product [ Huawei P30 Lite ] Score= 4.4909380372589744\n",
            "\t Recommend Product [ Paper Coffee Cup ] Score= 4.794509889215245\n",
            "\t Recommend Product [ Circle Straw Bag ] Score= 4.67699771237988\n",
            "\t Recommend Product [ Grass Straw ] Score= 4.460642920558648\n",
            "\t Recommend Product [ Cam Canh Hà Nội ] Score= 4.375319255651581\n",
            "\t Recommend Product [ Chuối Ngự - Nam Định ] Score= 4.4311371116425144\n",
            "\t Recommend Product [ Mận Hậu - Sơn La ] Score= 4.5523767471942485\n",
            "\t Recommend Product [ Nhãn Lồng Hưng Yên ] Score= 4.28521039885743\n",
            "\t Recommend Product [ Vải Thiều Thanh Hà ] Score= 4.2251568193219375\n",
            "\t Recommend Product [ Diamond Promise Ring 1/5 ct tw Round-cut Sterling Silver ] Score= 4.442148225491947\n",
            "\t Recommend Product [ Diamond Promise Ring 1/15 ct tw Sterling Silver ] Score= 4.2668240716942885\n",
            "\t Recommend Product [ Promise Ring Diamond Accent Sterling Silver ] Score= 4.531116730789325\n",
            "\t Recommend Product [ Diamond Heart Promise Ring 1/20 ct tw Round Sterling Silver ] Score= 4.43911093291736\n",
            "\t Recommend Product [ Black/White Diamonds 1/5 ct tw Promise Ring Sterling Silver ] Score= 4.532648963515554\n",
            "\t Recommend Product [ Diamond Promise Ring 1/15 ct tw Round-cut Sterling Silver ] Score= 4.497913244502099\n",
            "\t Recommend Product [ Diamond Promise Ring 1/4 ct tw Round-cut Sterling Silver ] Score= 4.407205201384961\n",
            "\t Recommend Product [ Diamond Promise Ring 1/6 ct tw Round-cut 10K White Gold ] Score= 4.384998251642998\n",
            "\t Recommend Product [ Promise Ring 1/10 ct tw Diamonds Sterling Silver/10K Gold ] Score= 4.41946033903216\n",
            "\t Recommend Product [ Diamond Promise Ring 1/6 ct tw Round-cut 10K White Gold ] Score= 4.4427614481591595\n",
            "\t Recommend Product [ Diamond Promise Ring 1/5 ct tw Round/Baguette 10K Rose Gold ] Score= 4.51765633290167\n",
            "\t Recommend Product [ Promise Ring 1/10 ct Diamond 10K White Gold ] Score= 4.5500475179016515\n",
            "\t Recommend Product [ Promise Ring 1/6 ct tw Diamonds Sterling Silver/10K Gold ] Score= 4.232174857146449\n",
            "\t Recommend Product [ Diamond Promise Ring 1/10 ct tw Round-cut Sterling Silver ] Score= 4.723520569329453\n",
            "\t Recommend Product [ Three-Stone Promise Ring 1/6 ct tw Diamonds 10K White Gold ] Score= 4.3680582641846755\n",
            "\t Recommend Product [ Stackable Diamond Ring 1/8 ct tw Diamonds Sterling Silver ] Score= 4.255443363911862\n",
            "\t Recommend Product [ Blue & White Diamonds 1/8 ct tw Round-cut Sterling Silver Promise Ring ] Score= 4.611225988030213\n",
            "\t Recommend Product [ Diamond Promise Ring 1/5 ct tw Round-cut Sterling Silver ] Score= 4.663769340866352\n",
            "\t Recommend Product [ Black/White Diamond Promise Ring 1/10 ct tw Sterling Silver ] Score= 4.27812069332615\n",
            "\t Recommend Product [ Diamond Promise Ring 1/20 ct tw Round-cut Sterling Silver ] Score= 4.597778466237036\n",
            "\t Recommend Product [ Diamond Promise Ring 1/6 ct tw Round-cut 10K White Gold ] Score= 4.4235264989511744\n",
            "\t Recommend Product [ Diamond Promise Ring 1/4 ct tw Round/Baguette 10K White Gold ] Score= 4.61835028723493\n",
            "\t Recommend Product [ Diamond Promise Ring 1/6 ct tw Black/White Sterling Silver ] Score= 4.574166769840896\n",
            "\t Recommend Product [ Diamond Promise Ring 1/5 ct tw Round-cut Sterling Silver ] Score= 4.537336408372997\n",
            "\t Recommend Product [ Diamond Promise Ring 1/5 ct tw Round-cut Sterling Silver ] Score= 4.166537744053899\n",
            "\t Recommend Product [ Diamond Promise Ring 1/8 ct tw Round-cut Sterling Silver Ring ] Score= 4.802803955427438\n",
            "\t Recommend Product [ Heart Promise Ring 1/5 ct tw Diamonds Sterling Silver ] Score= 4.561589294169265\n",
            "\t Recommend Product [ Diamond Promise Ring 1/6 ct tw Round-cut Sterling Silver ] Score= 4.490363315210373\n",
            "\t Recommend Product [ Diamond Promise Ring 1/10 ct tw Round-cut Sterling Silver ] Score= 4.1549874259345385\n",
            "\t Recommend Product [ Diamond Promise Ring 1/8 ct tw Round-cut Sterling Silver ] Score= 4.489720772537507\n",
            "\t Recommend Product [ Black/White Diamond Promise Ring 1/5 ct tw Sterling Silver ] Score= 4.5809068520215925\n",
            "\t Recommend Product [ Diamond Promise Ring 1/6 ct tw Round-cut Sterling Silver ] Score= 4.717909398622211\n",
            "\t Recommend Product [ Diamond Ring 1/5 ct tw Sterling Silver/10K Rose Gold ] Score= 4.428174306147327\n",
            "\t Recommend Product [ Diamond Promise Ring 1/10 ct tw Round-cut 10K White Gold ] Score= 4.295976301347035\n",
            "\t Recommend Product [ Diamond Promise Ring 1/2 ct tw Round-cut 10K White Gold ] Score= 4.539534347615024\n",
            "\t Recommend Product [ Diamond Promise Ring 1/6 ct tw Round-cut 10K Rose Gold ] Score= 4.423265734266471\n",
            "\t Recommend Product [ Diamond Promise Ring 1/8 ct tw Round-cut 10K Rose Gold ] Score= 4.170355686076012\n",
            "\t Recommend Product [ Diamond Promise Ring 1/8 ct tw Round-cut Sterling Silver ] Score= 4.103886585309686\n",
            "\t Recommend Product [ Diamond Promise Ring 1/4 ct tw Pear/Round 10K Yellow Gold ] Score= 4.715256379479209\n",
            "\t Recommend Product [ Black/White Diamond Promise Ring 1/8 ct tw Sterling Silver ] Score= 4.348426008443732\n",
            "\t Recommend Product [ Diamond Promise Ring 1/5 ct tw Round-cut Sterling Silver ] Score= 4.810683943463073\n",
            "\t Recommend Product [ Diamond Promise Ring 1/10 ct tw Round-cut 10K White Gold ] Score= 4.734566955845989\n",
            "\t Recommend Product [ 3-Stone Promise Ring 1/6 ct tw Diamonds Sterling Silver ] Score= 4.55180643722625\n",
            "\t Recommend Product [ Diamond Heart Promise Ring 1/10 cttw Round-cut Sterling Silver/10K Gold ] Score= 4.570890500951203\n",
            "\t Recommend Product [ Black & White Diamond Promise Ring 1/6 ct tw Sterling Silver ] Score= 4.729445276834616\n",
            "\t Recommend Product [ Diamond Promise Ring 1/4 ct tw Round-cut Sterling Silver ] Score= 4.633301960470065\n",
            "\t Recommend Product [ Black/White Diamond Promise Ring 1/6 ct tw Sterling Silver ] Score= 4.636712226468035\n",
            "\t Recommend Product [ Diamond Promise Ring 1/15 Carat Round-cut Sterling Silver ] Score= 4.7693300829996\n",
            "\t Recommend Product [ Hallmark Diamonds Promise Ring 1/4 ct tw Sterling Silver ] Score= 4.448782418017511\n",
            "\t Recommend Product [ Diamond Promise Ring 1/4 ct tw Round-cut 10K White Gold ] Score= 4.440831490703247\n",
            "\t Recommend Product [ Diamond Heart Promise Ring 1/6 ct tw Round-cut 10K Yellow Gold ] Score= 4.680025562718771\n",
            "\t Recommend Product [ Diamond Promise Ring 1/8 ct tw Round-cut Sterling Silver ] Score= 4.3447508338393535\n",
            "\t Recommend Product [ Diamond Promise Ring 1/6 ct tw Round-cut Sterling Silver ] Score= 4.5712092188995985\n",
            "\t Recommend Product [ Diamond Promise Ring 1/6 ct tw Round-cut 10K Yellow Gold ] Score= 4.270420205026095\n",
            "\t Recommend Product [ Hallmark Diamonds Amethyst Promise Ring 1/10 ct tw Sterling Silver & 10K Rose Gold ] Score= 4.463144368666208\n",
            "\t Recommend Product [ Diamond Promise Ring 1/10 ct tw Round-cut Sterling Silver ] Score= 4.719107817999351\n",
            "\t Recommend Product [ Diamond Promise Ring 1/5 ct tw Round/Baguette 10K White Gold ] Score= 4.240864492453583\n",
            "\t Recommend Product [ Promise Ring 1/5 ct tw Diamonds Sterling Silver/10K Rose Gold ] Score= 4.595936984915244\n",
            "\t Recommend Product [ Diamond Promise Ring 1/6 ct tw Round-cut 10K Rose Gold ] Score= 4.574506457324334\n",
            "\t Recommend Product [ Diamond Promise Ring 1/8 ct tw Round-cut Sterling Silver ] Score= 4.581765411230587\n",
            "\t Recommend Product [ Diamond Promise Ring 1/6 ct tw Round-cut 10K Two-Tone Gold ] Score= 4.475804430877791\n",
            "\t Recommend Product [ Diamond Promise Ring 1/6 ct tw Blue/White 10K Rose Gold ] Score= 4.514859426470167\n",
            "\t Recommend Product [ Diamond Promise Ring 1/6 ct tw Round-cut 10K Yellow Gold ] Score= 4.5391936997636675\n",
            "\t Recommend Product [ Diamond Promise Ring 1/4 ct tw Round-cut 10K Rose Gold ] Score= 4.474706219323253\n",
            "\t Recommend Product [ Infinity Symbol Ring 1/6 ct tw Diamonds Sterling Silver ] Score= 4.486211404270366\n",
            "\t Recommend Product [ Hallmark Diamonds Lab-Created Blue Sapphire Promise Ring 1/10 ct tw Sterling Silver & 10K Rose Gold ] Score= 4.325445205890909\n",
            "\t Recommend Product [ Diamond Promise Ring 1/10 ct tw Baguette & Round-cut 10K Yellow Gold ] Score= 4.432777241310366\n",
            "\t Recommend Product [ Hallmark Diamonds Swiss Blue Topaz Promise Ring 1/10 ct tw Sterling Silver & 10K Rose Gold ] Score= 4.617537276353303\n",
            "\t Recommend Product [ Men's Diamond Band 1-1/2 ct tw Round-cut 10K White Gold ] Score= 4.52823690569615\n",
            "\t Recommend Product [ Mother & Child Ring 1/20 cttw Diamonds Sterling Silver/10K Gold ] Score= 4.514523771639804\n",
            "\t Recommend Product [ THE LEO Diamond Ring 1 ct tw Round-cut 14K White Gold ] Score= 4.634258811085039\n",
            "\t Recommend Product [ Everything You Are Diamond Ring 1-3/4 ct tw 10K White Gold ] Score= 4.840488530564693\n",
            "\t Recommend Product [ Mom Ring 1/5 ct tw Diamonds Sterling Silver ] Score= 4.310046433580125\n",
            "\t Recommend Product [ Le Vian Chocolatier Ring 1-1/3 ct tw Diamonds 14K Vanilla Gold ] Score= 4.540225488397719\n",
            "\t Recommend Product [ Diamond Ring 1/10 ct tw Round-cut Sterling Silver ] Score= 4.428028887004784\n",
            "\t Recommend Product [ Diamond Ring 1/6 ct tw 10K White Gold ] Score= 4.2842831943713735\n",
            "\t Recommend Product [ Diamond Heart Ring 1/2 ct tw Round-cut 10K White Gold ] Score= 4.385464547922389\n",
            "\t Recommend Product [ Bone Infinity Ring 1/20 ct tw Blue Diamonds Sterling Silver ] Score= 4.587484318875953\n",
            "\t Recommend Product [ Diamond Leaf Ring 1/10 ct tw Round-cut 10K Rose Gold ] Score= 4.320736503402527\n",
            "\t Recommend Product [ Diamond Ring 1/15 ct tw Round-cut 10K Rose Gold ] Score= 4.49874318766435\n",
            "\t Recommend Product [ Diamond Ring 1/4 ct tw Princess/Round Sterling Silver ] Score= 4.405412365562627\n",
            "\t Recommend Product [ Diamond North South Ring 1/2 ct tw Round-cut 10K White Gold ] Score= 4.566022155851301\n",
            "\t Recommend Product [ Diamond Ring 1/4 ct tw Round-cut 10K White Gold ] Score= 4.369212676325552\n",
            "\t Recommend Product [ Diamond Heart Ring 1/20 ct tw Sterling Silver ] Score= 4.595595942191691\n",
            "\t Recommend Product [ Le Vian Chocolate Diamond Ring 3/8 ct tw 14K Gold ] Score= 4.667164317284583\n",
            "\t Recommend Product [ Diamond Heart/Infinity Ring 1/6 ctw 10K Two-Tone Gold ] Score= 4.779456273958182\n",
            "\t Recommend Product [ Everything You Are Diamond Ring 1/2 ct tw 14K White Gold ] Score= 4.580027621385349\n",
            "\t Recommend Product [ Diamond Ring 3/4 ct tw 10K White Gold ] Score= 4.479973222073598\n",
            "\t Recommend Product [ Leo Zodiac Ring 1/10 ct tw Diamonds Sterling Silver ] Score= 4.398975226301159\n",
            "\t Recommend Product [ Blue & White Diamond Ring 1/4 ct tw Round-cut Sterling Silver ] Score= 4.5636098729437915\n",
            "\t Recommend Product [ Le Vian Chocolate & Nude Diamond Ring 1 ct tw 14K Gold ] Score= 4.058140138771832\n",
            "\t Recommend Product [ Diamond Flower Ring 1/20 Carat Round-cut Sterling Silver ] Score= 4.454979065348625\n",
            "\t Recommend Product [ Diamond Woven Ring 1/8 ct tw Round-cut Sterling Silver ] Score= 4.535765060199758\n",
            "\t Recommend Product [ Disney Treasures \"Bambi\" Diamond Ring 1/10 ct tw Sterling Silver & 10K Rose Gold ] Score= 4.57016267229122\n",
            "\t Recommend Product [ Diamond Ring 3/4 ct tw Round-cut 10K White Gold ] Score= 4.513106722199006\n",
            "\t Recommend Product [ Heart Ring 1/20 cttw Diamonds Sterling Silver/10K Two-Tone Gold ] Score= 4.381617728655499\n",
            "\t Recommend Product [ Le Vian Diamond Butterfly Ring 5/8 ct tw 14K Honey Gold ] Score= 4.391580853321543\n",
            "\t Recommend Product [ Everything You Are Diamond Ring 1 ct tw 10K Yellow Gold ] Score= 4.73144272620109\n",
            "\t Recommend Product [ Le Vian Nude and Chocolate Diamond Ring 1/4 ct tw 14K Honey Gold ] Score= 4.32000483276172\n",
            "\t Recommend Product [ Diamond Message Ring 1/8 ct tw Sterling Silver/10K Rose Gold ] Score= 4.480080746945412\n",
            "\t Recommend Product [ Le Vian Men's Diamond Ring 7/8 ct tw 14K Honey Gold ] Score= 4.55524872024487\n",
            "\t Recommend Product [ Men's Diamond Ring 2 ct tw Round-cut 10K Yellow Gold ] Score= 4.377714702834739\n",
            "\t Recommend Product [ Le Vian Chocolate Diamond Paw Print Ring 5/8 ct tw 14K Gold ] Score= 4.545798070475893\n",
            "\t Recommend Product [ Everything You Are Diamond Ring 2 ct tw 10K White Gold ] Score= 4.320291117225315\n",
            "\t Recommend Product [ Le Vian Chocolate Diamond Ring 1/5 ct tw 14K Strawberry Gold ] Score= 4.2201098286768675\n",
            "\t Recommend Product [ Diamond Ring 1/8 ct tw Princess/Round 10K White Gold ] Score= 4.341291147923931\n",
            "\t Recommend Product [ Heart Ring 1/5 ct tw Diamonds 10K Two-Tone Gold ] Score= 4.59897829167261\n",
            "\t Recommend Product [ Diamond Ring 1/10 ct tw Round-cut 10K White Gold ] Score= 4.561604128750221\n",
            "\t Recommend Product [ Diamond Teardrop Ring 1/15 ct tw Round-cut 10K White Gold ] Score= 4.345830503913268\n",
            "\t Recommend Product [ Everything You Are Diamond Ring 1 ct tw 10K White Gold ] Score= 4.386448554653957\n",
            "\t Recommend Product [ Diamond Ring 1/2 ct tw Round-cut 10K White Gold ] Score= 4.596079584876651\n",
            "\t Recommend Product [ Everything You Are Diamond Ring 1-1/2 ct tw 10K White Gold ] Score= 4.440806492454718\n",
            "\t Recommend Product [ Diamond Fashion Ring 1/3 Carat tw 10K White Gold ] Score= 4.72503880506608\n",
            "\t Recommend Product [ Diamond Leaf/Vine Ring 1/6 ct tw Round-cut 10K Yellow Gold ] Score= 4.838162494807416\n",
            "\t Recommend Product [ Diamond Heart Ring 1/15 ct tw Round-cut Sterling Silver ] Score= 4.4394807205978895\n",
            "\t Recommend Product [ Everything You Are Diamond Ring 1/2 ct tw 10K Yellow Gold ] Score= 4.4812851229934925\n",
            "\t Recommend Product [ Everything You Are Diamond Ring 1-3/4 ct tw 14K White Gold ] Score= 4.677717207152587\n",
            "\t Recommend Product [ Diamond Ring 1/10 ct tw Round-cut 10K Rose Gold ] Score= 4.646566991568863\n",
            "\t Recommend Product [ Le Vian Diamond Ring 3/8 ct tw 14K Honey Gold ] Score= 4.422456796744115\n",
            "\t Recommend Product [ Le Vian Diamond Ring 7/8 ct tw Round-cut 14K Honey Gold ] Score= 4.738498132186344\n",
            "\t Recommend Product [ Le Vian Aquamarine Ring 1/6 ct tw Diamonds 14K Vanilla Gold ] Score= 4.291396820976286\n",
            "\t Recommend Product [ Le Vian Chocolate Quartz Ring 1/4 ct tw Diamonds 14K Gold ] Score= 4.655222805294658\n",
            "\t Recommend Product [ Le Vian Amethyst & Iolite Ring 5/8 ct tw Diamonds 14K Gold ] Score= 4.518795310770287\n",
            "\t Recommend Product [ Le Vian Amethyst Ring 14K Vanilla Gold ] Score= 4.39815840790571\n",
            "\t Recommend Product [ Le Vian Diamond Ring 1 ct tw 14K Strawberry Gold ] Score= 4.508315084105857\n",
            "\t Recommend Product [ Le Vian Natural Ruby Ring 14K Strawberry Gold ] Score= 4.424768266053989\n",
            "\t Recommend Product [ Le Vian Aquaprase & Diamond Ring 1/3 ct tw 14K Strawberry Gold ] Score= 4.341964533994746\n",
            "\t Recommend Product [ Le Vian Chocolatier Ring 1-1/3 ct tw Diamonds 14K Vanilla Gold ] Score= 4.304373624679073\n",
            "\t Recommend Product [ Le Vian Opal Ring 1/5 ct tw Diamonds 14K Strawberry Gold ] Score= 4.490853497342446\n",
            "\t Recommend Product [ Le Vian Quartz & Diamond Ring 1/3 ct tw 14K Vanilla Gold ] Score= 4.506661174516194\n",
            "\t Recommend Product [ Le Vian Couture Tanzanite Ring 1-5/8 ct tw Diamonds 18K Strawberry Gold ] Score= 4.40899171584235\n",
            "\t Recommend Product [ Le Vian Aquamarine Ring 1/6 ct tw Diamonds 14K Vanilla Gold ] Score= 4.444949867783444\n",
            "\t Recommend Product [ Men's Diamond & Lab-Created Ruby Lion Ring 1/2 ct tw Round-cut 10K Yellow Gold ] Score= 4.448501144247304\n",
            "\t Recommend Product [ Men's Onyx & Diamond Ring 1/10 ct tw 10K Yellow Gold ] Score= 4.202757829171431\n",
            "\t Recommend Product [ White Lab-Created Sapphire Ring Pear/Round-cut Sterling Silver ] Score= 4.42542315164081\n",
            "\t Recommend Product [ Neil Lane Morganite Engagement Ring 3/8 ct tw Diamonds 14K Gold ] Score= 4.614218312477588\n",
            "\t Recommend Product [ Natural Sapphire Ring 1/8 ct tw Diamonds 10K White Gold ] Score= 4.256010901553617\n",
            "\t Recommend Product [ Aquamarine & Diamond Ring 10K White Gold ] Score= 4.557914908280519\n",
            "\t Recommend Product [ Disney Treasures The Nightmare Before Christmas Black Onyx & Diamond Ring 1/5 ct tw Sterling Silver ] Score= 4.567356824318945\n",
            "\t Recommend Product [ Ethiopian Opal & Diamond Ring 1/10 ct tw 10K Rose Gold ] Score= 4.351799043301669\n",
            "\t Recommend Product [ Lab-Created Pink Opal Heart Ring Sterling Silver ] Score= 4.3927835841475735\n",
            "\t Recommend Product [ Blue Sapphire & Diamond Dainty Flower Ring Round-cut 10K Yellow Gold ] Score= 4.4860293051006135\n",
            "\t Recommend Product [ Le Vian Opal Ring 1/5 ct tw Diamonds 14K Strawberry Gold ] Score= 4.365116809561792\n",
            "\t Recommend Product [ Natural Ruby Ring 1/15 ct tw Diamonds 10K Yellow Gold ] Score= 4.489202950146085\n",
            "\t Recommend Product [ Garnet Ring Diamond Accents 10K Yellow Gold ] Score= 4.240065158751519\n",
            "\t Recommend Product [ Tanzanite Ring Sterling Silver ] Score= 4.568448845567357\n",
            "\t Recommend Product [ 8mm Natural Sapphire Wedding Band White Tungsten Carbide ] Score= 4.29055556806963\n",
            "\t Recommend Product [ Cultured Pearl Ring 1/15 ct tw Diamonds Sterling Silver ] Score= 4.382425569570012\n",
            "\t Recommend Product [ Lab-Created Ruby & White Lab-Created Sapphire Ring Sterling Silver ] Score= 4.486762724728893\n",
            "\t Recommend Product [ Blue Topaz Ring 1/6 ct tw Diamonds 10K White Gold ] Score= 4.489285215675369\n",
            "\t Recommend Product [ Diamond Anniversary Band 1/20 ct tw Round-cut 10K White Gold ] Score= 4.58577063862165\n",
            "\t Recommend Product [ Diamond Wedding Band 1/15 ct tw Round-cut 10K White Gold ] Score= 4.818017187577585\n",
            "\t Recommend Product [ Stackable Diamond Ring 1/8 ct tw Diamonds Sterling Silver ] Score= 4.288505195432562\n",
            "\t Recommend Product [ Crown Ring Lab-Created White Sapphires Sterling Silver ] Score= 4.386007329661918\n",
            "\t Recommend Product [ Stackable Ring Sterling Silver ] Score= 4.660821889064412\n",
            "\t Recommend Product [ Diamond Wedding Band 1/6 Carat tw 10K Rose Gold ] Score= 4.549362886922572\n",
            "\t Recommend Product [ Diamond Eternity Ring 2 ct tw Round-cut 14K White Gold ] Score= 4.184705739440518\n",
            "\t Recommend Product [ Anniversary Band 1/4 ct tw Diamonds 10K White Gold ] Score= 4.3521315642256\n",
            "\t Recommend Product [ Diamond Wedding Band 1/20 ct tw 10K White Gold ] Score= 4.688999575436585\n",
            "\t Recommend Product [ Diamond Anniversary Ring 1/10 ct tw Round-cut 10K White Gold ] Score= 4.469040799915846\n",
            "\t Recommend Product [ Black Silicone Women's Wedding Band ] Score= 4.677138519135186\n",
            "\t Recommend Product [ Stackable Heart Ring Diamond Accents Sterling Silver ] Score= 4.640016905539257\n",
            "\t Recommend Product [ Stackable Ring Fleur-de-Lis Sterling Silver ] Score= 4.599739473057102\n",
            "\t Recommend Product [ Stackable Butterfly Ring Lab-Created Sapphire Sterling Silver ] Score= 4.526143652232052\n",
            "\t Recommend Product [ Stackable Ring Lab-Created Sapphire Sterling Silver ] Score= 4.385160456143922\n",
            "\t Recommend Product [ Stackable Ring Sterling Silver ] Score= 4.552521614844605\n",
            "\t Recommend Product [ Stackable Ring Sterling Silver ] Score= 4.393163639367213\n",
            "\t Recommend Product [ Sapphire Ring 1/10 ct tw Diamonds 10K White Gold ] Score= 4.642170050452277\n",
            "\t Recommend Product [ Wedding Band 14K Yellow Gold ] Score= 4.563006426672861\n",
            "\t Recommend Product [ Neil Lane Diamond Wedding Band 1/4 ct tw 14K White Gold ] Score= 4.259667449013435\n",
            "\t Recommend Product [ Diamond Anniversary Band 1/4 cttw Round/Baguette 14K Gold ] Score= 4.419346655255698\n",
            "\t Recommend Product [ Stackable Ring Lab-Created Pink Sapphire Sterling Silver ] Score= 4.402418558295909\n",
            "\t Recommend Product [ Neil Lane Ruby Anniversary Band 1/6 ct tw Diamonds 14K Gold ] Score= 4.493026228579744\n",
            "\t Recommend Product [ Hallmark Diamonds Heart Necklace 1/2 ct tw Sterling Silver 18 ] Score= 4.6904235995330845\n",
            "\t Recommend Product [ Hallmark Diamonds Heart Necklace 1/15 ct tw Sterling Silver ] Score= 4.685703977243247\n",
            "\t Recommend Product [ Everything You Are Diamond Heart Necklace 1/2 ct tw 10K White Gold 18\" ] Score= 4.433302424170414\n",
            "\t Recommend Product [ Diamond Heart Necklace 1/10 ct tw Round-cut Sterling Silver 18\" ] Score= 4.654149314656924\n",
            "\t Recommend Product [ Diamond Heart Necklace 1/6 ct tw Black/White Sterling Silver ] Score= 4.351085365070986\n",
            "\t Recommend Product [ Black Diamond Necklace 1/15 carat tw 10K Rose Gold ] Score= 4.767201864391718\n",
            "\t Recommend Product [ Lab-Created Emerald & White Lab-Created Sapphire Heart Necklace Sterling Silver 18\" ] Score= 4.516728153522112\n",
            "\t Recommend Product [ Heart Necklace 1/20 ct tw Diamonds 10K White Gold ] Score= 4.432430837483008\n",
            "\t Recommend Product [ Heart Necklace 1/15 ct tw Diamonds Sterling Silver/10K Gold ] Score= 4.640360177997645\n",
            "\t Recommend Product [ Lab-Created Opal & White Lab-Created Sapphire 'Mom' Heart Necklace Sterling Silver 18\" ] Score= 4.73345610151781\n",
            "\t Recommend Product [ Diamond Heart Boxed Set 1/2 ct tw Sterling Silver ] Score= 4.466543645817177\n",
            "\t Recommend Product [ Cultured Pearl & White Lab-Created Sapphire Heart Necklace Sterling Silver 18\" ] Score= 4.5632631454463635\n",
            "\t Recommend Product [ Diamond XO Necklace 1/10 ct tw Sterling Silver 18\" ] Score= 4.680760538332\n",
            "\t Recommend Product [ Angel Locket Necklace Black Diamond Accents Sterling Silver ] Score= 4.3931000087598395\n",
            "\t Recommend Product [ Heart Paw Print Necklace 14K Yellow Gold 16\"-18\" Adjustable ] Score= 4.638005851818395\n",
            "\t Recommend Product [ Lab-Created Ruby MOM Heart Necklace Sterling Silver 18\" ] Score= 4.581402817739964\n",
            "\t Recommend Product [ Lab-Created Emerald & White Lab-Created Sapphire 'Mom' Heart Necklace Sterling Silver 18\" ] Score= 4.470952175167828\n",
            "\t Recommend Product [ Lab-Created Emerald MOM Necklace Sterling Silver 18\" ] Score= 4.550074054343596\n",
            "\t Recommend Product [ Blue & White Lab-Created Sapphire 'I Love You Mom' Necklace Sterling Silver 18\" ] Score= 4.092892920361265\n",
            "\t Recommend Product [ Diamond Heart Necklace 3/4 carat tw 14K White Gold ] Score= 4.117618231426612\n",
            "\t Recommend Product [ Le Vian Chocolate Diamonds 1/8 ct tw Necklace 14K Honey Gold ] Score= 4.650495681040589\n",
            "\t Recommend Product [ Diamond Heart Necklace 1/5 ct tw Round-cut 10K Two-Tone Gold ] Score= 4.60716398502274\n",
            "\t Recommend Product [ Diamond Heart Necklace 1/15 ct tw Round-cut 10K Rose Gold ] Score= 4.393984615862666\n",
            "\t Recommend Product [ Garnet MOM Heart Necklace Sterling Silver 18\" ] Score= 4.327477766706841\n",
            "\t Recommend Product [ Natural Ruby Necklace 1/5 ct tw Diamonds 10K Rose Gold 17\" ] Score= 4.283669104439694\n",
            "\t Recommend Product [ Mom Heart Necklace 14K Yellow Gold 16 to 18 Adjustable ] Score= 4.392997975781874\n",
            "\t Recommend Product [ Heart Station Necklace 14K Yellow Gold ] Score= 4.646022979150399\n",
            "\t Recommend Product [ Godiva x Le Vian Ruby Heart Necklace 3/8 ct tw Diamonds 14K Strawberry Gold 19\" ] Score= 4.041081256218847\n",
            "\t Recommend Product [ Unstoppable Love Necklace Lab-Created Sapphire Sterling Silver ] Score= 4.298208774642195\n",
            "\t Recommend Product [ Godiva x Le Vian Diamond Heart Necklace 3/8 ct tw 14K Honey Gold 19\" ] Score= 4.4900498804440545\n",
            "\t Recommend Product [ Diamond Heart Necklace 1/4 ct tw Round-Cut 10K Yellow Gold 18\" ] Score= 4.448205986892337\n",
            "\t Recommend Product [ Forever Connected Diamond Heart Necklace 1/4 ct tw Pear & Round-cut 10K White Gold 18\" ] Score= 4.343349724846722\n",
            "\t Recommend Product [ Hallmark Diamonds Necklace 1/10 ct tw Sterling Silver/10K Gold ] Score= 4.347545169289199\n",
            "\t Recommend Product [ Heart Necklace with Diamonds Sterling Silver/10K Rose Gold ] Score= 4.98722569534153\n",
            "\t Recommend Product [ Disney Treasures The Nightmare Before Christmas Diamond Necklace 1/5 ct tw Sterling Silver 17\" ] Score= 4.548863323350451\n",
            "\t Recommend Product [ Heart Necklace Diamond Accents 10K Rose Gold ] Score= 4.546860594551837\n",
            "\t Recommend Product [ Lab-Created Ruby & White Lab-Created Sapphire Heart Necklace Sterling Silver 18\" ] Score= 4.577904527662284\n",
            "\t Recommend Product [ Footprints Heart Locket Sterling Silver ] Score= 4.4500150973229475\n",
            "\t Recommend Product [ Amethyst Heart Necklace With Diamond Accent Sterling Silver ] Score= 4.759342603689243\n",
            "\t Recommend Product [ Diamond Heart Necklace Sterling Silver ] Score= 4.178830379141383\n",
            "\t Recommend Product [ Circle of Gratitude Diamond Heart Necklace 1/10 ct tw Round-cut 10K Rose Gold 19\" ] Score= 4.614472157775023\n",
            "\t Recommend Product [ Blue/White Diamond Necklace 1/6 ct tw Sterling Silver ] Score= 4.5461395110206775\n",
            "\t Recommend Product [ Diamond Heart Necklace 1 ct tw 10K White Gold 18\" ] Score= 4.345756219803271\n",
            "\t Recommend Product [ Heart Necklace Diamond Accents Sterling Silver ] Score= 4.240750783536498\n",
            "\t Recommend Product [ Hallmark Diamonds Mom Necklace 1/20 ct tw 10K Rose Gold Sterling Silver 18\" ] Score= 4.6378105499533575\n",
            "\t Recommend Product [ Unstoppable Love Heart Necklace Sterling Silver ] Score= 4.485510868750912\n",
            "\t Recommend Product [ Diamond Heart Necklace 1/10 ct tw Round-Cut 10K Yellow Gold 18\" ] Score= 4.398449886559476\n",
            "\t Recommend Product [ Heart Necklace Diamond Accents 10K Yellow Gold ] Score= 4.438967836093418\n",
            "\t Recommend Product [ Hallmark Diamonds Heart Necklace Diamond Accents Sterling Silver ] Score= 4.159947794187973\n",
            "\t Recommend Product [ Children's Disney Princess Crown Necklace 14K Yellow Gold 13\" ] Score= 4.935234226304587\n",
            "\t Recommend Product [ Color Stone Family Moon and Stars Necklace ] Score= 4.5542512945577185\n",
            "\t Recommend Product [ Silver Color Stone Family Dog Tag Necklace ] Score= 4.513144498026477\n",
            "\t Recommend Product [ Color Stone Couple's Necklace ] Score= 4.5483798715752535\n",
            "\t Recommend Product [ Nameplate Butterfly Necklace ] Score= 4.393258574040921\n",
            "\t Recommend Product [ Nameplate Heart Necklace ] Score= 4.494391060436813\n",
            "\t Recommend Product [ 1/8 Ct. tw Diamond Nameplate Heart Necklace ] Score= 4.494861099062824\n",
            "\t Recommend Product [ 1/6 Ct. tw Diamond Initials Couple's Heart Necklace ] Score= 4.444005844190312\n",
            "\t Recommend Product [ Color Stone Mrs. Necklace ] Score= 4.47568260342168\n",
            "\t Recommend Product [ Color Stone Nameplate Mrs. Necklace ] Score= 4.377848297112076\n",
            "\t Recommend Product [ Color Stone Nameplate Mrs. Necklace ] Score= 4.510530540453757\n",
            "\t Recommend Product [ Forever Connected Diamond Necklace 1/3 ct tw Round/Princess 10K Yellow Gold 18\" ] Score= 4.467493124902991\n",
            "\t Recommend Product [ Forever Connected Diamond Necklace 1/3 ct tw Pear/Round-Cut 10K Yellow Gold 18\" ] Score= 4.833390116147566\n",
            "\t Recommend Product [ Encircled by Love Diamond Necklace 1/3 ct tw Round-cut 10K Yellow Gold 18\" ] Score= 4.566999241641637\n",
            "\t Recommend Product [ Men's Cuban Curb Chain Necklace 6 ct tw Diamonds 10K Yellow Gold 22\" ] Score= 4.363725857163308\n",
            "\t Recommend Product [ Lab-Created Diamonds by KAY Cross Necklace 1/2 ct tw Round-Cut 14K Yellow Gold 18\" ] Score= 4.559341186823397\n",
            "\t Recommend Product [ Hallmark Diamonds Cross Necklace 1/8 ct tw 10K Yellow Gold 18\" ] Score= 4.73159534257433\n",
            "\t Recommend Product [ Disney Treasures Winnie the Pooh Diamond Necklace 1/6 ct tw 10K Two-Tone Gold 17\" ] Score= 4.527126825602937\n",
            "\t Recommend Product [ Paperclip Necklace 10K Yellow Gold 18\" ] Score= 4.490117837809796\n",
            "\t Recommend Product [ Cuban Chain Necklace 10K Yellow Gold 24\" ] Score= 4.612660050767649\n",
            "\t Recommend Product [ Rope Necklace 10K Yellow Gold 24\" Length ] Score= 4.785794209054042\n",
            "\t Recommend Product [ Miami Cuban Chain Necklace 10K Yellow Gold 22\" Length ] Score= 4.7913095095903575\n",
            "\t Recommend Product [ Men's Diamond Mariner Necklace 4 ct tw Round-cut 10K Yellow Gold 22\" ] Score= 4.421972446821443\n",
            "\t Recommend Product [ Diamond Cross Necklace 1/15 ct tw Round-cut 10K Yellow Gold ] Score= 4.752169286185543\n",
            "\t Recommend Product [ Rope Necklace 10K Yellow Gold 20\" Length ] Score= 4.4653885498611245\n",
            "\t Recommend Product [ Rope Chain Necklace 14K Yellow Gold 26\" Length ] Score= 4.6235137456565\n",
            "\t Recommend Product [ Cross Necklace 1/10 ct tw Diamonds Sterling Silver/10K Gold ] Score= 4.608996726690573\n",
            "\t Recommend Product [ 16\" Adjustable Rope Chain 14K Yellow Gold Appx. 1.2mm ] Score= 4.44322875434537\n",
            "\t Recommend Product [ Children's Minnie Mouse Pink Cubic Zirconia Necklace 14K Yellow Gold 13\" ] Score= 4.751580922772615\n",
            "\t Recommend Product [ Box Chain 14K Yellow Gold 20\" Length ] Score= 4.444097757980408\n",
            "\t Recommend Product [ Deer Necklace 1/10 ct tw Diamonds Sterling Silver/10K Gold ] Score= 4.355045568831887\n",
            "\t Recommend Product [ Hollow Figaro Chain 14K Yellow Gold 24\" ] Score= 4.153031365639052\n",
            "\t Recommend Product [ Lab-Created Emerald Necklace with Diamonds 10K Yellow Gold ] Score= 4.678081719022234\n",
            "\t Recommend Product [ Diamond Star Necklace 1/2 ct tw Round-cut 10K Yellow Gold 20 ] Score= 4.431474972900951\n",
            "\t Recommend Product [ Beaded Cable Chain Necklace 14K Yellow Gold 16\" Length ] Score= 4.267197387880304\n",
            "\t Recommend Product [ Disney Treasures Winnie the Pooh Diamond Necklace 1/20 ct tw Sterling Silver & 10K Yellow Gold 17\" ] Score= 4.519284078217811\n",
            "\t Recommend Product [ Paw Print Necklace 1/10 ct tw Diamonds Sterling Silver/10K Gold ] Score= 4.668346631198027\n",
            "\t Recommend Product [ Triangle Necklace 14K Yellow Gold ] Score= 4.488920932066634\n",
            "\t Recommend Product [ Starfish Necklace Diamond Accents 10K Yellow Gold ] Score= 4.616393950461569\n",
            "\t Recommend Product [ Le Vian Diamond Heart Necklace 1/4 ct tw 14K Honey Gold 18\" ] Score= 4.312652311169186\n",
            "\t Recommend Product [ Curb Link Necklace 10K Two-Tone Gold 22\" Length ] Score= 4.628333634679739\n",
            "\t Recommend Product [ Cultured Pearl Necklace 1/15 ct tw Diamonds 14K Yellow Gold 17\" ] Score= 4.338550798591615\n",
            "\t Recommend Product [ Children's Cross Necklace 14K Yellow Gold 15\" ] Score= 4.838216118711362\n",
            "\t Recommend Product [ Diamond Fashion Necklace 1/3 ct tw Round-cut 10K Yellow Gold 18\" ] Score= 4.470209217383321\n",
            "\t Recommend Product [ Le Vian Diamond Butterfly Necklace 3/4 ct tw 14K Honey Gold 18\" ] Score= 4.54670837257007\n",
            "\t Recommend Product [ Lab-Created Emerald Necklace 1/6 ct tw Diamonds 10K Yellow Gold ] Score= 4.221885916598527\n",
            "\t Recommend Product [ Pisces Zodiac Necklace 1/10 ct tw Diamonds 10K Yellow Gold ] Score= 4.420304493841727\n",
            "\t Recommend Product [ Shipwheel & Compass Layered Necklace 14K Yellow Gold ] Score= 4.426076228266638\n",
            "\t Recommend Product [ Lab-Created Opal Necklace 1/20 ct tw Diamonds 10K Yellow Gold ] Score= 4.48686445835245\n",
            "\t Recommend Product [ Le Vian Cultured Pearl Necklace 1/4 ct tw Diamonds 14K Gold ] Score= 4.580243709227166\n",
            "\t Recommend Product [ Bar Necklace 14K Yellow Gold ] Score= 4.793570173891762\n",
            "\t Recommend Product [ Citrine Necklace 1/15 ct tw Diamonds 10K Yellow Gold ] Score= 4.825183143765102\n",
            "\t Recommend Product [ Key Necklace 14K Yellow Gold ] Score= 4.365681031990449\n",
            "\t Recommend Product [ Heart Paw Print Necklace 14K Yellow Gold 16\"-18\" Adjustable ] Score= 4.43801157029366\n",
            "\t Recommend Product [ \"Love\" Necklace 14K Yellow Gold 16\" to 18\" Adjustable ] Score= 4.215063748691636\n",
            "\t Recommend Product [ Diamond Cross Necklace 10K Yellow Gold ] Score= 4.704397412329876\n",
            "\t Recommend Product [ Diamond Necklace 3/4 ct tw 10K Yellow Gold/Stainless Steel ] Score= 4.514119379369273\n",
            "\t Recommend Product [ Diamond Star Necklace 1/4 ct tw Round-cut 10K Yellow Gold ] Score= 4.551079123543971\n",
            "\t Recommend Product [ Opal & Diamond Necklace 1/20 ct tw 10K Yellow Gold 18\" ] Score= 4.606690778863618\n",
            "\t Recommend Product [ Le Vian Natural Emerald Necklace 1/5 ct tw Diamonds 14K Gold ] Score= 4.3770353208333175\n",
            "\t Recommend Product [ Le Vian Emerald Necklace 3/8 ct tw Diamonds 14K Honey Gold ] Score= 4.149702577801418\n",
            "\t Recommend Product [ Diamond Cross Necklace 1/4 ct tw Round-cut 10K Yellow Gold ] Score= 4.331257513872062\n",
            "\t Recommend Product [ Leo Zodiac Necklace 1/10 ct tw Diamonds 10K Yellow Gold ] Score= 4.269658080268972\n",
            "\t Recommend Product [ Diamond Necklace 1/3 ct tw Round-cut 14K Yellow Gold ] Score= 4.590207389135471\n",
            "\t Recommend Product [ Disney Treasures Mickey & Minnie Mouse Garnet & Diamond Necklace 1/8 ct tw Sterling Silver 17\" ] Score= 4.343268225018419\n",
            "\t Recommend Product [ Cultured Pearl & White Lab-Created Sapphire Vine Necklace Sterling Silver 18\" ] Score= 4.434865261856757\n",
            "\t Recommend Product [ Amethyst Heart Necklace Diamond Accents Sterling Silver ] Score= 4.381691109805064\n",
            "\t Recommend Product [ Amethyst Heart Necklace Tanzanites & Diamonds 10K White Gold ] Score= 4.58705335854239\n",
            "\t Recommend Product [ Dog Necklace Lab-Created Sapphire Sterling Silver/10K Rose Gold ] Score= 4.520540950432264\n",
            "\t Recommend Product [ Godiva x Le Vian Ruby Heart Necklace 3/8 ct tw Diamonds 14K Strawberry Gold 19\" ] Score= 4.719784625526942\n",
            "\t Recommend Product [ Unstoppable Love Necklace Lab-Created Sapphire Sterling Silver ] Score= 4.437736280509732\n",
            "\t Recommend Product [ Le Vian Quartz Boxed Set 14K Strawberry Gold-Electroplate ] Score= 4.580089576282741\n",
            "\t Recommend Product [ Aquamarine & White Lab-Created Sapphire Necklace Sterling Silver 18\" ] Score= 4.732181267638493\n",
            "\t Recommend Product [ Amethyst & White Lab-Created Sapphire 'Mom' Heart Necklace Sterling Silver 18\" ] Score= 4.2248178748197125\n",
            "\t Recommend Product [ Lab-Created Ruby & White Lab-Created Sapphire Heart Necklace Sterling Silver 18\" ] Score= 4.456932903259629\n",
            "\t Recommend Product [ Amethyst & White Lab-Created Sapphire Boxed Set Sterling Silver ] Score= 4.455684495361244\n",
            "\t Recommend Product [ Cultured Pearl & White Topaz Raindrop Necklace Sterling Silver 18\" ] Score= 4.377640495093796\n",
            "\t Recommend Product [ Blue Topaz Necklace 1/10 ct tw Diamonds Sterling Silver ] Score= 4.357955331253968\n",
            "\t Recommend Product [ Opal Necklace Diamond Accent 10K Rose Gold 18\" ] Score= 4.4450943666010465\n",
            "\t Recommend Product [ Lab-Created Opal and White Topaz Necklace Sterling Silver ] Score= 4.603718000677546\n",
            "\t Recommend Product [ Lab-Created Emerald & White Lab-Created Sapphire Heart Necklace Sterling Silver 18\" ] Score= 4.528014213728731\n",
            "\t Recommend Product [ Children's Minnie Mouse Pink Cubic Zirconia Necklace 14K Yellow Gold 13\" ] Score= 4.474675666270068\n",
            "\t Recommend Product [ Heart Necklace Lab-Created Sapphire Sterling Silver/10K Gold ] Score= 4.2890685009687886\n",
            "\t Recommend Product [ Amethyst Necklace Sterling Silver ] Score= 4.417300435533591\n",
            "\t Recommend Product [ Citrine & Diamond Necklace Sterling Silver ] Score= 4.567659788522521\n",
            "\t Recommend Product [ Le Vian Morganite Necklace 1/10 ct tw Diamonds 14K Strawberry Gold ] Score= 4.706852411187587\n",
            "\t Recommend Product [ Amethyst & White Topaz Necklace Sterling Silver 18\" ] Score= 4.69976212482023\n",
            "\t Recommend Product [ Amethyst Heart Necklace With Diamond Accent Sterling Silver ] Score= 4.591769599092069\n",
            "\t Recommend Product [ Love Necklace Lab-Created Ruby Sterling Silver ] Score= 4.374269706194093\n",
            "\t Recommend Product [ Lab-Created Opal & White Lab-Created Sapphire 'Mom' Heart Necklace Sterling Silver 18\" ] Score= 4.345250571537086\n",
            "\t Recommend Product [ Lab-Created Opal Circle Necklace Sterling Silver ] Score= 4.584455823689127\n",
            "\t Recommend Product [ Cultured Pearl Necklace Sapphires/Diamonds 10K White Gold ] Score= 4.385070558996325\n",
            "\t Recommend Product [ Peacock Necklace Blue & White Topaz Sterling Silver ] Score= 4.3109738769242725\n",
            "\t Recommend Product [ Forever Connected Diamond Necklace 1/3 ct tw Round/Princess 10K Yellow Gold 18\" ] Score= 4.530687361053442\n",
            "\t Recommend Product [ Forever Connected Diamond Necklace 1 ct tw Round/Pear 10K White Gold 18\" ] Score= 4.366497266490044\n",
            "\t Recommend Product [ Encircled by Love Diamond Necklace 1/3 ct tw Round-cut 10K Yellow Gold 18\" ] Score= 4.7886661029161735\n",
            "\t Recommend Product [ Disney Treasures Winnie the Pooh Diamond Necklace 1/6 ct tw 10K Two-Tone Gold 17\" ] Score= 4.442707971524493\n",
            "\t Recommend Product [ Disney Treasures Winnie the Pooh \"Eeyore\" Diamond Necklace 1/15 ct tw Sterling Silver & 10K Rose Gold 17\" ] Score= 4.753439800232044\n",
            "\t Recommend Product [ Diamond Solitaire Necklace 1/4 ct tw Round-cut 10K White Gold 18\" ] Score= 4.492355663093313\n",
            "\t Recommend Product [ Angel Wing Necklace 1/10 ct tw Diamond Sterling Silver/10K Gold ] Score= 4.568330117027824\n",
            "\t Recommend Product [ Turtle Necklace 1/10 ct tw Diamonds 10K White Gold ] Score= 4.636773052544548\n",
            "\t Recommend Product [ Forever Connected Diamond Necklace 1/5 ct tw Round/Pear Sterling Silver 18\" ] Score= 4.495627160787455\n",
            "\t Recommend Product [ Forever Connected Diamond Heart Necklace 1/4 ct tw Pear & Round-cut 10K White Gold 18\" ] Score= 4.634305376627036\n",
            "\t Recommend Product [ Forever Connected Diamond Necklace 1/4 ct tw Round/Pear 10K White Gold 18\" ] Score= 4.843042296544396\n",
            "\t Recommend Product [ Forever Connected Diamond Necklace 1/2 ct tw Round/Pear 10K White Gold 18\" ] Score= 4.324381008907453\n",
            "\t Recommend Product [ Forever Connected Diamond Necklace 1 ct tw Round/Pear 10K White Gold 18\" ] Score= 4.453647260812357\n",
            "\t Recommend Product [ Forever Connected Diamond Necklace 1/3 ct tw Round/Princess 10K Yellow Gold 18\" ] Score= 4.41335353628364\n",
            "\t Recommend Product [ Forever Connected Diamond Necklace 1/4 ct tw Pear/Round-Cut 10K White Gold 18\" ] Score= 4.371930331653496\n",
            "\t Recommend Product [ Forever Connected Diamond Necklace 1/3 ct tw Pear/Round-Cut 10K Yellow Gold 18\" ] Score= 4.432886459009272\n",
            "\t Recommend Product [ Forever Connected Diamond Necklace 1/4 ct tw Round-Cut 10K White Gold 18\" ] Score= 4.751274227830163\n",
            "\t Recommend Product [ Forever Connected Diamond Necklace 1 ct tw Round/Princess 10K White Gold 18\" ] Score= 4.685455727687341\n",
            "\t Recommend Product [ Forever Connected Diamond Necklace 1/2 ct tw Round/Princess 10K White Gold 18\" ] Score= 4.478639137821618\n",
            "\t Recommend Product [ Forever Connected Diamond Necklace 1 ct tw Round-Cut 14K White Gold 18\" ] Score= 4.5783346701909755\n",
            "\t Recommend Product [ Forever Connected Diamond Necklace 1/4 ct tw Princess/Round-Cut 10K White Gold 18\" ] Score= 4.564949835210921\n",
            "\t Recommend Product [ Forever Connected Diamond Necklace 1 ct tw Round/Pear 10K White Gold 18\" ] Score= 4.497083573640072\n",
            "\t Recommend Product [ Forever Connected Diamond Necklace 1/2 ct tw Round/Pear 10K White Gold 18\" ] Score= 4.641535198703382\n",
            "\t Recommend Product [ Forever Connected Diamond Necklace 1/2 ct tw Round-Cut 10K White Gold 18\" ] Score= 4.302903758540753\n",
            "\t Recommend Product [ Disney Treasures The Nightmare Before Christmas Diamond Necklace 1/5 ct tw Sterling Silver & 10K Rose Gold 17\" ] Score= 4.4068507551495815\n",
            "\t Recommend Product [ Disney Treasures 101 Dalmatians Black & White Diamond Necklace 1/10 ct tw Sterling Silver & 10K Rose Gold 17\" ] Score= 4.4242935237796654\n",
            "\t Recommend Product [ Disney Treasures The Lion King Diamond Necklace 1/10 ct tw Sterling Silver & 10K Yellow Gold 17\" ] Score= 4.279904327437617\n",
            "\t Recommend Product [ Disney Treasures Winnie the Pooh \"Tigger\" Diamond Necklace 1/10 ct tw Sterling Silver & 10K Yellow Gold 17\" ] Score= 4.657264138610035\n",
            "\t Recommend Product [ Disney Treasures Mickey & Minnie Mouse Garnet & Diamond Necklace 1/8 ct tw Sterling Silver 17\" ] Score= 4.063330334897122\n",
            "\t Recommend Product [ Disney Treasures Winnie the Pooh Mother of Pearl & Diamond Heart Necklace 1/8 ct tw Sterling Silver & 10K Two-Tone Gold 17\" ] Score= 4.497254487788334\n",
            "\t Recommend Product [ Disney Treasures The Aristocats Diamond Necklace 1/10 ct tw Sterling Silver & 10K Rose Gold 17\" ] Score= 4.387685705365286\n",
            "\t Recommend Product [ Star Wars Grogu Necklace 1/10 ct tw Diamonds Sterling Silver 18\" ] Score= 4.3727693518749735\n",
            "\t Recommend Product [ Disney Treasures Alice in Wonderland \"Cheshire Cat\" Diamond & Amethyst Necklace 1/10 ct tw Sterling Silver/10K Rose Gold ] Score= 4.578904712216491\n",
            "\t Recommend Product [ Disney Treasures The Aristocats Diamond Necklace 1/10 ct tw Sterling Silver & 10K Rose Gold 18\" ] Score= 4.588709338669254\n",
            "\t Recommend Product [ Disney Treasures Mickey Mouse Lab-Created Opal & Diamond Necklace Sterling Silver 17\" ] Score= 4.572288757889914\n",
            "\t Recommend Product [ Disney Treasures Toy Story \"Jessie\" Diamond Necklace 1/15 ct tw Sterling Silver & 10K Rose Gold 17\" ] Score= 4.619298063975791\n",
            "\t Recommend Product [ Unstoppable Love Necklace Lab-Created Sapphire Sterling Silver ] Score= 4.372119360239949\n",
            "\t Recommend Product [ Unstoppable Love Necklace 1/10 ct tw Sterling Silver 19\" ] Score= 4.45570339009487\n",
            "\t Recommend Product [ Unstoppable Love Necklace 1/2 ct tw 10K White Gold 19\" ] Score= 4.622968036319873\n",
            "\t Recommend Product [ Unstoppable Love Necklace 1/2 ct tw 10K White Gold 19\" ] Score= 4.827268320836966\n",
            "\t Recommend Product [ Unstoppable Love Heart Necklace Sterling Silver ] Score= 4.393248823963218\n",
            "\t Recommend Product [ Unstoppable Love Necklace Lab-Created Sapphires Sterling Silver ] Score= 4.548401463045967\n",
            "\t Recommend Product [ Unstoppable Love Necklace 1 ct tw 14K White Gold 19\" ] Score= 4.3078619134462635\n",
            "\t Recommend Product [ Unstoppable Love 1/6 ct tw Necklace Sterling Silver Angel ] Score= 4.557206473211906\n",
            "\t Recommend Product [ Unstoppable Love Necklace Amethyst Sterling Silver ] Score= 4.559368879000709\n",
            "\t Recommend Product [ Previously Owned Necklace 3/4 ct tw Diamonds 14K White Gold ] Score= 4.5054037882951175\n",
            "\t Recommend Product [ Unstoppable Love 1/20 ct tw Necklace Sterling Silver Flamingo ] Score= 4.455633233459347\n",
            "\t Recommend Product [ Unstoppable Love 1/20 ct tw Necklace Sterling Silver Dog ] Score= 4.144906760273859\n",
            "\t Recommend Product [ Unstoppable Love Ruby Necklace 1/10 ct tw Diamonds Sterling Silver 19\" ] Score= 4.817289623285063\n",
            "\t Recommend Product [ Forever Connected Diamond Hoop Earrings 3/8 ct tw Princess/Round 10K Yellow Gold ] Score= 4.589416808335303\n",
            "\t Recommend Product [ Le Vian Diamond Hoop Earrings 1 ct tw Round-cut 14K Honey Gold ] Score= 4.289026656422835\n",
            "\t Recommend Product [ Open Tube Twist Hoop Earrings 10K Yellow Gold ] Score= 4.296294079790944\n",
            "\t Recommend Product [ Twist Hoop Earrings 14K Yellow Gold ] Score= 4.534587685926049\n",
            "\t Recommend Product [ Diamond Hoop Earrings 1/2 ct tw Round-cut 10K White Gold ] Score= 4.685871819142182\n",
            "\t Recommend Product [ Everything You Are Diamond Hoop Earrings 3/4 ct tw 10K White Gold ] Score= 4.7019388015612655\n",
            "\t Recommend Product [ Twist Hoop Earrings 14K Yellow Gold 20mm ] Score= 4.425113226977349\n",
            "\t Recommend Product [ Diamond Hoop Earrings 1/2 ct tw Round-cut 10K White Gold ] Score= 4.208982837366378\n",
            "\t Recommend Product [ Italian Oval Glitter Hoop Earrings 14K Yellow Gold ] Score= 4.6301479889079555\n",
            "\t Recommend Product [ Diamond Hoop Earrings 1/10 ct tw Round-cut Sterling Silver ] Score= 4.5297385637886745\n",
            "\t Recommend Product [ Continuous Hoop Earrings 14K Yellow Gold 30mm ] Score= 4.650020892988891\n",
            "\t Recommend Product [ Hoop Earrings Lab-Created Sapphires Sterling Silver ] Score= 4.63626056545572\n",
            "\t Recommend Product [ Diamond Hoop Earrings 1 ct tw Round-Cut Sterling Silver ] Score= 4.4324425152276445\n",
            "\t Recommend Product [ Diamond Heart Hoop Earrings 1/4 ct tw Round-cut Sterling Silver ] Score= 4.329236005939905\n",
            "\t Recommend Product [ Diamond Hoop Earrings Sterling Silver ] Score= 4.56784282078734\n",
            "\t Recommend Product [ Children's Cubic Zirconia Huggie Earrings 14K Yellow Gold ] Score= 4.4293332166237525\n",
            "\t Recommend Product [ Child's Hoop Earrings 14K Yellow Gold ] Score= 4.4453545606177665\n",
            "\t Recommend Product [ Hoop Earrings 14K Yellow Gold ] Score= 4.524862140732846\n",
            "\t Recommend Product [ Hoop Earrings 14K Yellow Gold 18mm ] Score= 4.586721896852206\n",
            "\t Recommend Product [ Hoop Earrings 14K Yellow Gold 20mm ] Score= 4.3806751745725006\n",
            "\t Recommend Product [ Etched Hoop Earrings 14K Yellow Gold 35mm ] Score= 4.731778866123389\n",
            "\t Recommend Product [ Woven Heart Hoop Earrings 14K Yellow Gold ] Score= 4.718559658970182\n",
            "\t Recommend Product [ Men's Diamond Huggie Earrings 1/3 ct tw Round/Baguette 10K Yellow Gold ] Score= 4.4184908348969465\n",
            "\t Recommend Product [ Geometric Hoop Earrings 14K Yellow Gold ] Score= 4.432045415592076\n",
            "\t Recommend Product [ Oval Diamond Cut Hoop Earrings 14K Yellow Gold ] Score= 4.353638591159603\n",
            "\t Recommend Product [ Children's Butterfly Hoop Earrings 14K Yellow Gold ] Score= 4.7567988372279455\n",
            "\t Recommend Product [ Stamped Textured Fashion Hoop Earrings 14K Yellow Gold ] Score= 4.666710901517437\n",
            "\t Recommend Product [ Hoop Earrings 14K Yellow Gold ] Score= 4.211243662899771\n",
            "\t Recommend Product [ Children's Hoop Earrings 14K Yellow Gold ] Score= 4.330966564193969\n",
            "\t Recommend Product [ Children's Small Hoop Earrings 14K Yellow Gold ] Score= 4.690381757689397\n",
            "\t Recommend Product [ Hoop Earrings 14K Yellow Gold 30mm ] Score= 4.424633896203151\n",
            "\t Recommend Product [ Stamped Textured Heart Hoop Earrings 14K Yellow Gold ] Score= 4.4853647711313025\n",
            "\t Recommend Product [ Children's Hoop Earrings 14K Two-Tone Gold ] Score= 4.3336444120349755\n",
            "\t Recommend Product [ Amethyst Dainty Hoop Earrings Sterling Silver ] Score= 4.447493840779998\n",
            "\t Recommend Product [ Hoop Earrings 14K Yellow Gold 25mm ] Score= 4.672332076714219\n",
            "\t Recommend Product [ Men's Diamond Angular Huggie Hoop Earrings 3/4 ct tw Round-cut 10K Yellow Gold ] Score= 4.273409794022565\n",
            "\t Recommend Product [ Men's Diamond Ankh Earrings 1/4 ct tw Round-cut 10K Yellow Gold ] Score= 4.614833963615678\n",
            "\t Recommend Product [ Layered Three-Circle Drop Earrings 10K Yellow Gold ] Score= 4.693766676534293\n",
            "\t Recommend Product [ Drop Earrings 14K Yellow Gold ] Score= 4.68661220176508\n",
            "\t Recommend Product [ Opal & Diamond Earrings 1/20 ct tw 10K Yellow Gold ] Score= 4.394186779078161\n",
            "\t Recommend Product [ Brazilian Garnet Earrings 1/10 ct tw Diamonds 10K Yellow Gold ] Score= 4.488122829872114\n",
            "\t Recommend Product [ Lab-Created Ruby Earrings Lab-Created Sapphires Sterling Silver ] Score= 4.5841490434239756\n",
            "\t Recommend Product [ Lab-Created Opal Lab-Created Sapphires Sterling Silver Earrings ] Score= 4.464808812640016\n",
            "\t Recommend Product [ Amethyst & White Lab-Created Sapphire Drop Earrings 10K Rose Gold ] Score= 4.431498276075319\n",
            "\t Recommend Product [ Le Vian Couture Diamond Earrings 18K Two-Tone Gold ] Score= 4.33558813322974\n",
            "\t Recommend Product [ Flower Earrings 14K Yellow Gold ] Score= 4.438207246408198\n",
            "\t Recommend Product [ Lab-Created Ruby Earrings Sterling Silver 10K Yellow Gold ] Score= 4.405873905585708\n",
            "\t Recommend Product [ Le Vian Multi-Gemstone Earrings 1/10 ct tw Diamonds 14K Honey Gold ] Score= 4.330143140868765\n",
            "\t Recommend Product [ Encircled by Love Diamond Stud Earrings 1/5 ct tw Round-cut 10K Yellow Gold ] Score= 4.79301252557783\n",
            "\t Recommend Product [ Encircled by Love Diamond Earrings 1/4 ct tw Round-cut 10K Rose Gold ] Score= 4.345223218759093\n",
            "\t Recommend Product [ Disney Treasures The Aristocats Diamond Earrings 1/10 ct tw Sterling Silver & 10K Rose Gold ] Score= 4.31208536226864\n",
            "\t Recommend Product [ Diamond Solitaire Earrings 1/4 ct tw Sterling Silver ] Score= 4.536181884761517\n",
            "\t Recommend Product [ Butterfly Earrings 14K Yellow Gold ] Score= 4.664227898720249\n",
            "\t Recommend Product [ Children's Stud Earrings Boxed Set 14K Yellow Gold ] Score= 4.506652301811045\n",
            "\t Recommend Product [ THE LEO Diamond Earrings 1/2 ct tw Round-cut 14K White Gold ] Score= 4.699153280099273\n",
            "\t Recommend Product [ Le Vian Opal Earrings 1/5 ct tw Diamonds 14K Strawberry Gold ] Score= 4.550455734013353\n",
            "\t Recommend Product [ Le Vian Couture Diamond Earrings 18K Two-Tone Gold ] Score= 4.657563611146244\n",
            "\t Recommend Product [ Le Vian Garnet Earrings 1/5 ct tw Diamonds 14K Strawberry Gold ] Score= 4.518683865993251\n",
            "\t Recommend Product [ Le Vian Denim Ombre Hoop Earrings 14K Vanilla Gold ] Score= 4.6445152920308725\n",
            "\t Recommend Product [ Le Vian Emerald Earrings 1/4 ct tw Diamonds 14K Honey Gold ] Score= 4.424289153027151\n",
            "\t Recommend Product [ Le Vian Diamond Earrings 1-1/3 ct tw 14K Honey Gold ] Score= 4.603853544359717\n",
            "\t Recommend Product [ Le Vian Diamond Earrings 3/8 ct tw 14K Honey Gold ] Score= 4.504795438671026\n",
            "\t Recommend Product [ Le Vian Amethyst & Iolite Earrings 1/5 ct tw Diamonds 14K Strawbery Gold ] Score= 4.075210366126527\n",
            "\t Recommend Product [ Le Vian Chocolate Diamonds 1/4 ct tw Earrings 14K Honey Gold ] Score= 4.5207705889215966\n",
            "\t Recommend Product [ Laptop Lenovo IdeaPad Slim 3 15ALC6 R3 5300U/8GB/512GB/15.6''FHD/Win 11 ] Score= 4.305294261270875\n",
            "\t Recommend Product [ Laptop Dell Inspiron 15 N3511 i3 1115G4/4GB/256GB/15.6\"FHD/Win 11+Office HS 21 ] Score= 4.687537034747648\n",
            "\t Recommend Product [ Laptop Dell Inspiron N3505 R3 3250U/8GB/256GB/15.6\"FHD/Win 10/NK ] Score= 4.372469029182374\n",
            "\t Recommend Product [ Laptop Acer Aspire A315 57G 31YD i3 1005G1/4GB/256GB SSD/Nvidia MX330 2GB/Win10 ] Score= 4.465964156918172\n",
            "\t Recommend Product [ Laptop Acer Aspire 3 A315-58-35AG i3 1115G4/4GB/256GB SSD/15.6''FHD/Win11 ] Score= 4.522803241716347\n",
            "\t Recommend Product [ Laptop Dell Inspiron N3502 Pentium N5030/4GB/128GB/15.6\"HD/Intel HD/Win 10/NK ] Score= 4.673459190563768\n",
            "\t Recommend Product [ Laptop HP 14s-cf2527TU i3-10110U/4GB/256GB/14.0\"HD/Win 11 ] Score= 4.373696430769198\n",
            "\t Recommend Product [ Laptop Asus Vivobook X415EA-EB935W i3 1115G4/8GB/256GB SSD/Win11 ] Score= 4.472575350002476\n",
            "\t Recommend Product [ Laptop Asus VivoBook A415EA-EB1750W i3 1125G4/8GB/256GB SSD/Win11 ] Score= 4.360930902467135\n",
            "\t Recommend Product [ Laptop Acer Aspire 3 A315-58-35AG i3 1115G4/4GB/256GB SSD/15.6''FHD/Win11 ] Score= 4.667971940210845\n",
            "\t Recommend Product [ Laptop Acer Aspire 3 A315-56-38B1 i3 1005G1/4GB/256GB/15.6\"FHD/Win11 ] Score= 4.484776386808358\n",
            "\t Recommend Product [ Laptop Lenovo IdeaPad Slim 3 15ALC6 R3 5300U/8GB/512GB/15.6''FHD/Win 11 ] Score= 4.3578896632668345\n",
            "\t Recommend Product [ Laptop Lenovo IdeaPad Slim 3 15ITL6 i3 1115G4/8GB/512GB/15.6\"FHD/Win 11 ] Score= 4.502529975992124\n",
            "\t Recommend Product [ Laptop HP 240 G8 Pentium N5030/4GB/256GB/14.0\"HD/Win 10 ] Score= 4.496259767013621\n",
            "\t Recommend Product [ iPhone 13 Pro Max 128GB ] Score= 3.9932503765010585\n",
            "\t Recommend Product [ Xiaomi Redmi Note 11S 6GB - 128GB ] Score= 4.2422398081866834\n",
            "\t Recommend Product [ Samsung Galaxy S22 Ultra 5G 128GB ] Score= 4.433667858574473\n",
            "\t Recommend Product [ iPhone 11 64GB ] Score= 4.35272262786939\n",
            "\t Recommend Product [ OPPO Reno6 Z 5G ] Score= 4.415611004459139\n",
            "\t Recommend Product [ TECNO SPARK 7 2GB-32GB ] Score= 4.645326672265005\n",
            "\t Recommend Product [ Samsung Galaxy Z Fold3 5G 256GB ] Score= 4.531543273610734\n",
            "\t Recommend Product [ Vans UltraRange EXO Lace Up Sneaker ] Score= 4.508691079305501\n",
            "\t Recommend Product [ Women's Cole Haan GrandPro Tennis Sneaker ] Score= 4.470341618176791\n",
            "\t Recommend Product [ Men's Brooks Addiction Walker 2 Walking Sneaker ] Score= 4.637335504354046\n",
            "\t Recommend Product [ Women's Brooks Adrenaline GTS 21 Running Shoe ] Score= 4.7347551109229755\n",
            "\t Recommend Product [ MEN DRY-EX Crew Neck Short Sleeve T-Shirt (Cotton Like) ] Score= 4.512684562608503\n",
            "\t Recommend Product [ Uniqlo U AIRism Cotton Crew Neck Oversized T-Shirt ] Score= 4.703374964728276\n",
            "\t Recommend Product [ Diamond Promise Ring 1/5 carat tw 10K White Gold ] Score= 4.319906388527226\n",
            "\t Recommend Product [ Diamond Promise Ring 1/10 ct tw Baguette & Round-cut 10K White Gold ] Score= 4.628660163044416\n",
            "\t Recommend Product [ Diamond Oval Promise Ring 1/4 ct tw Round-cut Sterling Silver ] Score= 4.576496355638193\n",
            "\t Recommend Product [ Hallmark Diamonds Ring 1/5 ct tw Sterling Silver & 10K Rose Gold ] Score= 4.5484410861757985\n",
            "\t Recommend Product [ 1/10 Carat t.w. Diamond Promise Ring ] Score= 4.589783918540775\n",
            "\t Recommend Product [ 1/20 Carat t.w. Black and white Diamond Promise Ring ] Score= 4.144694364843818\n",
            "\t Recommend Product [ Le Vian Tanzanite Ring 3/8 ct tw Diamonds 14K Vanilla Gold ] Score= 4.3020943706983825\n",
            "\t Recommend Product [ Le Vian Tanzanite Ring 1/2 ct tw Diamonds 14K Strawberry Gold ] Score= 4.296042045398241\n",
            "\t Recommend Product [ Le Vian Grape Amethyst Ring 1/8 ct tw Diamonds 14K Strawberry Gold ] Score= 4.560232134973144\n",
            "\t Recommend Product [ Emerald & 1/10 ct tw Diamond Ring 10K White Gold ] Score= 4.662537586273563\n",
            "\t Recommend Product [ Amethyst & White Topaz Ring 10K Rose Gold ] Score= 4.5592523077395555\n",
            "\t Recommend Product [ Lab-Created Emerald Ring Diamond Accents 10K Yellow Gold ] Score= 4.382814796692313\n",
            "\t Recommend Product [ Amethyst & Diamond Twist Ring 1/10 ct tw 10K Rose Gold ] Score= 4.699784745262311\n",
            "\t Recommend Product [ Lab-Created Emerald Ring with Diamonds 10K Yellow Gold ] Score= 4.524412828151527\n",
            "\t Recommend Product [ Le Vian Morganite Ring 1 ct tw Diamonds 14K Strawberry Gold ] Score= 4.550021864028134\n",
            "\t Recommend Product [ Blue Topaz Ring 1/15 ct tw Diamonds 10K White Gold ] Score= 4.345722566565752\n",
            "\t Recommend Product [ Diamond Eternity Ring 1 ct tw Round-cut 14K Yellow Gold ] Score= 4.72548359131217\n",
            "\t Recommend Product [ Diamond Heart Necklace 10K Rose Gold ] Score= 4.573224292605431\n",
            "\t Recommend Product [ Lab-Created Ruby & Lab-Created White Sapphire Heart Necklace Sterling Silver 18\" ] Score= 4.542890421118567\n",
            "\t Recommend Product [ Diamond Necklace 1/15 ct tw Sterling Silver/10K Rose Gold 18\" ] Score= 4.3910411477397355\n",
            "\t Recommend Product [ Whale Necklace 10K Yellow Gold ] Score= 4.2659010859941295\n",
            "\t Recommend Product [ Le Vian Blue Topaz Necklace 1/3 ct tw Diamonds 14K Gold ] Score= 4.323298087293581\n",
            "\t Recommend Product [ Everything You Are Diamond Necklace 3/4 ct tw 10K White Gold 18\" ] Score= 4.3202564855751815\n",
            "\t Recommend Product [ The Pirates: The Last Royal Treasure ] Score= 4.529153638182803\n",
            "\t Recommend Product [ Howl’s Moving Castle ] Score= 4.2645356443919935\n",
            "\t Recommend Product [ Spirited Away ] Score= 4.219330454316041\n",
            "\t Recommend Product [ Escape From Mogadishu ] Score= 4.428604533976921\n",
            "\t Recommend Product [ Don't Look Up ] Score= 4.384266779992491\n",
            "\t Recommend Product [ Red Notice ] Score= 4.4441397187261416\n",
            "\t Recommend Product [ Miracle: Letters to the President ] Score= 4.331183829229423\n",
            "\t Recommend Product [ The Bombardment ] Score= 4.550417365473358\n",
            "\t Recommend Product [ The Weekend Away ] Score= 4.717972673819762\n",
            "\t Recommend Product [ Surviving Paradise: A Family Tale ] Score= 4.491349183572657\n",
            "\t Recommend Product [ 레드슈즈 ] Score= 4.60756610304417\n",
            "\t Recommend Product [ Minions ] Score= 4.412954145241843\n",
            "\t Recommend Product [ The Croods: A New Age ] Score= 4.214699932912735\n",
            "\t Recommend Product [ Mission: Impossible - Fallout ] Score= 4.417477413231716\n",
            "\t Recommend Product [ The Gangster, The Cop, The Devil ] Score= 4.453385458518326\n",
            "\t Recommend Product [ The Notebook ] Score= 4.4833819232475856\n",
            "\t Recommend Product [ About Time ] Score= 4.525178864743268\n",
            "\t Recommend Product [ Bird Box ] Score= 4.398703507366909\n",
            "\t Recommend Product [ Snowpiercer ] Score= 4.733940494400059\n",
            "\t Recommend Product [ Edge of Tomorrow ] Score= 4.431970905515544\n",
            "\t Recommend Product [ Ponyo ] Score= 5\n"
          ]
        }
      ]
    },
    {
      "cell_type": "markdown",
      "source": [
        "# Using surprise library for this.\n",
        "from the documentation, videos found online this can be used for matrix classification to make a recommendation engine."
      ],
      "metadata": {
        "id": "77I-hrwm_x6l"
      }
    },
    {
      "cell_type": "code",
      "source": [
        "pip install surprise"
      ],
      "metadata": {
        "id": "tkuMGnkxBzNR",
        "outputId": "5475d6ab-f1c3-4ab7-c56d-3beba637bd75",
        "colab": {
          "base_uri": "https://localhost:8080/"
        }
      },
      "execution_count": null,
      "outputs": [
        {
          "output_type": "stream",
          "name": "stdout",
          "text": [
            "Collecting surprise\n",
            "  Downloading surprise-0.1-py2.py3-none-any.whl (1.8 kB)\n",
            "Collecting scikit-surprise (from surprise)\n",
            "  Downloading scikit_surprise-1.1.4.tar.gz (154 kB)\n",
            "\u001b[?25l     \u001b[90m━━━━━━━━━━━━━━━━━━━━━━━━━━━━━━━━━━━━━━━━\u001b[0m \u001b[32m0.0/154.4 kB\u001b[0m \u001b[31m?\u001b[0m eta \u001b[36m-:--:--\u001b[0m\r\u001b[2K     \u001b[91m━━━━━━━━━━━━━━━━━━━━━━━━━━━━━━━━━━━━━━━\u001b[0m\u001b[91m╸\u001b[0m \u001b[32m153.6/154.4 kB\u001b[0m \u001b[31m4.5 MB/s\u001b[0m eta \u001b[36m0:00:01\u001b[0m\r\u001b[2K     \u001b[90m━━━━━━━━━━━━━━━━━━━━━━━━━━━━━━━━━━━━━━━━\u001b[0m \u001b[32m154.4/154.4 kB\u001b[0m \u001b[31m3.4 MB/s\u001b[0m eta \u001b[36m0:00:00\u001b[0m\n",
            "\u001b[?25h  Installing build dependencies ... \u001b[?25l\u001b[?25hdone\n",
            "  Getting requirements to build wheel ... \u001b[?25l\u001b[?25hdone\n",
            "  Preparing metadata (pyproject.toml) ... \u001b[?25l\u001b[?25hdone\n",
            "Requirement already satisfied: joblib>=1.2.0 in /usr/local/lib/python3.10/dist-packages (from scikit-surprise->surprise) (1.4.2)\n",
            "Requirement already satisfied: numpy>=1.19.5 in /usr/local/lib/python3.10/dist-packages (from scikit-surprise->surprise) (1.25.2)\n",
            "Requirement already satisfied: scipy>=1.6.0 in /usr/local/lib/python3.10/dist-packages (from scikit-surprise->surprise) (1.11.4)\n",
            "Building wheels for collected packages: scikit-surprise\n",
            "  Building wheel for scikit-surprise (pyproject.toml) ... \u001b[?25l\u001b[?25hdone\n",
            "  Created wheel for scikit-surprise: filename=scikit_surprise-1.1.4-cp310-cp310-linux_x86_64.whl size=2357252 sha256=ecabfb4cbcf9611ff9db3ded574adc65515a3480f98112003b46f5758ee53b14\n",
            "  Stored in directory: /root/.cache/pip/wheels/4b/3f/df/6acbf0a40397d9bf3ff97f582cc22fb9ce66adde75bc71fd54\n",
            "Successfully built scikit-surprise\n",
            "Installing collected packages: scikit-surprise, surprise\n",
            "Successfully installed scikit-surprise-1.1.4 surprise-0.1\n"
          ]
        }
      ]
    },
    {
      "cell_type": "code",
      "source": [
        "from surprise import Reader\n",
        "from surprise import Dataset\n",
        "from surprise.model_selection import cross_validate\n",
        "from surprise import NormalPredictor\n",
        "from surprise import KNNBasic\n",
        "from surprise import KNNWithMeans\n",
        "from surprise import KNNWithZScore\n",
        "from surprise import KNNBaseline\n",
        "from surprise import SVD\n",
        "from surprise import BaselineOnly\n",
        "from surprise import SVDpp\n",
        "from surprise import NMF\n",
        "from surprise import SlopeOne\n",
        "from surprise import CoClustering\n",
        "from surprise.accuracy import rmse\n",
        "from surprise import accuracy\n",
        "from surprise.model_selection import train_test_split\n",
        "from surprise.model_selection import GridSearchCV"
      ],
      "metadata": {
        "execution": {
          "iopub.status.busy": "2022-08-27T02:20:26.129638Z",
          "iopub.execute_input": "2022-08-27T02:20:26.130128Z",
          "iopub.status.idle": "2022-08-27T02:20:26.172265Z",
          "shell.execute_reply.started": "2022-08-27T02:20:26.130088Z",
          "shell.execute_reply": "2022-08-27T02:20:26.171234Z"
        },
        "trusted": true,
        "id": "nKlRtmNZ_x6l"
      },
      "execution_count": null,
      "outputs": []
    },
    {
      "cell_type": "markdown",
      "source": [
        "# Ratings Distribution"
      ],
      "metadata": {
        "id": "qluQXu4h_x6m"
      }
    },
    {
      "cell_type": "code",
      "source": [
        "from plotly.offline import init_notebook_mode, plot, iplot\n",
        "import plotly.graph_objs as go\n",
        "init_notebook_mode(connected=True)\n",
        "\n",
        "data = ratings['Rate'].value_counts().sort_index(ascending=False)\n",
        "trace = go.Bar(x = data.index,\n",
        "               text = ['{:.1f} %'.format(val) for val in (data.values / ratings.shape[0] * 100)],\n",
        "               textposition = 'auto',\n",
        "               textfont = dict(color = '#000000'),\n",
        "               y = data.values,\n",
        "               )\n",
        "# Create layout\n",
        "layout = dict(title = 'Distribution Of {} ratings'.format(ratings.shape[0]),\n",
        "              xaxis = dict(title = 'Rating'),\n",
        "              yaxis = dict(title = 'Count'),\n",
        "              width=500,\n",
        "              height=500,\n",
        "              autosize=False,\n",
        "             )\n",
        "# Create plot\n",
        "fig = go.Figure(data=[trace], layout=layout)\n",
        "fig.show()"
      ],
      "metadata": {
        "execution": {
          "iopub.status.busy": "2022-08-27T07:43:03.86804Z",
          "iopub.execute_input": "2022-08-27T07:43:03.868595Z",
          "iopub.status.idle": "2022-08-27T07:43:03.895331Z",
          "shell.execute_reply.started": "2022-08-27T07:43:03.868528Z",
          "shell.execute_reply": "2022-08-27T07:43:03.893652Z"
        },
        "trusted": true,
        "id": "zLEXknrx_x6m",
        "outputId": "f186c6b9-cc94-4724-ebd1-53f79257b70b",
        "colab": {
          "base_uri": "https://localhost:8080/",
          "height": 517
        }
      },
      "execution_count": null,
      "outputs": [
        {
          "output_type": "display_data",
          "data": {
            "text/html": [
              "        <script type=\"text/javascript\">\n",
              "        window.PlotlyConfig = {MathJaxConfig: 'local'};\n",
              "        if (window.MathJax && window.MathJax.Hub && window.MathJax.Hub.Config) {window.MathJax.Hub.Config({SVG: {font: \"STIX-Web\"}});}\n",
              "        if (typeof require !== 'undefined') {\n",
              "        require.undef(\"plotly\");\n",
              "        requirejs.config({\n",
              "            paths: {\n",
              "                'plotly': ['https://cdn.plot.ly/plotly-2.24.1.min']\n",
              "            }\n",
              "        });\n",
              "        require(['plotly'], function(Plotly) {\n",
              "            window._Plotly = Plotly;\n",
              "        });\n",
              "        }\n",
              "        </script>\n",
              "        "
            ]
          },
          "metadata": {}
        },
        {
          "output_type": "display_data",
          "data": {
            "application/vnd.plotly.v1+json": {
              "data": [
                {
                  "text": [
                    "27.2 %",
                    "23.3 %",
                    "12.1 %",
                    "16.1 %",
                    "21.3 %"
                  ],
                  "textfont": {
                    "color": "#000000"
                  },
                  "textposition": "auto",
                  "x": [
                    5,
                    4,
                    3,
                    2,
                    1
                  ],
                  "y": [
                    35512,
                    30458,
                    15838,
                    21070,
                    27876
                  ],
                  "type": "bar"
                }
              ],
              "layout": {
                "autosize": false,
                "height": 500,
                "title": {
                  "text": "Distribution Of 130754 ratings"
                },
                "width": 500,
                "xaxis": {
                  "title": {
                    "text": "Rating"
                  }
                },
                "yaxis": {
                  "title": {
                    "text": "Count"
                  }
                },
                "template": {
                  "data": {
                    "histogram2dcontour": [
                      {
                        "type": "histogram2dcontour",
                        "colorbar": {
                          "outlinewidth": 0,
                          "ticks": ""
                        },
                        "colorscale": [
                          [
                            0,
                            "#0d0887"
                          ],
                          [
                            0.1111111111111111,
                            "#46039f"
                          ],
                          [
                            0.2222222222222222,
                            "#7201a8"
                          ],
                          [
                            0.3333333333333333,
                            "#9c179e"
                          ],
                          [
                            0.4444444444444444,
                            "#bd3786"
                          ],
                          [
                            0.5555555555555556,
                            "#d8576b"
                          ],
                          [
                            0.6666666666666666,
                            "#ed7953"
                          ],
                          [
                            0.7777777777777778,
                            "#fb9f3a"
                          ],
                          [
                            0.8888888888888888,
                            "#fdca26"
                          ],
                          [
                            1,
                            "#f0f921"
                          ]
                        ]
                      }
                    ],
                    "choropleth": [
                      {
                        "type": "choropleth",
                        "colorbar": {
                          "outlinewidth": 0,
                          "ticks": ""
                        }
                      }
                    ],
                    "histogram2d": [
                      {
                        "type": "histogram2d",
                        "colorbar": {
                          "outlinewidth": 0,
                          "ticks": ""
                        },
                        "colorscale": [
                          [
                            0,
                            "#0d0887"
                          ],
                          [
                            0.1111111111111111,
                            "#46039f"
                          ],
                          [
                            0.2222222222222222,
                            "#7201a8"
                          ],
                          [
                            0.3333333333333333,
                            "#9c179e"
                          ],
                          [
                            0.4444444444444444,
                            "#bd3786"
                          ],
                          [
                            0.5555555555555556,
                            "#d8576b"
                          ],
                          [
                            0.6666666666666666,
                            "#ed7953"
                          ],
                          [
                            0.7777777777777778,
                            "#fb9f3a"
                          ],
                          [
                            0.8888888888888888,
                            "#fdca26"
                          ],
                          [
                            1,
                            "#f0f921"
                          ]
                        ]
                      }
                    ],
                    "heatmap": [
                      {
                        "type": "heatmap",
                        "colorbar": {
                          "outlinewidth": 0,
                          "ticks": ""
                        },
                        "colorscale": [
                          [
                            0,
                            "#0d0887"
                          ],
                          [
                            0.1111111111111111,
                            "#46039f"
                          ],
                          [
                            0.2222222222222222,
                            "#7201a8"
                          ],
                          [
                            0.3333333333333333,
                            "#9c179e"
                          ],
                          [
                            0.4444444444444444,
                            "#bd3786"
                          ],
                          [
                            0.5555555555555556,
                            "#d8576b"
                          ],
                          [
                            0.6666666666666666,
                            "#ed7953"
                          ],
                          [
                            0.7777777777777778,
                            "#fb9f3a"
                          ],
                          [
                            0.8888888888888888,
                            "#fdca26"
                          ],
                          [
                            1,
                            "#f0f921"
                          ]
                        ]
                      }
                    ],
                    "heatmapgl": [
                      {
                        "type": "heatmapgl",
                        "colorbar": {
                          "outlinewidth": 0,
                          "ticks": ""
                        },
                        "colorscale": [
                          [
                            0,
                            "#0d0887"
                          ],
                          [
                            0.1111111111111111,
                            "#46039f"
                          ],
                          [
                            0.2222222222222222,
                            "#7201a8"
                          ],
                          [
                            0.3333333333333333,
                            "#9c179e"
                          ],
                          [
                            0.4444444444444444,
                            "#bd3786"
                          ],
                          [
                            0.5555555555555556,
                            "#d8576b"
                          ],
                          [
                            0.6666666666666666,
                            "#ed7953"
                          ],
                          [
                            0.7777777777777778,
                            "#fb9f3a"
                          ],
                          [
                            0.8888888888888888,
                            "#fdca26"
                          ],
                          [
                            1,
                            "#f0f921"
                          ]
                        ]
                      }
                    ],
                    "contourcarpet": [
                      {
                        "type": "contourcarpet",
                        "colorbar": {
                          "outlinewidth": 0,
                          "ticks": ""
                        }
                      }
                    ],
                    "contour": [
                      {
                        "type": "contour",
                        "colorbar": {
                          "outlinewidth": 0,
                          "ticks": ""
                        },
                        "colorscale": [
                          [
                            0,
                            "#0d0887"
                          ],
                          [
                            0.1111111111111111,
                            "#46039f"
                          ],
                          [
                            0.2222222222222222,
                            "#7201a8"
                          ],
                          [
                            0.3333333333333333,
                            "#9c179e"
                          ],
                          [
                            0.4444444444444444,
                            "#bd3786"
                          ],
                          [
                            0.5555555555555556,
                            "#d8576b"
                          ],
                          [
                            0.6666666666666666,
                            "#ed7953"
                          ],
                          [
                            0.7777777777777778,
                            "#fb9f3a"
                          ],
                          [
                            0.8888888888888888,
                            "#fdca26"
                          ],
                          [
                            1,
                            "#f0f921"
                          ]
                        ]
                      }
                    ],
                    "surface": [
                      {
                        "type": "surface",
                        "colorbar": {
                          "outlinewidth": 0,
                          "ticks": ""
                        },
                        "colorscale": [
                          [
                            0,
                            "#0d0887"
                          ],
                          [
                            0.1111111111111111,
                            "#46039f"
                          ],
                          [
                            0.2222222222222222,
                            "#7201a8"
                          ],
                          [
                            0.3333333333333333,
                            "#9c179e"
                          ],
                          [
                            0.4444444444444444,
                            "#bd3786"
                          ],
                          [
                            0.5555555555555556,
                            "#d8576b"
                          ],
                          [
                            0.6666666666666666,
                            "#ed7953"
                          ],
                          [
                            0.7777777777777778,
                            "#fb9f3a"
                          ],
                          [
                            0.8888888888888888,
                            "#fdca26"
                          ],
                          [
                            1,
                            "#f0f921"
                          ]
                        ]
                      }
                    ],
                    "mesh3d": [
                      {
                        "type": "mesh3d",
                        "colorbar": {
                          "outlinewidth": 0,
                          "ticks": ""
                        }
                      }
                    ],
                    "scatter": [
                      {
                        "fillpattern": {
                          "fillmode": "overlay",
                          "size": 10,
                          "solidity": 0.2
                        },
                        "type": "scatter"
                      }
                    ],
                    "parcoords": [
                      {
                        "type": "parcoords",
                        "line": {
                          "colorbar": {
                            "outlinewidth": 0,
                            "ticks": ""
                          }
                        }
                      }
                    ],
                    "scatterpolargl": [
                      {
                        "type": "scatterpolargl",
                        "marker": {
                          "colorbar": {
                            "outlinewidth": 0,
                            "ticks": ""
                          }
                        }
                      }
                    ],
                    "bar": [
                      {
                        "error_x": {
                          "color": "#2a3f5f"
                        },
                        "error_y": {
                          "color": "#2a3f5f"
                        },
                        "marker": {
                          "line": {
                            "color": "#E5ECF6",
                            "width": 0.5
                          },
                          "pattern": {
                            "fillmode": "overlay",
                            "size": 10,
                            "solidity": 0.2
                          }
                        },
                        "type": "bar"
                      }
                    ],
                    "scattergeo": [
                      {
                        "type": "scattergeo",
                        "marker": {
                          "colorbar": {
                            "outlinewidth": 0,
                            "ticks": ""
                          }
                        }
                      }
                    ],
                    "scatterpolar": [
                      {
                        "type": "scatterpolar",
                        "marker": {
                          "colorbar": {
                            "outlinewidth": 0,
                            "ticks": ""
                          }
                        }
                      }
                    ],
                    "histogram": [
                      {
                        "marker": {
                          "pattern": {
                            "fillmode": "overlay",
                            "size": 10,
                            "solidity": 0.2
                          }
                        },
                        "type": "histogram"
                      }
                    ],
                    "scattergl": [
                      {
                        "type": "scattergl",
                        "marker": {
                          "colorbar": {
                            "outlinewidth": 0,
                            "ticks": ""
                          }
                        }
                      }
                    ],
                    "scatter3d": [
                      {
                        "type": "scatter3d",
                        "line": {
                          "colorbar": {
                            "outlinewidth": 0,
                            "ticks": ""
                          }
                        },
                        "marker": {
                          "colorbar": {
                            "outlinewidth": 0,
                            "ticks": ""
                          }
                        }
                      }
                    ],
                    "scattermapbox": [
                      {
                        "type": "scattermapbox",
                        "marker": {
                          "colorbar": {
                            "outlinewidth": 0,
                            "ticks": ""
                          }
                        }
                      }
                    ],
                    "scatterternary": [
                      {
                        "type": "scatterternary",
                        "marker": {
                          "colorbar": {
                            "outlinewidth": 0,
                            "ticks": ""
                          }
                        }
                      }
                    ],
                    "scattercarpet": [
                      {
                        "type": "scattercarpet",
                        "marker": {
                          "colorbar": {
                            "outlinewidth": 0,
                            "ticks": ""
                          }
                        }
                      }
                    ],
                    "carpet": [
                      {
                        "aaxis": {
                          "endlinecolor": "#2a3f5f",
                          "gridcolor": "white",
                          "linecolor": "white",
                          "minorgridcolor": "white",
                          "startlinecolor": "#2a3f5f"
                        },
                        "baxis": {
                          "endlinecolor": "#2a3f5f",
                          "gridcolor": "white",
                          "linecolor": "white",
                          "minorgridcolor": "white",
                          "startlinecolor": "#2a3f5f"
                        },
                        "type": "carpet"
                      }
                    ],
                    "table": [
                      {
                        "cells": {
                          "fill": {
                            "color": "#EBF0F8"
                          },
                          "line": {
                            "color": "white"
                          }
                        },
                        "header": {
                          "fill": {
                            "color": "#C8D4E3"
                          },
                          "line": {
                            "color": "white"
                          }
                        },
                        "type": "table"
                      }
                    ],
                    "barpolar": [
                      {
                        "marker": {
                          "line": {
                            "color": "#E5ECF6",
                            "width": 0.5
                          },
                          "pattern": {
                            "fillmode": "overlay",
                            "size": 10,
                            "solidity": 0.2
                          }
                        },
                        "type": "barpolar"
                      }
                    ],
                    "pie": [
                      {
                        "automargin": true,
                        "type": "pie"
                      }
                    ]
                  },
                  "layout": {
                    "autotypenumbers": "strict",
                    "colorway": [
                      "#636efa",
                      "#EF553B",
                      "#00cc96",
                      "#ab63fa",
                      "#FFA15A",
                      "#19d3f3",
                      "#FF6692",
                      "#B6E880",
                      "#FF97FF",
                      "#FECB52"
                    ],
                    "font": {
                      "color": "#2a3f5f"
                    },
                    "hovermode": "closest",
                    "hoverlabel": {
                      "align": "left"
                    },
                    "paper_bgcolor": "white",
                    "plot_bgcolor": "#E5ECF6",
                    "polar": {
                      "bgcolor": "#E5ECF6",
                      "angularaxis": {
                        "gridcolor": "white",
                        "linecolor": "white",
                        "ticks": ""
                      },
                      "radialaxis": {
                        "gridcolor": "white",
                        "linecolor": "white",
                        "ticks": ""
                      }
                    },
                    "ternary": {
                      "bgcolor": "#E5ECF6",
                      "aaxis": {
                        "gridcolor": "white",
                        "linecolor": "white",
                        "ticks": ""
                      },
                      "baxis": {
                        "gridcolor": "white",
                        "linecolor": "white",
                        "ticks": ""
                      },
                      "caxis": {
                        "gridcolor": "white",
                        "linecolor": "white",
                        "ticks": ""
                      }
                    },
                    "coloraxis": {
                      "colorbar": {
                        "outlinewidth": 0,
                        "ticks": ""
                      }
                    },
                    "colorscale": {
                      "sequential": [
                        [
                          0,
                          "#0d0887"
                        ],
                        [
                          0.1111111111111111,
                          "#46039f"
                        ],
                        [
                          0.2222222222222222,
                          "#7201a8"
                        ],
                        [
                          0.3333333333333333,
                          "#9c179e"
                        ],
                        [
                          0.4444444444444444,
                          "#bd3786"
                        ],
                        [
                          0.5555555555555556,
                          "#d8576b"
                        ],
                        [
                          0.6666666666666666,
                          "#ed7953"
                        ],
                        [
                          0.7777777777777778,
                          "#fb9f3a"
                        ],
                        [
                          0.8888888888888888,
                          "#fdca26"
                        ],
                        [
                          1,
                          "#f0f921"
                        ]
                      ],
                      "sequentialminus": [
                        [
                          0,
                          "#0d0887"
                        ],
                        [
                          0.1111111111111111,
                          "#46039f"
                        ],
                        [
                          0.2222222222222222,
                          "#7201a8"
                        ],
                        [
                          0.3333333333333333,
                          "#9c179e"
                        ],
                        [
                          0.4444444444444444,
                          "#bd3786"
                        ],
                        [
                          0.5555555555555556,
                          "#d8576b"
                        ],
                        [
                          0.6666666666666666,
                          "#ed7953"
                        ],
                        [
                          0.7777777777777778,
                          "#fb9f3a"
                        ],
                        [
                          0.8888888888888888,
                          "#fdca26"
                        ],
                        [
                          1,
                          "#f0f921"
                        ]
                      ],
                      "diverging": [
                        [
                          0,
                          "#8e0152"
                        ],
                        [
                          0.1,
                          "#c51b7d"
                        ],
                        [
                          0.2,
                          "#de77ae"
                        ],
                        [
                          0.3,
                          "#f1b6da"
                        ],
                        [
                          0.4,
                          "#fde0ef"
                        ],
                        [
                          0.5,
                          "#f7f7f7"
                        ],
                        [
                          0.6,
                          "#e6f5d0"
                        ],
                        [
                          0.7,
                          "#b8e186"
                        ],
                        [
                          0.8,
                          "#7fbc41"
                        ],
                        [
                          0.9,
                          "#4d9221"
                        ],
                        [
                          1,
                          "#276419"
                        ]
                      ]
                    },
                    "xaxis": {
                      "gridcolor": "white",
                      "linecolor": "white",
                      "ticks": "",
                      "title": {
                        "standoff": 15
                      },
                      "zerolinecolor": "white",
                      "automargin": true,
                      "zerolinewidth": 2
                    },
                    "yaxis": {
                      "gridcolor": "white",
                      "linecolor": "white",
                      "ticks": "",
                      "title": {
                        "standoff": 15
                      },
                      "zerolinecolor": "white",
                      "automargin": true,
                      "zerolinewidth": 2
                    },
                    "scene": {
                      "xaxis": {
                        "backgroundcolor": "#E5ECF6",
                        "gridcolor": "white",
                        "linecolor": "white",
                        "showbackground": true,
                        "ticks": "",
                        "zerolinecolor": "white",
                        "gridwidth": 2
                      },
                      "yaxis": {
                        "backgroundcolor": "#E5ECF6",
                        "gridcolor": "white",
                        "linecolor": "white",
                        "showbackground": true,
                        "ticks": "",
                        "zerolinecolor": "white",
                        "gridwidth": 2
                      },
                      "zaxis": {
                        "backgroundcolor": "#E5ECF6",
                        "gridcolor": "white",
                        "linecolor": "white",
                        "showbackground": true,
                        "ticks": "",
                        "zerolinecolor": "white",
                        "gridwidth": 2
                      }
                    },
                    "shapedefaults": {
                      "line": {
                        "color": "#2a3f5f"
                      }
                    },
                    "annotationdefaults": {
                      "arrowcolor": "#2a3f5f",
                      "arrowhead": 0,
                      "arrowwidth": 1
                    },
                    "geo": {
                      "bgcolor": "white",
                      "landcolor": "#E5ECF6",
                      "subunitcolor": "white",
                      "showland": true,
                      "showlakes": true,
                      "lakecolor": "white"
                    },
                    "title": {
                      "x": 0.05
                    },
                    "mapbox": {
                      "style": "light"
                    }
                  }
                }
              },
              "config": {
                "plotlyServerURL": "https://plot.ly"
              }
            },
            "text/html": [
              "<div>                            <div id=\"434b84b3-c6c3-48ad-bce9-af363136d8f9\" class=\"plotly-graph-div\" style=\"height:500px; width:500px;\"></div>            <script type=\"text/javascript\">                require([\"plotly\"], function(Plotly) {                    window.PLOTLYENV=window.PLOTLYENV || {};                                    if (document.getElementById(\"434b84b3-c6c3-48ad-bce9-af363136d8f9\")) {                    Plotly.newPlot(                        \"434b84b3-c6c3-48ad-bce9-af363136d8f9\",                        [{\"text\":[\"27.2 %\",\"23.3 %\",\"12.1 %\",\"16.1 %\",\"21.3 %\"],\"textfont\":{\"color\":\"#000000\"},\"textposition\":\"auto\",\"x\":[5,4,3,2,1],\"y\":[35512,30458,15838,21070,27876],\"type\":\"bar\"}],                        {\"autosize\":false,\"height\":500,\"title\":{\"text\":\"Distribution Of 130754 ratings\"},\"width\":500,\"xaxis\":{\"title\":{\"text\":\"Rating\"}},\"yaxis\":{\"title\":{\"text\":\"Count\"}},\"template\":{\"data\":{\"histogram2dcontour\":[{\"type\":\"histogram2dcontour\",\"colorbar\":{\"outlinewidth\":0,\"ticks\":\"\"},\"colorscale\":[[0.0,\"#0d0887\"],[0.1111111111111111,\"#46039f\"],[0.2222222222222222,\"#7201a8\"],[0.3333333333333333,\"#9c179e\"],[0.4444444444444444,\"#bd3786\"],[0.5555555555555556,\"#d8576b\"],[0.6666666666666666,\"#ed7953\"],[0.7777777777777778,\"#fb9f3a\"],[0.8888888888888888,\"#fdca26\"],[1.0,\"#f0f921\"]]}],\"choropleth\":[{\"type\":\"choropleth\",\"colorbar\":{\"outlinewidth\":0,\"ticks\":\"\"}}],\"histogram2d\":[{\"type\":\"histogram2d\",\"colorbar\":{\"outlinewidth\":0,\"ticks\":\"\"},\"colorscale\":[[0.0,\"#0d0887\"],[0.1111111111111111,\"#46039f\"],[0.2222222222222222,\"#7201a8\"],[0.3333333333333333,\"#9c179e\"],[0.4444444444444444,\"#bd3786\"],[0.5555555555555556,\"#d8576b\"],[0.6666666666666666,\"#ed7953\"],[0.7777777777777778,\"#fb9f3a\"],[0.8888888888888888,\"#fdca26\"],[1.0,\"#f0f921\"]]}],\"heatmap\":[{\"type\":\"heatmap\",\"colorbar\":{\"outlinewidth\":0,\"ticks\":\"\"},\"colorscale\":[[0.0,\"#0d0887\"],[0.1111111111111111,\"#46039f\"],[0.2222222222222222,\"#7201a8\"],[0.3333333333333333,\"#9c179e\"],[0.4444444444444444,\"#bd3786\"],[0.5555555555555556,\"#d8576b\"],[0.6666666666666666,\"#ed7953\"],[0.7777777777777778,\"#fb9f3a\"],[0.8888888888888888,\"#fdca26\"],[1.0,\"#f0f921\"]]}],\"heatmapgl\":[{\"type\":\"heatmapgl\",\"colorbar\":{\"outlinewidth\":0,\"ticks\":\"\"},\"colorscale\":[[0.0,\"#0d0887\"],[0.1111111111111111,\"#46039f\"],[0.2222222222222222,\"#7201a8\"],[0.3333333333333333,\"#9c179e\"],[0.4444444444444444,\"#bd3786\"],[0.5555555555555556,\"#d8576b\"],[0.6666666666666666,\"#ed7953\"],[0.7777777777777778,\"#fb9f3a\"],[0.8888888888888888,\"#fdca26\"],[1.0,\"#f0f921\"]]}],\"contourcarpet\":[{\"type\":\"contourcarpet\",\"colorbar\":{\"outlinewidth\":0,\"ticks\":\"\"}}],\"contour\":[{\"type\":\"contour\",\"colorbar\":{\"outlinewidth\":0,\"ticks\":\"\"},\"colorscale\":[[0.0,\"#0d0887\"],[0.1111111111111111,\"#46039f\"],[0.2222222222222222,\"#7201a8\"],[0.3333333333333333,\"#9c179e\"],[0.4444444444444444,\"#bd3786\"],[0.5555555555555556,\"#d8576b\"],[0.6666666666666666,\"#ed7953\"],[0.7777777777777778,\"#fb9f3a\"],[0.8888888888888888,\"#fdca26\"],[1.0,\"#f0f921\"]]}],\"surface\":[{\"type\":\"surface\",\"colorbar\":{\"outlinewidth\":0,\"ticks\":\"\"},\"colorscale\":[[0.0,\"#0d0887\"],[0.1111111111111111,\"#46039f\"],[0.2222222222222222,\"#7201a8\"],[0.3333333333333333,\"#9c179e\"],[0.4444444444444444,\"#bd3786\"],[0.5555555555555556,\"#d8576b\"],[0.6666666666666666,\"#ed7953\"],[0.7777777777777778,\"#fb9f3a\"],[0.8888888888888888,\"#fdca26\"],[1.0,\"#f0f921\"]]}],\"mesh3d\":[{\"type\":\"mesh3d\",\"colorbar\":{\"outlinewidth\":0,\"ticks\":\"\"}}],\"scatter\":[{\"fillpattern\":{\"fillmode\":\"overlay\",\"size\":10,\"solidity\":0.2},\"type\":\"scatter\"}],\"parcoords\":[{\"type\":\"parcoords\",\"line\":{\"colorbar\":{\"outlinewidth\":0,\"ticks\":\"\"}}}],\"scatterpolargl\":[{\"type\":\"scatterpolargl\",\"marker\":{\"colorbar\":{\"outlinewidth\":0,\"ticks\":\"\"}}}],\"bar\":[{\"error_x\":{\"color\":\"#2a3f5f\"},\"error_y\":{\"color\":\"#2a3f5f\"},\"marker\":{\"line\":{\"color\":\"#E5ECF6\",\"width\":0.5},\"pattern\":{\"fillmode\":\"overlay\",\"size\":10,\"solidity\":0.2}},\"type\":\"bar\"}],\"scattergeo\":[{\"type\":\"scattergeo\",\"marker\":{\"colorbar\":{\"outlinewidth\":0,\"ticks\":\"\"}}}],\"scatterpolar\":[{\"type\":\"scatterpolar\",\"marker\":{\"colorbar\":{\"outlinewidth\":0,\"ticks\":\"\"}}}],\"histogram\":[{\"marker\":{\"pattern\":{\"fillmode\":\"overlay\",\"size\":10,\"solidity\":0.2}},\"type\":\"histogram\"}],\"scattergl\":[{\"type\":\"scattergl\",\"marker\":{\"colorbar\":{\"outlinewidth\":0,\"ticks\":\"\"}}}],\"scatter3d\":[{\"type\":\"scatter3d\",\"line\":{\"colorbar\":{\"outlinewidth\":0,\"ticks\":\"\"}},\"marker\":{\"colorbar\":{\"outlinewidth\":0,\"ticks\":\"\"}}}],\"scattermapbox\":[{\"type\":\"scattermapbox\",\"marker\":{\"colorbar\":{\"outlinewidth\":0,\"ticks\":\"\"}}}],\"scatterternary\":[{\"type\":\"scatterternary\",\"marker\":{\"colorbar\":{\"outlinewidth\":0,\"ticks\":\"\"}}}],\"scattercarpet\":[{\"type\":\"scattercarpet\",\"marker\":{\"colorbar\":{\"outlinewidth\":0,\"ticks\":\"\"}}}],\"carpet\":[{\"aaxis\":{\"endlinecolor\":\"#2a3f5f\",\"gridcolor\":\"white\",\"linecolor\":\"white\",\"minorgridcolor\":\"white\",\"startlinecolor\":\"#2a3f5f\"},\"baxis\":{\"endlinecolor\":\"#2a3f5f\",\"gridcolor\":\"white\",\"linecolor\":\"white\",\"minorgridcolor\":\"white\",\"startlinecolor\":\"#2a3f5f\"},\"type\":\"carpet\"}],\"table\":[{\"cells\":{\"fill\":{\"color\":\"#EBF0F8\"},\"line\":{\"color\":\"white\"}},\"header\":{\"fill\":{\"color\":\"#C8D4E3\"},\"line\":{\"color\":\"white\"}},\"type\":\"table\"}],\"barpolar\":[{\"marker\":{\"line\":{\"color\":\"#E5ECF6\",\"width\":0.5},\"pattern\":{\"fillmode\":\"overlay\",\"size\":10,\"solidity\":0.2}},\"type\":\"barpolar\"}],\"pie\":[{\"automargin\":true,\"type\":\"pie\"}]},\"layout\":{\"autotypenumbers\":\"strict\",\"colorway\":[\"#636efa\",\"#EF553B\",\"#00cc96\",\"#ab63fa\",\"#FFA15A\",\"#19d3f3\",\"#FF6692\",\"#B6E880\",\"#FF97FF\",\"#FECB52\"],\"font\":{\"color\":\"#2a3f5f\"},\"hovermode\":\"closest\",\"hoverlabel\":{\"align\":\"left\"},\"paper_bgcolor\":\"white\",\"plot_bgcolor\":\"#E5ECF6\",\"polar\":{\"bgcolor\":\"#E5ECF6\",\"angularaxis\":{\"gridcolor\":\"white\",\"linecolor\":\"white\",\"ticks\":\"\"},\"radialaxis\":{\"gridcolor\":\"white\",\"linecolor\":\"white\",\"ticks\":\"\"}},\"ternary\":{\"bgcolor\":\"#E5ECF6\",\"aaxis\":{\"gridcolor\":\"white\",\"linecolor\":\"white\",\"ticks\":\"\"},\"baxis\":{\"gridcolor\":\"white\",\"linecolor\":\"white\",\"ticks\":\"\"},\"caxis\":{\"gridcolor\":\"white\",\"linecolor\":\"white\",\"ticks\":\"\"}},\"coloraxis\":{\"colorbar\":{\"outlinewidth\":0,\"ticks\":\"\"}},\"colorscale\":{\"sequential\":[[0.0,\"#0d0887\"],[0.1111111111111111,\"#46039f\"],[0.2222222222222222,\"#7201a8\"],[0.3333333333333333,\"#9c179e\"],[0.4444444444444444,\"#bd3786\"],[0.5555555555555556,\"#d8576b\"],[0.6666666666666666,\"#ed7953\"],[0.7777777777777778,\"#fb9f3a\"],[0.8888888888888888,\"#fdca26\"],[1.0,\"#f0f921\"]],\"sequentialminus\":[[0.0,\"#0d0887\"],[0.1111111111111111,\"#46039f\"],[0.2222222222222222,\"#7201a8\"],[0.3333333333333333,\"#9c179e\"],[0.4444444444444444,\"#bd3786\"],[0.5555555555555556,\"#d8576b\"],[0.6666666666666666,\"#ed7953\"],[0.7777777777777778,\"#fb9f3a\"],[0.8888888888888888,\"#fdca26\"],[1.0,\"#f0f921\"]],\"diverging\":[[0,\"#8e0152\"],[0.1,\"#c51b7d\"],[0.2,\"#de77ae\"],[0.3,\"#f1b6da\"],[0.4,\"#fde0ef\"],[0.5,\"#f7f7f7\"],[0.6,\"#e6f5d0\"],[0.7,\"#b8e186\"],[0.8,\"#7fbc41\"],[0.9,\"#4d9221\"],[1,\"#276419\"]]},\"xaxis\":{\"gridcolor\":\"white\",\"linecolor\":\"white\",\"ticks\":\"\",\"title\":{\"standoff\":15},\"zerolinecolor\":\"white\",\"automargin\":true,\"zerolinewidth\":2},\"yaxis\":{\"gridcolor\":\"white\",\"linecolor\":\"white\",\"ticks\":\"\",\"title\":{\"standoff\":15},\"zerolinecolor\":\"white\",\"automargin\":true,\"zerolinewidth\":2},\"scene\":{\"xaxis\":{\"backgroundcolor\":\"#E5ECF6\",\"gridcolor\":\"white\",\"linecolor\":\"white\",\"showbackground\":true,\"ticks\":\"\",\"zerolinecolor\":\"white\",\"gridwidth\":2},\"yaxis\":{\"backgroundcolor\":\"#E5ECF6\",\"gridcolor\":\"white\",\"linecolor\":\"white\",\"showbackground\":true,\"ticks\":\"\",\"zerolinecolor\":\"white\",\"gridwidth\":2},\"zaxis\":{\"backgroundcolor\":\"#E5ECF6\",\"gridcolor\":\"white\",\"linecolor\":\"white\",\"showbackground\":true,\"ticks\":\"\",\"zerolinecolor\":\"white\",\"gridwidth\":2}},\"shapedefaults\":{\"line\":{\"color\":\"#2a3f5f\"}},\"annotationdefaults\":{\"arrowcolor\":\"#2a3f5f\",\"arrowhead\":0,\"arrowwidth\":1},\"geo\":{\"bgcolor\":\"white\",\"landcolor\":\"#E5ECF6\",\"subunitcolor\":\"white\",\"showland\":true,\"showlakes\":true,\"lakecolor\":\"white\"},\"title\":{\"x\":0.05},\"mapbox\":{\"style\":\"light\"}}}},                        {\"responsive\": true}                    ).then(function(){\n",
              "                            \n",
              "var gd = document.getElementById('434b84b3-c6c3-48ad-bce9-af363136d8f9');\n",
              "var x = new MutationObserver(function (mutations, observer) {{\n",
              "        var display = window.getComputedStyle(gd).display;\n",
              "        if (!display || display === 'none') {{\n",
              "            console.log([gd, 'removed!']);\n",
              "            Plotly.purge(gd);\n",
              "            observer.disconnect();\n",
              "        }}\n",
              "}});\n",
              "\n",
              "// Listen for the removal of the full notebook cells\n",
              "var notebookContainer = gd.closest('#notebook-container');\n",
              "if (notebookContainer) {{\n",
              "    x.observe(notebookContainer, {childList: true});\n",
              "}}\n",
              "\n",
              "// Listen for the clearing of the current output cell\n",
              "var outputEl = gd.closest('.output');\n",
              "if (outputEl) {{\n",
              "    x.observe(outputEl, {childList: true});\n",
              "}}\n",
              "\n",
              "                        })                };                });            </script>        </div>"
            ]
          },
          "metadata": {}
        }
      ]
    },
    {
      "cell_type": "code",
      "source": [
        "data"
      ],
      "metadata": {
        "execution": {
          "iopub.status.busy": "2022-08-26T14:49:55.128092Z",
          "iopub.execute_input": "2022-08-26T14:49:55.129357Z",
          "iopub.status.idle": "2022-08-26T14:49:55.139796Z",
          "shell.execute_reply.started": "2022-08-26T14:49:55.1293Z",
          "shell.execute_reply": "2022-08-26T14:49:55.13876Z"
        },
        "trusted": true,
        "id": "UDDxf7MZ_x6o",
        "outputId": "18744d2d-da13-4dbc-cfe3-6e382ff781df",
        "colab": {
          "base_uri": "https://localhost:8080/"
        }
      },
      "execution_count": null,
      "outputs": [
        {
          "output_type": "execute_result",
          "data": {
            "text/plain": [
              "Rate\n",
              "5    35512\n",
              "4    30458\n",
              "3    15838\n",
              "2    21070\n",
              "1    27876\n",
              "Name: count, dtype: int64"
            ]
          },
          "metadata": {},
          "execution_count": 22
        }
      ]
    },
    {
      "cell_type": "code",
      "source": [
        "reader = Reader(rating_scale=(1, 5))\n",
        "data = Dataset.load_from_df(ratings[['CustomerID','ProductID','Rate']], reader)"
      ],
      "metadata": {
        "execution": {
          "iopub.status.busy": "2022-08-27T02:20:34.816233Z",
          "iopub.execute_input": "2022-08-27T02:20:34.816677Z",
          "iopub.status.idle": "2022-08-27T02:20:34.971121Z",
          "shell.execute_reply.started": "2022-08-27T02:20:34.816641Z",
          "shell.execute_reply": "2022-08-27T02:20:34.970056Z"
        },
        "trusted": true,
        "id": "3K3YQelr_x6o"
      },
      "execution_count": null,
      "outputs": []
    },
    {
      "cell_type": "code",
      "source": [
        "data"
      ],
      "metadata": {
        "execution": {
          "iopub.status.busy": "2022-08-26T14:51:43.365326Z",
          "iopub.execute_input": "2022-08-26T14:51:43.365756Z",
          "iopub.status.idle": "2022-08-26T14:51:43.372075Z",
          "shell.execute_reply.started": "2022-08-26T14:51:43.365723Z",
          "shell.execute_reply": "2022-08-26T14:51:43.371239Z"
        },
        "trusted": true,
        "id": "CdARm2Mx_x6o",
        "outputId": "7cbf2ebd-8f7a-496e-f466-c14039f20cf0",
        "colab": {
          "base_uri": "https://localhost:8080/"
        }
      },
      "execution_count": null,
      "outputs": [
        {
          "output_type": "execute_result",
          "data": {
            "text/plain": [
              "<surprise.dataset.DatasetAutoFolds at 0x7c95dca4e950>"
            ]
          },
          "metadata": {},
          "execution_count": 24
        }
      ]
    },
    {
      "cell_type": "code",
      "source": [
        "from surprise import Dataset, KNNBaseline, Reader\n",
        "\n",
        "reader = Reader(rating_scale=(1, 5))\n",
        "\n",
        "rate_train =ratings[0:104603]\n",
        "#rate_train = np.array(rate_train)\n",
        "rate_test = ratings[104604:]\n",
        "#rate_test= np.array(rate_test)\n",
        "\n",
        "train_Dataset = Dataset.load_from_df(rate_train[['CustomerID','ProductID','Rate']], reader)\n",
        "valid_Dataset = Dataset.load_from_df(rate_test[['CustomerID','ProductID','Rate']], reader)"
      ],
      "metadata": {
        "execution": {
          "iopub.status.busy": "2022-08-27T02:23:12.468537Z",
          "iopub.execute_input": "2022-08-27T02:23:12.46964Z",
          "iopub.status.idle": "2022-08-27T02:23:12.636269Z",
          "shell.execute_reply.started": "2022-08-27T02:23:12.469594Z",
          "shell.execute_reply": "2022-08-27T02:23:12.635464Z"
        },
        "trusted": true,
        "id": "8b8704cP_x6p"
      },
      "execution_count": null,
      "outputs": []
    },
    {
      "cell_type": "code",
      "source": [
        "rate_train"
      ],
      "metadata": {
        "execution": {
          "iopub.status.busy": "2022-08-27T02:23:14.341638Z",
          "iopub.execute_input": "2022-08-27T02:23:14.342075Z",
          "iopub.status.idle": "2022-08-27T02:23:14.359523Z",
          "shell.execute_reply.started": "2022-08-27T02:23:14.342037Z",
          "shell.execute_reply": "2022-08-27T02:23:14.358481Z"
        },
        "trusted": true,
        "id": "Za3aTig6_x6p",
        "outputId": "65cc5760-0d4a-4a35-9263-bd80f9864b1a",
        "colab": {
          "base_uri": "https://localhost:8080/",
          "height": 423
        }
      },
      "execution_count": null,
      "outputs": [
        {
          "output_type": "execute_result",
          "data": {
            "text/plain": [
              "        CustomerID  ProductID  Rate\n",
              "0           103416        619     1\n",
              "1           103654        411     1\n",
              "2           103954        298     3\n",
              "3           103672        361     5\n",
              "4           103960        536     5\n",
              "...            ...        ...   ...\n",
              "104598      103391        498     4\n",
              "104599      103883        666     5\n",
              "104600      103749        372     3\n",
              "104601      103394        153     3\n",
              "104602      103659        614     1\n",
              "\n",
              "[104603 rows x 3 columns]"
            ],
            "text/html": [
              "\n",
              "  <div id=\"df-823d2d1d-1ec3-4b3a-af3d-0c9279633d09\" class=\"colab-df-container\">\n",
              "    <div>\n",
              "<style scoped>\n",
              "    .dataframe tbody tr th:only-of-type {\n",
              "        vertical-align: middle;\n",
              "    }\n",
              "\n",
              "    .dataframe tbody tr th {\n",
              "        vertical-align: top;\n",
              "    }\n",
              "\n",
              "    .dataframe thead th {\n",
              "        text-align: right;\n",
              "    }\n",
              "</style>\n",
              "<table border=\"1\" class=\"dataframe\">\n",
              "  <thead>\n",
              "    <tr style=\"text-align: right;\">\n",
              "      <th></th>\n",
              "      <th>CustomerID</th>\n",
              "      <th>ProductID</th>\n",
              "      <th>Rate</th>\n",
              "    </tr>\n",
              "  </thead>\n",
              "  <tbody>\n",
              "    <tr>\n",
              "      <th>0</th>\n",
              "      <td>103416</td>\n",
              "      <td>619</td>\n",
              "      <td>1</td>\n",
              "    </tr>\n",
              "    <tr>\n",
              "      <th>1</th>\n",
              "      <td>103654</td>\n",
              "      <td>411</td>\n",
              "      <td>1</td>\n",
              "    </tr>\n",
              "    <tr>\n",
              "      <th>2</th>\n",
              "      <td>103954</td>\n",
              "      <td>298</td>\n",
              "      <td>3</td>\n",
              "    </tr>\n",
              "    <tr>\n",
              "      <th>3</th>\n",
              "      <td>103672</td>\n",
              "      <td>361</td>\n",
              "      <td>5</td>\n",
              "    </tr>\n",
              "    <tr>\n",
              "      <th>4</th>\n",
              "      <td>103960</td>\n",
              "      <td>536</td>\n",
              "      <td>5</td>\n",
              "    </tr>\n",
              "    <tr>\n",
              "      <th>...</th>\n",
              "      <td>...</td>\n",
              "      <td>...</td>\n",
              "      <td>...</td>\n",
              "    </tr>\n",
              "    <tr>\n",
              "      <th>104598</th>\n",
              "      <td>103391</td>\n",
              "      <td>498</td>\n",
              "      <td>4</td>\n",
              "    </tr>\n",
              "    <tr>\n",
              "      <th>104599</th>\n",
              "      <td>103883</td>\n",
              "      <td>666</td>\n",
              "      <td>5</td>\n",
              "    </tr>\n",
              "    <tr>\n",
              "      <th>104600</th>\n",
              "      <td>103749</td>\n",
              "      <td>372</td>\n",
              "      <td>3</td>\n",
              "    </tr>\n",
              "    <tr>\n",
              "      <th>104601</th>\n",
              "      <td>103394</td>\n",
              "      <td>153</td>\n",
              "      <td>3</td>\n",
              "    </tr>\n",
              "    <tr>\n",
              "      <th>104602</th>\n",
              "      <td>103659</td>\n",
              "      <td>614</td>\n",
              "      <td>1</td>\n",
              "    </tr>\n",
              "  </tbody>\n",
              "</table>\n",
              "<p>104603 rows × 3 columns</p>\n",
              "</div>\n",
              "    <div class=\"colab-df-buttons\">\n",
              "\n",
              "  <div class=\"colab-df-container\">\n",
              "    <button class=\"colab-df-convert\" onclick=\"convertToInteractive('df-823d2d1d-1ec3-4b3a-af3d-0c9279633d09')\"\n",
              "            title=\"Convert this dataframe to an interactive table.\"\n",
              "            style=\"display:none;\">\n",
              "\n",
              "  <svg xmlns=\"http://www.w3.org/2000/svg\" height=\"24px\" viewBox=\"0 -960 960 960\">\n",
              "    <path d=\"M120-120v-720h720v720H120Zm60-500h600v-160H180v160Zm220 220h160v-160H400v160Zm0 220h160v-160H400v160ZM180-400h160v-160H180v160Zm440 0h160v-160H620v160ZM180-180h160v-160H180v160Zm440 0h160v-160H620v160Z\"/>\n",
              "  </svg>\n",
              "    </button>\n",
              "\n",
              "  <style>\n",
              "    .colab-df-container {\n",
              "      display:flex;\n",
              "      gap: 12px;\n",
              "    }\n",
              "\n",
              "    .colab-df-convert {\n",
              "      background-color: #E8F0FE;\n",
              "      border: none;\n",
              "      border-radius: 50%;\n",
              "      cursor: pointer;\n",
              "      display: none;\n",
              "      fill: #1967D2;\n",
              "      height: 32px;\n",
              "      padding: 0 0 0 0;\n",
              "      width: 32px;\n",
              "    }\n",
              "\n",
              "    .colab-df-convert:hover {\n",
              "      background-color: #E2EBFA;\n",
              "      box-shadow: 0px 1px 2px rgba(60, 64, 67, 0.3), 0px 1px 3px 1px rgba(60, 64, 67, 0.15);\n",
              "      fill: #174EA6;\n",
              "    }\n",
              "\n",
              "    .colab-df-buttons div {\n",
              "      margin-bottom: 4px;\n",
              "    }\n",
              "\n",
              "    [theme=dark] .colab-df-convert {\n",
              "      background-color: #3B4455;\n",
              "      fill: #D2E3FC;\n",
              "    }\n",
              "\n",
              "    [theme=dark] .colab-df-convert:hover {\n",
              "      background-color: #434B5C;\n",
              "      box-shadow: 0px 1px 3px 1px rgba(0, 0, 0, 0.15);\n",
              "      filter: drop-shadow(0px 1px 2px rgba(0, 0, 0, 0.3));\n",
              "      fill: #FFFFFF;\n",
              "    }\n",
              "  </style>\n",
              "\n",
              "    <script>\n",
              "      const buttonEl =\n",
              "        document.querySelector('#df-823d2d1d-1ec3-4b3a-af3d-0c9279633d09 button.colab-df-convert');\n",
              "      buttonEl.style.display =\n",
              "        google.colab.kernel.accessAllowed ? 'block' : 'none';\n",
              "\n",
              "      async function convertToInteractive(key) {\n",
              "        const element = document.querySelector('#df-823d2d1d-1ec3-4b3a-af3d-0c9279633d09');\n",
              "        const dataTable =\n",
              "          await google.colab.kernel.invokeFunction('convertToInteractive',\n",
              "                                                    [key], {});\n",
              "        if (!dataTable) return;\n",
              "\n",
              "        const docLinkHtml = 'Like what you see? Visit the ' +\n",
              "          '<a target=\"_blank\" href=https://colab.research.google.com/notebooks/data_table.ipynb>data table notebook</a>'\n",
              "          + ' to learn more about interactive tables.';\n",
              "        element.innerHTML = '';\n",
              "        dataTable['output_type'] = 'display_data';\n",
              "        await google.colab.output.renderOutput(dataTable, element);\n",
              "        const docLink = document.createElement('div');\n",
              "        docLink.innerHTML = docLinkHtml;\n",
              "        element.appendChild(docLink);\n",
              "      }\n",
              "    </script>\n",
              "  </div>\n",
              "\n",
              "\n",
              "<div id=\"df-b19baba0-82fa-4e17-a084-5ce76fdee5ee\">\n",
              "  <button class=\"colab-df-quickchart\" onclick=\"quickchart('df-b19baba0-82fa-4e17-a084-5ce76fdee5ee')\"\n",
              "            title=\"Suggest charts\"\n",
              "            style=\"display:none;\">\n",
              "\n",
              "<svg xmlns=\"http://www.w3.org/2000/svg\" height=\"24px\"viewBox=\"0 0 24 24\"\n",
              "     width=\"24px\">\n",
              "    <g>\n",
              "        <path d=\"M19 3H5c-1.1 0-2 .9-2 2v14c0 1.1.9 2 2 2h14c1.1 0 2-.9 2-2V5c0-1.1-.9-2-2-2zM9 17H7v-7h2v7zm4 0h-2V7h2v10zm4 0h-2v-4h2v4z\"/>\n",
              "    </g>\n",
              "</svg>\n",
              "  </button>\n",
              "\n",
              "<style>\n",
              "  .colab-df-quickchart {\n",
              "      --bg-color: #E8F0FE;\n",
              "      --fill-color: #1967D2;\n",
              "      --hover-bg-color: #E2EBFA;\n",
              "      --hover-fill-color: #174EA6;\n",
              "      --disabled-fill-color: #AAA;\n",
              "      --disabled-bg-color: #DDD;\n",
              "  }\n",
              "\n",
              "  [theme=dark] .colab-df-quickchart {\n",
              "      --bg-color: #3B4455;\n",
              "      --fill-color: #D2E3FC;\n",
              "      --hover-bg-color: #434B5C;\n",
              "      --hover-fill-color: #FFFFFF;\n",
              "      --disabled-bg-color: #3B4455;\n",
              "      --disabled-fill-color: #666;\n",
              "  }\n",
              "\n",
              "  .colab-df-quickchart {\n",
              "    background-color: var(--bg-color);\n",
              "    border: none;\n",
              "    border-radius: 50%;\n",
              "    cursor: pointer;\n",
              "    display: none;\n",
              "    fill: var(--fill-color);\n",
              "    height: 32px;\n",
              "    padding: 0;\n",
              "    width: 32px;\n",
              "  }\n",
              "\n",
              "  .colab-df-quickchart:hover {\n",
              "    background-color: var(--hover-bg-color);\n",
              "    box-shadow: 0 1px 2px rgba(60, 64, 67, 0.3), 0 1px 3px 1px rgba(60, 64, 67, 0.15);\n",
              "    fill: var(--button-hover-fill-color);\n",
              "  }\n",
              "\n",
              "  .colab-df-quickchart-complete:disabled,\n",
              "  .colab-df-quickchart-complete:disabled:hover {\n",
              "    background-color: var(--disabled-bg-color);\n",
              "    fill: var(--disabled-fill-color);\n",
              "    box-shadow: none;\n",
              "  }\n",
              "\n",
              "  .colab-df-spinner {\n",
              "    border: 2px solid var(--fill-color);\n",
              "    border-color: transparent;\n",
              "    border-bottom-color: var(--fill-color);\n",
              "    animation:\n",
              "      spin 1s steps(1) infinite;\n",
              "  }\n",
              "\n",
              "  @keyframes spin {\n",
              "    0% {\n",
              "      border-color: transparent;\n",
              "      border-bottom-color: var(--fill-color);\n",
              "      border-left-color: var(--fill-color);\n",
              "    }\n",
              "    20% {\n",
              "      border-color: transparent;\n",
              "      border-left-color: var(--fill-color);\n",
              "      border-top-color: var(--fill-color);\n",
              "    }\n",
              "    30% {\n",
              "      border-color: transparent;\n",
              "      border-left-color: var(--fill-color);\n",
              "      border-top-color: var(--fill-color);\n",
              "      border-right-color: var(--fill-color);\n",
              "    }\n",
              "    40% {\n",
              "      border-color: transparent;\n",
              "      border-right-color: var(--fill-color);\n",
              "      border-top-color: var(--fill-color);\n",
              "    }\n",
              "    60% {\n",
              "      border-color: transparent;\n",
              "      border-right-color: var(--fill-color);\n",
              "    }\n",
              "    80% {\n",
              "      border-color: transparent;\n",
              "      border-right-color: var(--fill-color);\n",
              "      border-bottom-color: var(--fill-color);\n",
              "    }\n",
              "    90% {\n",
              "      border-color: transparent;\n",
              "      border-bottom-color: var(--fill-color);\n",
              "    }\n",
              "  }\n",
              "</style>\n",
              "\n",
              "  <script>\n",
              "    async function quickchart(key) {\n",
              "      const quickchartButtonEl =\n",
              "        document.querySelector('#' + key + ' button');\n",
              "      quickchartButtonEl.disabled = true;  // To prevent multiple clicks.\n",
              "      quickchartButtonEl.classList.add('colab-df-spinner');\n",
              "      try {\n",
              "        const charts = await google.colab.kernel.invokeFunction(\n",
              "            'suggestCharts', [key], {});\n",
              "      } catch (error) {\n",
              "        console.error('Error during call to suggestCharts:', error);\n",
              "      }\n",
              "      quickchartButtonEl.classList.remove('colab-df-spinner');\n",
              "      quickchartButtonEl.classList.add('colab-df-quickchart-complete');\n",
              "    }\n",
              "    (() => {\n",
              "      let quickchartButtonEl =\n",
              "        document.querySelector('#df-b19baba0-82fa-4e17-a084-5ce76fdee5ee button');\n",
              "      quickchartButtonEl.style.display =\n",
              "        google.colab.kernel.accessAllowed ? 'block' : 'none';\n",
              "    })();\n",
              "  </script>\n",
              "</div>\n",
              "\n",
              "  <div id=\"id_6c1d60e9-7f56-48b9-b884-f6f36fd346e8\">\n",
              "    <style>\n",
              "      .colab-df-generate {\n",
              "        background-color: #E8F0FE;\n",
              "        border: none;\n",
              "        border-radius: 50%;\n",
              "        cursor: pointer;\n",
              "        display: none;\n",
              "        fill: #1967D2;\n",
              "        height: 32px;\n",
              "        padding: 0 0 0 0;\n",
              "        width: 32px;\n",
              "      }\n",
              "\n",
              "      .colab-df-generate:hover {\n",
              "        background-color: #E2EBFA;\n",
              "        box-shadow: 0px 1px 2px rgba(60, 64, 67, 0.3), 0px 1px 3px 1px rgba(60, 64, 67, 0.15);\n",
              "        fill: #174EA6;\n",
              "      }\n",
              "\n",
              "      [theme=dark] .colab-df-generate {\n",
              "        background-color: #3B4455;\n",
              "        fill: #D2E3FC;\n",
              "      }\n",
              "\n",
              "      [theme=dark] .colab-df-generate:hover {\n",
              "        background-color: #434B5C;\n",
              "        box-shadow: 0px 1px 3px 1px rgba(0, 0, 0, 0.15);\n",
              "        filter: drop-shadow(0px 1px 2px rgba(0, 0, 0, 0.3));\n",
              "        fill: #FFFFFF;\n",
              "      }\n",
              "    </style>\n",
              "    <button class=\"colab-df-generate\" onclick=\"generateWithVariable('rate_train')\"\n",
              "            title=\"Generate code using this dataframe.\"\n",
              "            style=\"display:none;\">\n",
              "\n",
              "  <svg xmlns=\"http://www.w3.org/2000/svg\" height=\"24px\"viewBox=\"0 0 24 24\"\n",
              "       width=\"24px\">\n",
              "    <path d=\"M7,19H8.4L18.45,9,17,7.55,7,17.6ZM5,21V16.75L18.45,3.32a2,2,0,0,1,2.83,0l1.4,1.43a1.91,1.91,0,0,1,.58,1.4,1.91,1.91,0,0,1-.58,1.4L9.25,21ZM18.45,9,17,7.55Zm-12,3A5.31,5.31,0,0,0,4.9,8.1,5.31,5.31,0,0,0,1,6.5,5.31,5.31,0,0,0,4.9,4.9,5.31,5.31,0,0,0,6.5,1,5.31,5.31,0,0,0,8.1,4.9,5.31,5.31,0,0,0,12,6.5,5.46,5.46,0,0,0,6.5,12Z\"/>\n",
              "  </svg>\n",
              "    </button>\n",
              "    <script>\n",
              "      (() => {\n",
              "      const buttonEl =\n",
              "        document.querySelector('#id_6c1d60e9-7f56-48b9-b884-f6f36fd346e8 button.colab-df-generate');\n",
              "      buttonEl.style.display =\n",
              "        google.colab.kernel.accessAllowed ? 'block' : 'none';\n",
              "\n",
              "      buttonEl.onclick = () => {\n",
              "        google.colab.notebook.generateWithVariable('rate_train');\n",
              "      }\n",
              "      })();\n",
              "    </script>\n",
              "  </div>\n",
              "\n",
              "    </div>\n",
              "  </div>\n"
            ],
            "application/vnd.google.colaboratory.intrinsic+json": {
              "type": "dataframe",
              "variable_name": "rate_train"
            }
          },
          "metadata": {},
          "execution_count": 26
        }
      ]
    },
    {
      "cell_type": "code",
      "source": [
        "rate_test"
      ],
      "metadata": {
        "execution": {
          "iopub.status.busy": "2022-08-27T02:23:17.462821Z",
          "iopub.execute_input": "2022-08-27T02:23:17.463431Z",
          "iopub.status.idle": "2022-08-27T02:23:17.480108Z",
          "shell.execute_reply.started": "2022-08-27T02:23:17.463329Z",
          "shell.execute_reply": "2022-08-27T02:23:17.479199Z"
        },
        "trusted": true,
        "id": "SGxp5ThV_x6q",
        "outputId": "fd383bae-260f-459a-dce5-346f18a7a829",
        "colab": {
          "base_uri": "https://localhost:8080/",
          "height": 423
        }
      },
      "execution_count": null,
      "outputs": [
        {
          "output_type": "execute_result",
          "data": {
            "text/plain": [
              "        CustomerID  ProductID  Rate\n",
              "104604      103415        266     3\n",
              "104605      103687        419     4\n",
              "104606      103730        603     2\n",
              "104607      103862        372     2\n",
              "104608       14902        166     1\n",
              "...            ...        ...   ...\n",
              "130749      103907        501     1\n",
              "130750      103907        200     1\n",
              "130751      103907        184     1\n",
              "130752      103907        211     1\n",
              "130753      103907        166     1\n",
              "\n",
              "[26150 rows x 3 columns]"
            ],
            "text/html": [
              "\n",
              "  <div id=\"df-62d6a819-cdef-47e3-ba9a-3d8cc8014edb\" class=\"colab-df-container\">\n",
              "    <div>\n",
              "<style scoped>\n",
              "    .dataframe tbody tr th:only-of-type {\n",
              "        vertical-align: middle;\n",
              "    }\n",
              "\n",
              "    .dataframe tbody tr th {\n",
              "        vertical-align: top;\n",
              "    }\n",
              "\n",
              "    .dataframe thead th {\n",
              "        text-align: right;\n",
              "    }\n",
              "</style>\n",
              "<table border=\"1\" class=\"dataframe\">\n",
              "  <thead>\n",
              "    <tr style=\"text-align: right;\">\n",
              "      <th></th>\n",
              "      <th>CustomerID</th>\n",
              "      <th>ProductID</th>\n",
              "      <th>Rate</th>\n",
              "    </tr>\n",
              "  </thead>\n",
              "  <tbody>\n",
              "    <tr>\n",
              "      <th>104604</th>\n",
              "      <td>103415</td>\n",
              "      <td>266</td>\n",
              "      <td>3</td>\n",
              "    </tr>\n",
              "    <tr>\n",
              "      <th>104605</th>\n",
              "      <td>103687</td>\n",
              "      <td>419</td>\n",
              "      <td>4</td>\n",
              "    </tr>\n",
              "    <tr>\n",
              "      <th>104606</th>\n",
              "      <td>103730</td>\n",
              "      <td>603</td>\n",
              "      <td>2</td>\n",
              "    </tr>\n",
              "    <tr>\n",
              "      <th>104607</th>\n",
              "      <td>103862</td>\n",
              "      <td>372</td>\n",
              "      <td>2</td>\n",
              "    </tr>\n",
              "    <tr>\n",
              "      <th>104608</th>\n",
              "      <td>14902</td>\n",
              "      <td>166</td>\n",
              "      <td>1</td>\n",
              "    </tr>\n",
              "    <tr>\n",
              "      <th>...</th>\n",
              "      <td>...</td>\n",
              "      <td>...</td>\n",
              "      <td>...</td>\n",
              "    </tr>\n",
              "    <tr>\n",
              "      <th>130749</th>\n",
              "      <td>103907</td>\n",
              "      <td>501</td>\n",
              "      <td>1</td>\n",
              "    </tr>\n",
              "    <tr>\n",
              "      <th>130750</th>\n",
              "      <td>103907</td>\n",
              "      <td>200</td>\n",
              "      <td>1</td>\n",
              "    </tr>\n",
              "    <tr>\n",
              "      <th>130751</th>\n",
              "      <td>103907</td>\n",
              "      <td>184</td>\n",
              "      <td>1</td>\n",
              "    </tr>\n",
              "    <tr>\n",
              "      <th>130752</th>\n",
              "      <td>103907</td>\n",
              "      <td>211</td>\n",
              "      <td>1</td>\n",
              "    </tr>\n",
              "    <tr>\n",
              "      <th>130753</th>\n",
              "      <td>103907</td>\n",
              "      <td>166</td>\n",
              "      <td>1</td>\n",
              "    </tr>\n",
              "  </tbody>\n",
              "</table>\n",
              "<p>26150 rows × 3 columns</p>\n",
              "</div>\n",
              "    <div class=\"colab-df-buttons\">\n",
              "\n",
              "  <div class=\"colab-df-container\">\n",
              "    <button class=\"colab-df-convert\" onclick=\"convertToInteractive('df-62d6a819-cdef-47e3-ba9a-3d8cc8014edb')\"\n",
              "            title=\"Convert this dataframe to an interactive table.\"\n",
              "            style=\"display:none;\">\n",
              "\n",
              "  <svg xmlns=\"http://www.w3.org/2000/svg\" height=\"24px\" viewBox=\"0 -960 960 960\">\n",
              "    <path d=\"M120-120v-720h720v720H120Zm60-500h600v-160H180v160Zm220 220h160v-160H400v160Zm0 220h160v-160H400v160ZM180-400h160v-160H180v160Zm440 0h160v-160H620v160ZM180-180h160v-160H180v160Zm440 0h160v-160H620v160Z\"/>\n",
              "  </svg>\n",
              "    </button>\n",
              "\n",
              "  <style>\n",
              "    .colab-df-container {\n",
              "      display:flex;\n",
              "      gap: 12px;\n",
              "    }\n",
              "\n",
              "    .colab-df-convert {\n",
              "      background-color: #E8F0FE;\n",
              "      border: none;\n",
              "      border-radius: 50%;\n",
              "      cursor: pointer;\n",
              "      display: none;\n",
              "      fill: #1967D2;\n",
              "      height: 32px;\n",
              "      padding: 0 0 0 0;\n",
              "      width: 32px;\n",
              "    }\n",
              "\n",
              "    .colab-df-convert:hover {\n",
              "      background-color: #E2EBFA;\n",
              "      box-shadow: 0px 1px 2px rgba(60, 64, 67, 0.3), 0px 1px 3px 1px rgba(60, 64, 67, 0.15);\n",
              "      fill: #174EA6;\n",
              "    }\n",
              "\n",
              "    .colab-df-buttons div {\n",
              "      margin-bottom: 4px;\n",
              "    }\n",
              "\n",
              "    [theme=dark] .colab-df-convert {\n",
              "      background-color: #3B4455;\n",
              "      fill: #D2E3FC;\n",
              "    }\n",
              "\n",
              "    [theme=dark] .colab-df-convert:hover {\n",
              "      background-color: #434B5C;\n",
              "      box-shadow: 0px 1px 3px 1px rgba(0, 0, 0, 0.15);\n",
              "      filter: drop-shadow(0px 1px 2px rgba(0, 0, 0, 0.3));\n",
              "      fill: #FFFFFF;\n",
              "    }\n",
              "  </style>\n",
              "\n",
              "    <script>\n",
              "      const buttonEl =\n",
              "        document.querySelector('#df-62d6a819-cdef-47e3-ba9a-3d8cc8014edb button.colab-df-convert');\n",
              "      buttonEl.style.display =\n",
              "        google.colab.kernel.accessAllowed ? 'block' : 'none';\n",
              "\n",
              "      async function convertToInteractive(key) {\n",
              "        const element = document.querySelector('#df-62d6a819-cdef-47e3-ba9a-3d8cc8014edb');\n",
              "        const dataTable =\n",
              "          await google.colab.kernel.invokeFunction('convertToInteractive',\n",
              "                                                    [key], {});\n",
              "        if (!dataTable) return;\n",
              "\n",
              "        const docLinkHtml = 'Like what you see? Visit the ' +\n",
              "          '<a target=\"_blank\" href=https://colab.research.google.com/notebooks/data_table.ipynb>data table notebook</a>'\n",
              "          + ' to learn more about interactive tables.';\n",
              "        element.innerHTML = '';\n",
              "        dataTable['output_type'] = 'display_data';\n",
              "        await google.colab.output.renderOutput(dataTable, element);\n",
              "        const docLink = document.createElement('div');\n",
              "        docLink.innerHTML = docLinkHtml;\n",
              "        element.appendChild(docLink);\n",
              "      }\n",
              "    </script>\n",
              "  </div>\n",
              "\n",
              "\n",
              "<div id=\"df-94804ff6-3d4c-4210-b2cd-846c16561698\">\n",
              "  <button class=\"colab-df-quickchart\" onclick=\"quickchart('df-94804ff6-3d4c-4210-b2cd-846c16561698')\"\n",
              "            title=\"Suggest charts\"\n",
              "            style=\"display:none;\">\n",
              "\n",
              "<svg xmlns=\"http://www.w3.org/2000/svg\" height=\"24px\"viewBox=\"0 0 24 24\"\n",
              "     width=\"24px\">\n",
              "    <g>\n",
              "        <path d=\"M19 3H5c-1.1 0-2 .9-2 2v14c0 1.1.9 2 2 2h14c1.1 0 2-.9 2-2V5c0-1.1-.9-2-2-2zM9 17H7v-7h2v7zm4 0h-2V7h2v10zm4 0h-2v-4h2v4z\"/>\n",
              "    </g>\n",
              "</svg>\n",
              "  </button>\n",
              "\n",
              "<style>\n",
              "  .colab-df-quickchart {\n",
              "      --bg-color: #E8F0FE;\n",
              "      --fill-color: #1967D2;\n",
              "      --hover-bg-color: #E2EBFA;\n",
              "      --hover-fill-color: #174EA6;\n",
              "      --disabled-fill-color: #AAA;\n",
              "      --disabled-bg-color: #DDD;\n",
              "  }\n",
              "\n",
              "  [theme=dark] .colab-df-quickchart {\n",
              "      --bg-color: #3B4455;\n",
              "      --fill-color: #D2E3FC;\n",
              "      --hover-bg-color: #434B5C;\n",
              "      --hover-fill-color: #FFFFFF;\n",
              "      --disabled-bg-color: #3B4455;\n",
              "      --disabled-fill-color: #666;\n",
              "  }\n",
              "\n",
              "  .colab-df-quickchart {\n",
              "    background-color: var(--bg-color);\n",
              "    border: none;\n",
              "    border-radius: 50%;\n",
              "    cursor: pointer;\n",
              "    display: none;\n",
              "    fill: var(--fill-color);\n",
              "    height: 32px;\n",
              "    padding: 0;\n",
              "    width: 32px;\n",
              "  }\n",
              "\n",
              "  .colab-df-quickchart:hover {\n",
              "    background-color: var(--hover-bg-color);\n",
              "    box-shadow: 0 1px 2px rgba(60, 64, 67, 0.3), 0 1px 3px 1px rgba(60, 64, 67, 0.15);\n",
              "    fill: var(--button-hover-fill-color);\n",
              "  }\n",
              "\n",
              "  .colab-df-quickchart-complete:disabled,\n",
              "  .colab-df-quickchart-complete:disabled:hover {\n",
              "    background-color: var(--disabled-bg-color);\n",
              "    fill: var(--disabled-fill-color);\n",
              "    box-shadow: none;\n",
              "  }\n",
              "\n",
              "  .colab-df-spinner {\n",
              "    border: 2px solid var(--fill-color);\n",
              "    border-color: transparent;\n",
              "    border-bottom-color: var(--fill-color);\n",
              "    animation:\n",
              "      spin 1s steps(1) infinite;\n",
              "  }\n",
              "\n",
              "  @keyframes spin {\n",
              "    0% {\n",
              "      border-color: transparent;\n",
              "      border-bottom-color: var(--fill-color);\n",
              "      border-left-color: var(--fill-color);\n",
              "    }\n",
              "    20% {\n",
              "      border-color: transparent;\n",
              "      border-left-color: var(--fill-color);\n",
              "      border-top-color: var(--fill-color);\n",
              "    }\n",
              "    30% {\n",
              "      border-color: transparent;\n",
              "      border-left-color: var(--fill-color);\n",
              "      border-top-color: var(--fill-color);\n",
              "      border-right-color: var(--fill-color);\n",
              "    }\n",
              "    40% {\n",
              "      border-color: transparent;\n",
              "      border-right-color: var(--fill-color);\n",
              "      border-top-color: var(--fill-color);\n",
              "    }\n",
              "    60% {\n",
              "      border-color: transparent;\n",
              "      border-right-color: var(--fill-color);\n",
              "    }\n",
              "    80% {\n",
              "      border-color: transparent;\n",
              "      border-right-color: var(--fill-color);\n",
              "      border-bottom-color: var(--fill-color);\n",
              "    }\n",
              "    90% {\n",
              "      border-color: transparent;\n",
              "      border-bottom-color: var(--fill-color);\n",
              "    }\n",
              "  }\n",
              "</style>\n",
              "\n",
              "  <script>\n",
              "    async function quickchart(key) {\n",
              "      const quickchartButtonEl =\n",
              "        document.querySelector('#' + key + ' button');\n",
              "      quickchartButtonEl.disabled = true;  // To prevent multiple clicks.\n",
              "      quickchartButtonEl.classList.add('colab-df-spinner');\n",
              "      try {\n",
              "        const charts = await google.colab.kernel.invokeFunction(\n",
              "            'suggestCharts', [key], {});\n",
              "      } catch (error) {\n",
              "        console.error('Error during call to suggestCharts:', error);\n",
              "      }\n",
              "      quickchartButtonEl.classList.remove('colab-df-spinner');\n",
              "      quickchartButtonEl.classList.add('colab-df-quickchart-complete');\n",
              "    }\n",
              "    (() => {\n",
              "      let quickchartButtonEl =\n",
              "        document.querySelector('#df-94804ff6-3d4c-4210-b2cd-846c16561698 button');\n",
              "      quickchartButtonEl.style.display =\n",
              "        google.colab.kernel.accessAllowed ? 'block' : 'none';\n",
              "    })();\n",
              "  </script>\n",
              "</div>\n",
              "\n",
              "  <div id=\"id_039aaa7c-354a-4dc2-843b-d086f9c25e94\">\n",
              "    <style>\n",
              "      .colab-df-generate {\n",
              "        background-color: #E8F0FE;\n",
              "        border: none;\n",
              "        border-radius: 50%;\n",
              "        cursor: pointer;\n",
              "        display: none;\n",
              "        fill: #1967D2;\n",
              "        height: 32px;\n",
              "        padding: 0 0 0 0;\n",
              "        width: 32px;\n",
              "      }\n",
              "\n",
              "      .colab-df-generate:hover {\n",
              "        background-color: #E2EBFA;\n",
              "        box-shadow: 0px 1px 2px rgba(60, 64, 67, 0.3), 0px 1px 3px 1px rgba(60, 64, 67, 0.15);\n",
              "        fill: #174EA6;\n",
              "      }\n",
              "\n",
              "      [theme=dark] .colab-df-generate {\n",
              "        background-color: #3B4455;\n",
              "        fill: #D2E3FC;\n",
              "      }\n",
              "\n",
              "      [theme=dark] .colab-df-generate:hover {\n",
              "        background-color: #434B5C;\n",
              "        box-shadow: 0px 1px 3px 1px rgba(0, 0, 0, 0.15);\n",
              "        filter: drop-shadow(0px 1px 2px rgba(0, 0, 0, 0.3));\n",
              "        fill: #FFFFFF;\n",
              "      }\n",
              "    </style>\n",
              "    <button class=\"colab-df-generate\" onclick=\"generateWithVariable('rate_test')\"\n",
              "            title=\"Generate code using this dataframe.\"\n",
              "            style=\"display:none;\">\n",
              "\n",
              "  <svg xmlns=\"http://www.w3.org/2000/svg\" height=\"24px\"viewBox=\"0 0 24 24\"\n",
              "       width=\"24px\">\n",
              "    <path d=\"M7,19H8.4L18.45,9,17,7.55,7,17.6ZM5,21V16.75L18.45,3.32a2,2,0,0,1,2.83,0l1.4,1.43a1.91,1.91,0,0,1,.58,1.4,1.91,1.91,0,0,1-.58,1.4L9.25,21ZM18.45,9,17,7.55Zm-12,3A5.31,5.31,0,0,0,4.9,8.1,5.31,5.31,0,0,0,1,6.5,5.31,5.31,0,0,0,4.9,4.9,5.31,5.31,0,0,0,6.5,1,5.31,5.31,0,0,0,8.1,4.9,5.31,5.31,0,0,0,12,6.5,5.46,5.46,0,0,0,6.5,12Z\"/>\n",
              "  </svg>\n",
              "    </button>\n",
              "    <script>\n",
              "      (() => {\n",
              "      const buttonEl =\n",
              "        document.querySelector('#id_039aaa7c-354a-4dc2-843b-d086f9c25e94 button.colab-df-generate');\n",
              "      buttonEl.style.display =\n",
              "        google.colab.kernel.accessAllowed ? 'block' : 'none';\n",
              "\n",
              "      buttonEl.onclick = () => {\n",
              "        google.colab.notebook.generateWithVariable('rate_test');\n",
              "      }\n",
              "      })();\n",
              "    </script>\n",
              "  </div>\n",
              "\n",
              "    </div>\n",
              "  </div>\n"
            ],
            "application/vnd.google.colaboratory.intrinsic+json": {
              "type": "dataframe",
              "variable_name": "rate_test",
              "summary": "{\n  \"name\": \"rate_test\",\n  \"rows\": 26150,\n  \"fields\": [\n    {\n      \"column\": \"CustomerID\",\n      \"properties\": {\n        \"dtype\": \"number\",\n        \"std\": 18174,\n        \"min\": 3,\n        \"max\": 103997,\n        \"num_unique_values\": 344,\n        \"samples\": [\n          103596,\n          103368,\n          103451\n        ],\n        \"semantic_type\": \"\",\n        \"description\": \"\"\n      }\n    },\n    {\n      \"column\": \"ProductID\",\n      \"properties\": {\n        \"dtype\": \"number\",\n        \"std\": 199,\n        \"min\": 1,\n        \"max\": 691,\n        \"num_unique_values\": 691,\n        \"samples\": [\n          645,\n          293,\n          79\n        ],\n        \"semantic_type\": \"\",\n        \"description\": \"\"\n      }\n    },\n    {\n      \"column\": \"Rate\",\n      \"properties\": {\n        \"dtype\": \"number\",\n        \"std\": 1,\n        \"min\": 1,\n        \"max\": 5,\n        \"num_unique_values\": 5,\n        \"samples\": [\n          4,\n          5,\n          2\n        ],\n        \"semantic_type\": \"\",\n        \"description\": \"\"\n      }\n    }\n  ]\n}"
            }
          },
          "metadata": {},
          "execution_count": 27
        }
      ]
    },
    {
      "cell_type": "code",
      "source": [
        "train_Dataset = train_Dataset.build_full_trainset()"
      ],
      "metadata": {
        "execution": {
          "iopub.status.busy": "2022-08-27T02:24:54.974692Z",
          "iopub.execute_input": "2022-08-27T02:24:54.975249Z",
          "iopub.status.idle": "2022-08-27T02:24:55.072952Z",
          "shell.execute_reply.started": "2022-08-27T02:24:54.975205Z",
          "shell.execute_reply": "2022-08-27T02:24:55.071966Z"
        },
        "trusted": true,
        "id": "nh8RmYLc_x6q"
      },
      "execution_count": null,
      "outputs": []
    },
    {
      "cell_type": "code",
      "source": [
        "algo = KNNBaseline()\n",
        "algo.fit(train_Dataset)\n"
      ],
      "metadata": {
        "execution": {
          "iopub.status.busy": "2022-08-27T02:26:08.456889Z",
          "iopub.execute_input": "2022-08-27T02:26:08.457367Z",
          "iopub.status.idle": "2022-08-27T02:26:09.293022Z",
          "shell.execute_reply.started": "2022-08-27T02:26:08.457324Z",
          "shell.execute_reply": "2022-08-27T02:26:09.292195Z"
        },
        "trusted": true,
        "id": "nQAZn4si_x6r",
        "outputId": "3dc9cf01-e17c-4f18-d767-062f12787bb2",
        "colab": {
          "base_uri": "https://localhost:8080/"
        }
      },
      "execution_count": null,
      "outputs": [
        {
          "output_type": "stream",
          "name": "stdout",
          "text": [
            "Estimating biases using als...\n",
            "Computing the msd similarity matrix...\n",
            "Done computing similarity matrix.\n"
          ]
        },
        {
          "output_type": "execute_result",
          "data": {
            "text/plain": [
              "<surprise.prediction_algorithms.knns.KNNBaseline at 0x7c95dca4f8b0>"
            ]
          },
          "metadata": {},
          "execution_count": 29
        }
      ]
    },
    {
      "cell_type": "code",
      "source": [
        "testset = [valid_Dataset.df.iloc[i].to_list() for i in range(len(valid_Dataset.df))]"
      ],
      "metadata": {
        "execution": {
          "iopub.status.busy": "2022-08-27T02:27:19.019218Z",
          "iopub.execute_input": "2022-08-27T02:27:19.019666Z",
          "iopub.status.idle": "2022-08-27T02:27:21.112355Z",
          "shell.execute_reply.started": "2022-08-27T02:27:19.01963Z",
          "shell.execute_reply": "2022-08-27T02:27:21.111196Z"
        },
        "trusted": true,
        "id": "FGaMU6Zy_x6r"
      },
      "execution_count": null,
      "outputs": []
    },
    {
      "cell_type": "code",
      "source": [
        "predictions=algo.test(testset)"
      ],
      "metadata": {
        "execution": {
          "iopub.status.busy": "2022-08-27T02:27:21.986644Z",
          "iopub.execute_input": "2022-08-27T02:27:21.987363Z",
          "iopub.status.idle": "2022-08-27T02:27:28.465578Z",
          "shell.execute_reply.started": "2022-08-27T02:27:21.987317Z",
          "shell.execute_reply": "2022-08-27T02:27:28.464541Z"
        },
        "trusted": true,
        "id": "wNiE-9op_x6r"
      },
      "execution_count": null,
      "outputs": []
    },
    {
      "cell_type": "code",
      "source": [
        "acrmse=accuracy.rmse(predictions)\n",
        "print(acrmse)\n",
        "\n",
        "acmse=accuracy.mse(predictions)\n",
        "print(acmse)\n",
        "\n",
        "acmae=accuracy.mae(predictions)\n",
        "print(acmae)"
      ],
      "metadata": {
        "execution": {
          "iopub.status.busy": "2022-08-27T02:27:31.245779Z",
          "iopub.execute_input": "2022-08-27T02:27:31.246233Z",
          "iopub.status.idle": "2022-08-27T02:27:31.315605Z",
          "shell.execute_reply.started": "2022-08-27T02:27:31.246195Z",
          "shell.execute_reply": "2022-08-27T02:27:31.314381Z"
        },
        "trusted": true,
        "id": "MregLY0D_x6r",
        "outputId": "9155c037-cb32-4e78-804f-07fb3cb65fc6",
        "colab": {
          "base_uri": "https://localhost:8080/"
        }
      },
      "execution_count": null,
      "outputs": [
        {
          "output_type": "stream",
          "name": "stdout",
          "text": [
            "RMSE: 1.0753\n",
            "1.0753009768574298\n",
            "MSE: 1.1563\n",
            "1.1562721908305427\n",
            "MAE:  0.7782\n",
            "0.7781571143764785\n"
          ]
        }
      ]
    },
    {
      "cell_type": "code",
      "source": [
        "prediction=algo.test([[103416,619,1]])"
      ],
      "metadata": {
        "execution": {
          "iopub.status.busy": "2022-08-27T02:27:40.477482Z",
          "iopub.execute_input": "2022-08-27T02:27:40.477942Z",
          "iopub.status.idle": "2022-08-27T02:27:40.484118Z",
          "shell.execute_reply.started": "2022-08-27T02:27:40.477904Z",
          "shell.execute_reply": "2022-08-27T02:27:40.482734Z"
        },
        "trusted": true,
        "id": "XqBTpCAY_x65"
      },
      "execution_count": null,
      "outputs": []
    },
    {
      "cell_type": "code",
      "source": [
        "prediction"
      ],
      "metadata": {
        "execution": {
          "iopub.status.busy": "2022-08-27T02:27:42.924032Z",
          "iopub.execute_input": "2022-08-27T02:27:42.924529Z",
          "iopub.status.idle": "2022-08-27T02:27:42.931325Z",
          "shell.execute_reply.started": "2022-08-27T02:27:42.924488Z",
          "shell.execute_reply": "2022-08-27T02:27:42.930184Z"
        },
        "trusted": true,
        "id": "8awZtyu2_x66",
        "outputId": "35c6692c-1fa0-432b-fa2b-e6846e4508ac",
        "colab": {
          "base_uri": "https://localhost:8080/"
        }
      },
      "execution_count": null,
      "outputs": [
        {
          "output_type": "execute_result",
          "data": {
            "text/plain": [
              "[Prediction(uid=103416, iid=619, r_ui=1, est=2.180316384116525, details={'actual_k': 40, 'was_impossible': False})]"
            ]
          },
          "metadata": {},
          "execution_count": 34
        }
      ]
    },
    {
      "cell_type": "code",
      "source": [
        "acrmse=accuracy.rmse(prediction)\n",
        "print(acrmse)"
      ],
      "metadata": {
        "execution": {
          "iopub.status.busy": "2022-08-27T02:28:07.11826Z",
          "iopub.execute_input": "2022-08-27T02:28:07.118798Z",
          "iopub.status.idle": "2022-08-27T02:28:07.125461Z",
          "shell.execute_reply.started": "2022-08-27T02:28:07.118755Z",
          "shell.execute_reply": "2022-08-27T02:28:07.124164Z"
        },
        "trusted": true,
        "id": "zM6yPJMP_x66",
        "outputId": "8871a9ac-f801-45de-f45e-379d6d09490d",
        "colab": {
          "base_uri": "https://localhost:8080/"
        }
      },
      "execution_count": null,
      "outputs": [
        {
          "output_type": "stream",
          "name": "stdout",
          "text": [
            "RMSE: 1.1803\n",
            "1.1803163841165252\n"
          ]
        }
      ]
    },
    {
      "cell_type": "code",
      "source": [
        "# Make sure these two are in the training focus , And the real value is 4\n",
        "uid = 103416 # user\n",
        "iid = 619 # goods\n",
        "# Get forecasts for specific users and items\n",
        "pred = algo.predict(uid, iid, r_ui=1, verbose=True)"
      ],
      "metadata": {
        "execution": {
          "iopub.status.busy": "2022-08-27T02:28:12.177635Z",
          "iopub.execute_input": "2022-08-27T02:28:12.17807Z",
          "iopub.status.idle": "2022-08-27T02:28:12.183946Z",
          "shell.execute_reply.started": "2022-08-27T02:28:12.178033Z",
          "shell.execute_reply": "2022-08-27T02:28:12.183033Z"
        },
        "trusted": true,
        "id": "nbO70UJM_x67",
        "outputId": "252c0c49-b163-4627-89af-d141acdcd310",
        "colab": {
          "base_uri": "https://localhost:8080/"
        }
      },
      "execution_count": null,
      "outputs": [
        {
          "output_type": "stream",
          "name": "stdout",
          "text": [
            "user: 103416     item: 619        r_ui = 1.00   est = 2.18   {'actual_k': 40, 'was_impossible': False}\n"
          ]
        }
      ]
    },
    {
      "cell_type": "code",
      "source": [
        "# Make sure these two are in the training focus , And the real value is 4\n",
        "uid = 103954 # user\n",
        "iid = 298 # goods\n",
        "# Get forecasts for specific users and items\n",
        "pred = algo.predict(uid, iid, r_ui=3, verbose=True)"
      ],
      "metadata": {
        "execution": {
          "iopub.status.busy": "2022-08-27T02:29:37.697681Z",
          "iopub.execute_input": "2022-08-27T02:29:37.698129Z",
          "iopub.status.idle": "2022-08-27T02:29:37.705107Z",
          "shell.execute_reply.started": "2022-08-27T02:29:37.698091Z",
          "shell.execute_reply": "2022-08-27T02:29:37.704115Z"
        },
        "trusted": true,
        "id": "fkhzwPqt_x67",
        "outputId": "ea88ec01-7683-42bc-e959-617e37d3291a",
        "colab": {
          "base_uri": "https://localhost:8080/"
        }
      },
      "execution_count": null,
      "outputs": [
        {
          "output_type": "stream",
          "name": "stdout",
          "text": [
            "user: 103954     item: 298        r_ui = 3.00   est = 3.26   {'actual_k': 40, 'was_impossible': False}\n"
          ]
        }
      ]
    },
    {
      "cell_type": "markdown",
      "source": [
        "https://surprise.readthedocs.io/en/stable/accuracy.html"
      ],
      "metadata": {
        "id": "5RqMU74F_x68"
      }
    }
  ]
}